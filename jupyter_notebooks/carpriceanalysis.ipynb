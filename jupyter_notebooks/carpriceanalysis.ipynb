{
  "cells": [
    {
      "cell_type": "markdown",
      "metadata": {
        "id": "0aStgWSO0E0E"
      },
      "source": [
        "# **(Car price prediction)**"
      ]
    },
    {
      "cell_type": "markdown",
      "metadata": {
        "id": "1eLEkw5O0ECa"
      },
      "source": [
        "## Objectives\n",
        "\n",
        "* Fetch data from Kaggle and save as raw data\n",
        "* Clean and transform the data\n",
        "* Load data into a suitable format for analysis\n",
        "* Ensure data quality and\n",
        "\n",
        "## Inputs\n",
        "\n",
        "* Using data from https://www.kaggle.com/datasets/hellbuoy/car-price-prediction \n",
        "\n",
        "## Outputs\n",
        "\n",
        "* The only file I generated through the notebook was cleandata.csv\n",
        "\n",
        "\n"
      ]
    },
    {
      "cell_type": "markdown",
      "metadata": {
        "id": "9uWZXH9LwoQg"
      },
      "source": [
        "---"
      ]
    },
    {
      "cell_type": "markdown",
      "metadata": {
        "id": "cqP-UeN-z3i2"
      },
      "source": [
        "# Change working directory"
      ]
    },
    {
      "cell_type": "markdown",
      "metadata": {},
      "source": [
        "* We are assuming you will store the notebooks in a subfolder, therefore when running the notebook in the editor, you will need to change the working directory"
      ]
    },
    {
      "cell_type": "markdown",
      "metadata": {
        "id": "aOGIGS-uz3i2"
      },
      "source": [
        "We need to change the working directory from its current folder to its parent folder\n",
        "* We access the current directory with os.getcwd()"
      ]
    },
    {
      "cell_type": "code",
      "execution_count": 1,
      "metadata": {
        "id": "wZfF_j-Bz3i4",
        "outputId": "66943449-1436-4c3d-85c7-b85f9f78349b"
      },
      "outputs": [
        {
          "data": {
            "text/plain": [
              "'/workspace/Hackathon1/jupyter_notebooks'"
            ]
          },
          "execution_count": 1,
          "metadata": {},
          "output_type": "execute_result"
        }
      ],
      "source": [
        "import os\n",
        "current_dir = os.getcwd()\n",
        "current_dir"
      ]
    },
    {
      "cell_type": "markdown",
      "metadata": {
        "id": "9MWW8E7lz3i7"
      },
      "source": [
        "We want to make the parent of the current directory the new current directory\n",
        "* os.path.dirname() gets the parent directory\n",
        "* os.chir() defines the new current directory"
      ]
    },
    {
      "cell_type": "code",
      "execution_count": 2,
      "metadata": {
        "id": "TwHsQRWjz3i9",
        "outputId": "86849db3-cd2f-4cc5-ebb8-2d0caafa1a2c"
      },
      "outputs": [
        {
          "name": "stdout",
          "output_type": "stream",
          "text": [
            "You set a new current directory\n"
          ]
        }
      ],
      "source": [
        "os.chdir(os.path.dirname(current_dir))\n",
        "print(\"You set a new current directory\")"
      ]
    },
    {
      "cell_type": "markdown",
      "metadata": {
        "id": "M_xPk_Ijz3i-"
      },
      "source": [
        "Confirm the new current directory"
      ]
    },
    {
      "cell_type": "code",
      "execution_count": 3,
      "metadata": {
        "id": "vz3S-_kjz3jA",
        "outputId": "00b79ae4-75d0-4a96-d193-ac9ef9847ea2"
      },
      "outputs": [
        {
          "data": {
            "text/plain": [
              "'/workspace/Hackathon1'"
            ]
          },
          "execution_count": 3,
          "metadata": {},
          "output_type": "execute_result"
        }
      ],
      "source": [
        "current_dir = os.getcwd()\n",
        "current_dir"
      ]
    },
    {
      "cell_type": "markdown",
      "metadata": {
        "id": "-mavJ8DibrcQ"
      },
      "source": [
        "# Section 1"
      ]
    },
    {
      "cell_type": "markdown",
      "metadata": {},
      "source": [
        "Extract data from dataset and begin cleaning"
      ]
    },
    {
      "cell_type": "code",
      "execution_count": 4,
      "metadata": {},
      "outputs": [
        {
          "data": {
            "text/html": [
              "<div>\n",
              "<style scoped>\n",
              "    .dataframe tbody tr th:only-of-type {\n",
              "        vertical-align: middle;\n",
              "    }\n",
              "\n",
              "    .dataframe tbody tr th {\n",
              "        vertical-align: top;\n",
              "    }\n",
              "\n",
              "    .dataframe thead th {\n",
              "        text-align: right;\n",
              "    }\n",
              "</style>\n",
              "<table border=\"1\" class=\"dataframe\">\n",
              "  <thead>\n",
              "    <tr style=\"text-align: right;\">\n",
              "      <th></th>\n",
              "      <th>car_ID</th>\n",
              "      <th>symboling</th>\n",
              "      <th>CarName</th>\n",
              "      <th>fueltype</th>\n",
              "      <th>aspiration</th>\n",
              "      <th>doornumber</th>\n",
              "      <th>carbody</th>\n",
              "      <th>drivewheel</th>\n",
              "      <th>enginelocation</th>\n",
              "      <th>wheelbase</th>\n",
              "      <th>...</th>\n",
              "      <th>enginesize</th>\n",
              "      <th>fuelsystem</th>\n",
              "      <th>boreratio</th>\n",
              "      <th>stroke</th>\n",
              "      <th>compressionratio</th>\n",
              "      <th>horsepower</th>\n",
              "      <th>peakrpm</th>\n",
              "      <th>citympg</th>\n",
              "      <th>highwaympg</th>\n",
              "      <th>price</th>\n",
              "    </tr>\n",
              "  </thead>\n",
              "  <tbody>\n",
              "    <tr>\n",
              "      <th>0</th>\n",
              "      <td>1</td>\n",
              "      <td>3</td>\n",
              "      <td>alfa-romero giulia</td>\n",
              "      <td>gas</td>\n",
              "      <td>std</td>\n",
              "      <td>two</td>\n",
              "      <td>convertible</td>\n",
              "      <td>rwd</td>\n",
              "      <td>front</td>\n",
              "      <td>88.6</td>\n",
              "      <td>...</td>\n",
              "      <td>130</td>\n",
              "      <td>mpfi</td>\n",
              "      <td>3.47</td>\n",
              "      <td>2.68</td>\n",
              "      <td>9.0</td>\n",
              "      <td>111</td>\n",
              "      <td>5000</td>\n",
              "      <td>21</td>\n",
              "      <td>27</td>\n",
              "      <td>13495.0</td>\n",
              "    </tr>\n",
              "    <tr>\n",
              "      <th>1</th>\n",
              "      <td>2</td>\n",
              "      <td>3</td>\n",
              "      <td>alfa-romero stelvio</td>\n",
              "      <td>gas</td>\n",
              "      <td>std</td>\n",
              "      <td>two</td>\n",
              "      <td>convertible</td>\n",
              "      <td>rwd</td>\n",
              "      <td>front</td>\n",
              "      <td>88.6</td>\n",
              "      <td>...</td>\n",
              "      <td>130</td>\n",
              "      <td>mpfi</td>\n",
              "      <td>3.47</td>\n",
              "      <td>2.68</td>\n",
              "      <td>9.0</td>\n",
              "      <td>111</td>\n",
              "      <td>5000</td>\n",
              "      <td>21</td>\n",
              "      <td>27</td>\n",
              "      <td>16500.0</td>\n",
              "    </tr>\n",
              "    <tr>\n",
              "      <th>2</th>\n",
              "      <td>3</td>\n",
              "      <td>1</td>\n",
              "      <td>alfa-romero Quadrifoglio</td>\n",
              "      <td>gas</td>\n",
              "      <td>std</td>\n",
              "      <td>two</td>\n",
              "      <td>hatchback</td>\n",
              "      <td>rwd</td>\n",
              "      <td>front</td>\n",
              "      <td>94.5</td>\n",
              "      <td>...</td>\n",
              "      <td>152</td>\n",
              "      <td>mpfi</td>\n",
              "      <td>2.68</td>\n",
              "      <td>3.47</td>\n",
              "      <td>9.0</td>\n",
              "      <td>154</td>\n",
              "      <td>5000</td>\n",
              "      <td>19</td>\n",
              "      <td>26</td>\n",
              "      <td>16500.0</td>\n",
              "    </tr>\n",
              "    <tr>\n",
              "      <th>3</th>\n",
              "      <td>4</td>\n",
              "      <td>2</td>\n",
              "      <td>audi 100 ls</td>\n",
              "      <td>gas</td>\n",
              "      <td>std</td>\n",
              "      <td>four</td>\n",
              "      <td>sedan</td>\n",
              "      <td>fwd</td>\n",
              "      <td>front</td>\n",
              "      <td>99.8</td>\n",
              "      <td>...</td>\n",
              "      <td>109</td>\n",
              "      <td>mpfi</td>\n",
              "      <td>3.19</td>\n",
              "      <td>3.40</td>\n",
              "      <td>10.0</td>\n",
              "      <td>102</td>\n",
              "      <td>5500</td>\n",
              "      <td>24</td>\n",
              "      <td>30</td>\n",
              "      <td>13950.0</td>\n",
              "    </tr>\n",
              "    <tr>\n",
              "      <th>4</th>\n",
              "      <td>5</td>\n",
              "      <td>2</td>\n",
              "      <td>audi 100ls</td>\n",
              "      <td>gas</td>\n",
              "      <td>std</td>\n",
              "      <td>four</td>\n",
              "      <td>sedan</td>\n",
              "      <td>4wd</td>\n",
              "      <td>front</td>\n",
              "      <td>99.4</td>\n",
              "      <td>...</td>\n",
              "      <td>136</td>\n",
              "      <td>mpfi</td>\n",
              "      <td>3.19</td>\n",
              "      <td>3.40</td>\n",
              "      <td>8.0</td>\n",
              "      <td>115</td>\n",
              "      <td>5500</td>\n",
              "      <td>18</td>\n",
              "      <td>22</td>\n",
              "      <td>17450.0</td>\n",
              "    </tr>\n",
              "  </tbody>\n",
              "</table>\n",
              "<p>5 rows × 26 columns</p>\n",
              "</div>"
            ],
            "text/plain": [
              "   car_ID  symboling                   CarName fueltype aspiration doornumber  \\\n",
              "0       1          3        alfa-romero giulia      gas        std        two   \n",
              "1       2          3       alfa-romero stelvio      gas        std        two   \n",
              "2       3          1  alfa-romero Quadrifoglio      gas        std        two   \n",
              "3       4          2               audi 100 ls      gas        std       four   \n",
              "4       5          2                audi 100ls      gas        std       four   \n",
              "\n",
              "       carbody drivewheel enginelocation  wheelbase  ...  enginesize  \\\n",
              "0  convertible        rwd          front       88.6  ...         130   \n",
              "1  convertible        rwd          front       88.6  ...         130   \n",
              "2    hatchback        rwd          front       94.5  ...         152   \n",
              "3        sedan        fwd          front       99.8  ...         109   \n",
              "4        sedan        4wd          front       99.4  ...         136   \n",
              "\n",
              "   fuelsystem  boreratio  stroke compressionratio horsepower  peakrpm citympg  \\\n",
              "0        mpfi       3.47    2.68              9.0        111     5000      21   \n",
              "1        mpfi       3.47    2.68              9.0        111     5000      21   \n",
              "2        mpfi       2.68    3.47              9.0        154     5000      19   \n",
              "3        mpfi       3.19    3.40             10.0        102     5500      24   \n",
              "4        mpfi       3.19    3.40              8.0        115     5500      18   \n",
              "\n",
              "   highwaympg    price  \n",
              "0          27  13495.0  \n",
              "1          27  16500.0  \n",
              "2          26  16500.0  \n",
              "3          30  13950.0  \n",
              "4          22  17450.0  \n",
              "\n",
              "[5 rows x 26 columns]"
            ]
          },
          "execution_count": 4,
          "metadata": {},
          "output_type": "execute_result"
        }
      ],
      "source": [
        "# Read csv file and output as pandas df \n",
        "\n",
        "import pandas as pd\n",
        "\n",
        "data = pd.read_csv('CarPrice_Assignment.csv')\n",
        "\n",
        "data.head()"
      ]
    },
    {
      "cell_type": "code",
      "execution_count": 5,
      "metadata": {},
      "outputs": [
        {
          "data": {
            "text/plain": [
              "car_ID              0\n",
              "symboling           0\n",
              "CarName             0\n",
              "fueltype            0\n",
              "aspiration          0\n",
              "doornumber          0\n",
              "carbody             0\n",
              "drivewheel          0\n",
              "enginelocation      0\n",
              "wheelbase           0\n",
              "carlength           0\n",
              "carwidth            0\n",
              "carheight           0\n",
              "curbweight          0\n",
              "enginetype          0\n",
              "cylindernumber      0\n",
              "enginesize          0\n",
              "fuelsystem          0\n",
              "boreratio           0\n",
              "stroke              0\n",
              "compressionratio    0\n",
              "horsepower          0\n",
              "peakrpm             0\n",
              "citympg             0\n",
              "highwaympg          0\n",
              "price               0\n",
              "dtype: int64"
            ]
          },
          "execution_count": 5,
          "metadata": {},
          "output_type": "execute_result"
        }
      ],
      "source": [
        "# Check for missing values \n",
        "\n",
        "data.isnull().sum()"
      ]
    },
    {
      "cell_type": "code",
      "execution_count": 6,
      "metadata": {},
      "outputs": [
        {
          "name": "stdout",
          "output_type": "stream",
          "text": [
            "<class 'pandas.core.frame.DataFrame'>\n",
            "RangeIndex: 205 entries, 0 to 204\n",
            "Data columns (total 26 columns):\n",
            " #   Column            Non-Null Count  Dtype  \n",
            "---  ------            --------------  -----  \n",
            " 0   car_ID            205 non-null    int64  \n",
            " 1   symboling         205 non-null    int64  \n",
            " 2   CarName           205 non-null    object \n",
            " 3   fueltype          205 non-null    object \n",
            " 4   aspiration        205 non-null    object \n",
            " 5   doornumber        205 non-null    object \n",
            " 6   carbody           205 non-null    object \n",
            " 7   drivewheel        205 non-null    object \n",
            " 8   enginelocation    205 non-null    object \n",
            " 9   wheelbase         205 non-null    float64\n",
            " 10  carlength         205 non-null    float64\n",
            " 11  carwidth          205 non-null    float64\n",
            " 12  carheight         205 non-null    float64\n",
            " 13  curbweight        205 non-null    int64  \n",
            " 14  enginetype        205 non-null    object \n",
            " 15  cylindernumber    205 non-null    object \n",
            " 16  enginesize        205 non-null    int64  \n",
            " 17  fuelsystem        205 non-null    object \n",
            " 18  boreratio         205 non-null    float64\n",
            " 19  stroke            205 non-null    float64\n",
            " 20  compressionratio  205 non-null    float64\n",
            " 21  horsepower        205 non-null    int64  \n",
            " 22  peakrpm           205 non-null    int64  \n",
            " 23  citympg           205 non-null    int64  \n",
            " 24  highwaympg        205 non-null    int64  \n",
            " 25  price             205 non-null    float64\n",
            "dtypes: float64(8), int64(8), object(10)\n",
            "memory usage: 41.8+ KB\n"
          ]
        }
      ],
      "source": [
        "# Inspect data types\n",
        "\n",
        "data.info()"
      ]
    },
    {
      "cell_type": "markdown",
      "metadata": {},
      "source": [
        "Deciding to drop columns that aren't relevant to car price, and removing others that are similar to each other in terms of how they could affect price(example: Wheelbase and carwidth)"
      ]
    },
    {
      "cell_type": "code",
      "execution_count": 7,
      "metadata": {},
      "outputs": [
        {
          "data": {
            "text/plain": [
              "front    202\n",
              "rear       3\n",
              "Name: enginelocation, dtype: int64"
            ]
          },
          "execution_count": 7,
          "metadata": {},
          "output_type": "execute_result"
        }
      ],
      "source": [
        "enginelocation_amount = data['enginelocation'].value_counts()\n",
        "enginelocation_amount"
      ]
    },
    {
      "cell_type": "code",
      "execution_count": 8,
      "metadata": {},
      "outputs": [
        {
          "data": {
            "text/html": [
              "<div>\n",
              "<style scoped>\n",
              "    .dataframe tbody tr th:only-of-type {\n",
              "        vertical-align: middle;\n",
              "    }\n",
              "\n",
              "    .dataframe tbody tr th {\n",
              "        vertical-align: top;\n",
              "    }\n",
              "\n",
              "    .dataframe thead th {\n",
              "        text-align: right;\n",
              "    }\n",
              "</style>\n",
              "<table border=\"1\" class=\"dataframe\">\n",
              "  <thead>\n",
              "    <tr style=\"text-align: right;\">\n",
              "      <th></th>\n",
              "      <th>car_ID</th>\n",
              "      <th>symboling</th>\n",
              "      <th>CarName</th>\n",
              "      <th>fueltype</th>\n",
              "      <th>aspiration</th>\n",
              "      <th>doornumber</th>\n",
              "      <th>carbody</th>\n",
              "      <th>drivewheel</th>\n",
              "      <th>enginelocation</th>\n",
              "      <th>wheelbase</th>\n",
              "      <th>...</th>\n",
              "      <th>enginesize</th>\n",
              "      <th>fuelsystem</th>\n",
              "      <th>boreratio</th>\n",
              "      <th>stroke</th>\n",
              "      <th>compressionratio</th>\n",
              "      <th>horsepower</th>\n",
              "      <th>peakrpm</th>\n",
              "      <th>citympg</th>\n",
              "      <th>highwaympg</th>\n",
              "      <th>price</th>\n",
              "    </tr>\n",
              "  </thead>\n",
              "  <tbody>\n",
              "    <tr>\n",
              "      <th>74</th>\n",
              "      <td>75</td>\n",
              "      <td>1</td>\n",
              "      <td>buick regal sport coupe (turbo)</td>\n",
              "      <td>gas</td>\n",
              "      <td>std</td>\n",
              "      <td>two</td>\n",
              "      <td>hardtop</td>\n",
              "      <td>rwd</td>\n",
              "      <td>front</td>\n",
              "      <td>112.0</td>\n",
              "      <td>...</td>\n",
              "      <td>304</td>\n",
              "      <td>mpfi</td>\n",
              "      <td>3.80</td>\n",
              "      <td>3.35</td>\n",
              "      <td>8.0</td>\n",
              "      <td>184</td>\n",
              "      <td>4500</td>\n",
              "      <td>14</td>\n",
              "      <td>16</td>\n",
              "      <td>45400.0</td>\n",
              "    </tr>\n",
              "    <tr>\n",
              "      <th>16</th>\n",
              "      <td>17</td>\n",
              "      <td>0</td>\n",
              "      <td>bmw x5</td>\n",
              "      <td>gas</td>\n",
              "      <td>std</td>\n",
              "      <td>two</td>\n",
              "      <td>sedan</td>\n",
              "      <td>rwd</td>\n",
              "      <td>front</td>\n",
              "      <td>103.5</td>\n",
              "      <td>...</td>\n",
              "      <td>209</td>\n",
              "      <td>mpfi</td>\n",
              "      <td>3.62</td>\n",
              "      <td>3.39</td>\n",
              "      <td>8.0</td>\n",
              "      <td>182</td>\n",
              "      <td>5400</td>\n",
              "      <td>16</td>\n",
              "      <td>22</td>\n",
              "      <td>41315.0</td>\n",
              "    </tr>\n",
              "    <tr>\n",
              "      <th>73</th>\n",
              "      <td>74</td>\n",
              "      <td>0</td>\n",
              "      <td>buick century special</td>\n",
              "      <td>gas</td>\n",
              "      <td>std</td>\n",
              "      <td>four</td>\n",
              "      <td>sedan</td>\n",
              "      <td>rwd</td>\n",
              "      <td>front</td>\n",
              "      <td>120.9</td>\n",
              "      <td>...</td>\n",
              "      <td>308</td>\n",
              "      <td>mpfi</td>\n",
              "      <td>3.80</td>\n",
              "      <td>3.35</td>\n",
              "      <td>8.0</td>\n",
              "      <td>184</td>\n",
              "      <td>4500</td>\n",
              "      <td>14</td>\n",
              "      <td>16</td>\n",
              "      <td>40960.0</td>\n",
              "    </tr>\n",
              "    <tr>\n",
              "      <th>128</th>\n",
              "      <td>129</td>\n",
              "      <td>3</td>\n",
              "      <td>porsche boxter</td>\n",
              "      <td>gas</td>\n",
              "      <td>std</td>\n",
              "      <td>two</td>\n",
              "      <td>convertible</td>\n",
              "      <td>rwd</td>\n",
              "      <td>rear</td>\n",
              "      <td>89.5</td>\n",
              "      <td>...</td>\n",
              "      <td>194</td>\n",
              "      <td>mpfi</td>\n",
              "      <td>3.74</td>\n",
              "      <td>2.90</td>\n",
              "      <td>9.5</td>\n",
              "      <td>207</td>\n",
              "      <td>5900</td>\n",
              "      <td>17</td>\n",
              "      <td>25</td>\n",
              "      <td>37028.0</td>\n",
              "    </tr>\n",
              "    <tr>\n",
              "      <th>17</th>\n",
              "      <td>18</td>\n",
              "      <td>0</td>\n",
              "      <td>bmw x3</td>\n",
              "      <td>gas</td>\n",
              "      <td>std</td>\n",
              "      <td>four</td>\n",
              "      <td>sedan</td>\n",
              "      <td>rwd</td>\n",
              "      <td>front</td>\n",
              "      <td>110.0</td>\n",
              "      <td>...</td>\n",
              "      <td>209</td>\n",
              "      <td>mpfi</td>\n",
              "      <td>3.62</td>\n",
              "      <td>3.39</td>\n",
              "      <td>8.0</td>\n",
              "      <td>182</td>\n",
              "      <td>5400</td>\n",
              "      <td>15</td>\n",
              "      <td>20</td>\n",
              "      <td>36880.0</td>\n",
              "    </tr>\n",
              "    <tr>\n",
              "      <th>49</th>\n",
              "      <td>50</td>\n",
              "      <td>0</td>\n",
              "      <td>jaguar xk</td>\n",
              "      <td>gas</td>\n",
              "      <td>std</td>\n",
              "      <td>two</td>\n",
              "      <td>sedan</td>\n",
              "      <td>rwd</td>\n",
              "      <td>front</td>\n",
              "      <td>102.0</td>\n",
              "      <td>...</td>\n",
              "      <td>326</td>\n",
              "      <td>mpfi</td>\n",
              "      <td>3.54</td>\n",
              "      <td>2.76</td>\n",
              "      <td>11.5</td>\n",
              "      <td>262</td>\n",
              "      <td>5000</td>\n",
              "      <td>13</td>\n",
              "      <td>17</td>\n",
              "      <td>36000.0</td>\n",
              "    </tr>\n",
              "    <tr>\n",
              "      <th>48</th>\n",
              "      <td>49</td>\n",
              "      <td>0</td>\n",
              "      <td>jaguar xf</td>\n",
              "      <td>gas</td>\n",
              "      <td>std</td>\n",
              "      <td>four</td>\n",
              "      <td>sedan</td>\n",
              "      <td>rwd</td>\n",
              "      <td>front</td>\n",
              "      <td>113.0</td>\n",
              "      <td>...</td>\n",
              "      <td>258</td>\n",
              "      <td>mpfi</td>\n",
              "      <td>3.63</td>\n",
              "      <td>4.17</td>\n",
              "      <td>8.1</td>\n",
              "      <td>176</td>\n",
              "      <td>4750</td>\n",
              "      <td>15</td>\n",
              "      <td>19</td>\n",
              "      <td>35550.0</td>\n",
              "    </tr>\n",
              "    <tr>\n",
              "      <th>72</th>\n",
              "      <td>73</td>\n",
              "      <td>3</td>\n",
              "      <td>buick skylark</td>\n",
              "      <td>gas</td>\n",
              "      <td>std</td>\n",
              "      <td>two</td>\n",
              "      <td>convertible</td>\n",
              "      <td>rwd</td>\n",
              "      <td>front</td>\n",
              "      <td>96.6</td>\n",
              "      <td>...</td>\n",
              "      <td>234</td>\n",
              "      <td>mpfi</td>\n",
              "      <td>3.46</td>\n",
              "      <td>3.10</td>\n",
              "      <td>8.3</td>\n",
              "      <td>155</td>\n",
              "      <td>4750</td>\n",
              "      <td>16</td>\n",
              "      <td>18</td>\n",
              "      <td>35056.0</td>\n",
              "    </tr>\n",
              "    <tr>\n",
              "      <th>71</th>\n",
              "      <td>72</td>\n",
              "      <td>-1</td>\n",
              "      <td>buick opel isuzu deluxe</td>\n",
              "      <td>gas</td>\n",
              "      <td>std</td>\n",
              "      <td>four</td>\n",
              "      <td>sedan</td>\n",
              "      <td>rwd</td>\n",
              "      <td>front</td>\n",
              "      <td>115.6</td>\n",
              "      <td>...</td>\n",
              "      <td>234</td>\n",
              "      <td>mpfi</td>\n",
              "      <td>3.46</td>\n",
              "      <td>3.10</td>\n",
              "      <td>8.3</td>\n",
              "      <td>155</td>\n",
              "      <td>4750</td>\n",
              "      <td>16</td>\n",
              "      <td>18</td>\n",
              "      <td>34184.0</td>\n",
              "    </tr>\n",
              "    <tr>\n",
              "      <th>127</th>\n",
              "      <td>128</td>\n",
              "      <td>3</td>\n",
              "      <td>porsche cayenne</td>\n",
              "      <td>gas</td>\n",
              "      <td>std</td>\n",
              "      <td>two</td>\n",
              "      <td>hardtop</td>\n",
              "      <td>rwd</td>\n",
              "      <td>rear</td>\n",
              "      <td>89.5</td>\n",
              "      <td>...</td>\n",
              "      <td>194</td>\n",
              "      <td>mpfi</td>\n",
              "      <td>3.74</td>\n",
              "      <td>2.90</td>\n",
              "      <td>9.5</td>\n",
              "      <td>207</td>\n",
              "      <td>5900</td>\n",
              "      <td>17</td>\n",
              "      <td>25</td>\n",
              "      <td>34028.0</td>\n",
              "    </tr>\n",
              "  </tbody>\n",
              "</table>\n",
              "<p>10 rows × 26 columns</p>\n",
              "</div>"
            ],
            "text/plain": [
              "     car_ID  symboling                          CarName fueltype aspiration  \\\n",
              "74       75          1  buick regal sport coupe (turbo)      gas        std   \n",
              "16       17          0                           bmw x5      gas        std   \n",
              "73       74          0            buick century special      gas        std   \n",
              "128     129          3                   porsche boxter      gas        std   \n",
              "17       18          0                           bmw x3      gas        std   \n",
              "49       50          0                        jaguar xk      gas        std   \n",
              "48       49          0                        jaguar xf      gas        std   \n",
              "72       73          3                    buick skylark      gas        std   \n",
              "71       72         -1          buick opel isuzu deluxe      gas        std   \n",
              "127     128          3                  porsche cayenne      gas        std   \n",
              "\n",
              "    doornumber      carbody drivewheel enginelocation  wheelbase  ...  \\\n",
              "74         two      hardtop        rwd          front      112.0  ...   \n",
              "16         two        sedan        rwd          front      103.5  ...   \n",
              "73        four        sedan        rwd          front      120.9  ...   \n",
              "128        two  convertible        rwd           rear       89.5  ...   \n",
              "17        four        sedan        rwd          front      110.0  ...   \n",
              "49         two        sedan        rwd          front      102.0  ...   \n",
              "48        four        sedan        rwd          front      113.0  ...   \n",
              "72         two  convertible        rwd          front       96.6  ...   \n",
              "71        four        sedan        rwd          front      115.6  ...   \n",
              "127        two      hardtop        rwd           rear       89.5  ...   \n",
              "\n",
              "     enginesize  fuelsystem  boreratio  stroke compressionratio horsepower  \\\n",
              "74          304        mpfi       3.80    3.35              8.0        184   \n",
              "16          209        mpfi       3.62    3.39              8.0        182   \n",
              "73          308        mpfi       3.80    3.35              8.0        184   \n",
              "128         194        mpfi       3.74    2.90              9.5        207   \n",
              "17          209        mpfi       3.62    3.39              8.0        182   \n",
              "49          326        mpfi       3.54    2.76             11.5        262   \n",
              "48          258        mpfi       3.63    4.17              8.1        176   \n",
              "72          234        mpfi       3.46    3.10              8.3        155   \n",
              "71          234        mpfi       3.46    3.10              8.3        155   \n",
              "127         194        mpfi       3.74    2.90              9.5        207   \n",
              "\n",
              "     peakrpm citympg  highwaympg    price  \n",
              "74      4500      14          16  45400.0  \n",
              "16      5400      16          22  41315.0  \n",
              "73      4500      14          16  40960.0  \n",
              "128     5900      17          25  37028.0  \n",
              "17      5400      15          20  36880.0  \n",
              "49      5000      13          17  36000.0  \n",
              "48      4750      15          19  35550.0  \n",
              "72      4750      16          18  35056.0  \n",
              "71      4750      16          18  34184.0  \n",
              "127     5900      17          25  34028.0  \n",
              "\n",
              "[10 rows x 26 columns]"
            ]
          },
          "execution_count": 8,
          "metadata": {},
          "output_type": "execute_result"
        }
      ],
      "source": [
        "sort_by_price = data.sort_values(by=['price'], ascending=False)\n",
        "sort_by_price.head(10)"
      ]
    },
    {
      "cell_type": "markdown",
      "metadata": {},
      "source": [
        "Decided to keep enginelocation for now as although there are only 3 values, 2 of those values are in the top 10 priced cars"
      ]
    },
    {
      "cell_type": "code",
      "execution_count": 9,
      "metadata": {},
      "outputs": [
        {
          "data": {
            "text/html": [
              "<div>\n",
              "<style scoped>\n",
              "    .dataframe tbody tr th:only-of-type {\n",
              "        vertical-align: middle;\n",
              "    }\n",
              "\n",
              "    .dataframe tbody tr th {\n",
              "        vertical-align: top;\n",
              "    }\n",
              "\n",
              "    .dataframe thead th {\n",
              "        text-align: right;\n",
              "    }\n",
              "</style>\n",
              "<table border=\"1\" class=\"dataframe\">\n",
              "  <thead>\n",
              "    <tr style=\"text-align: right;\">\n",
              "      <th></th>\n",
              "      <th>CarName</th>\n",
              "      <th>fueltype</th>\n",
              "      <th>carbody</th>\n",
              "      <th>drivewheel</th>\n",
              "      <th>enginelocation</th>\n",
              "      <th>wheelbase</th>\n",
              "      <th>curbweight</th>\n",
              "      <th>cylindernumber</th>\n",
              "      <th>horsepower</th>\n",
              "      <th>citympg</th>\n",
              "      <th>highwaympg</th>\n",
              "      <th>price</th>\n",
              "    </tr>\n",
              "  </thead>\n",
              "  <tbody>\n",
              "    <tr>\n",
              "      <th>0</th>\n",
              "      <td>alfa-romero giulia</td>\n",
              "      <td>gas</td>\n",
              "      <td>convertible</td>\n",
              "      <td>rwd</td>\n",
              "      <td>front</td>\n",
              "      <td>88.6</td>\n",
              "      <td>2548</td>\n",
              "      <td>four</td>\n",
              "      <td>111</td>\n",
              "      <td>21</td>\n",
              "      <td>27</td>\n",
              "      <td>13495.0</td>\n",
              "    </tr>\n",
              "    <tr>\n",
              "      <th>1</th>\n",
              "      <td>alfa-romero stelvio</td>\n",
              "      <td>gas</td>\n",
              "      <td>convertible</td>\n",
              "      <td>rwd</td>\n",
              "      <td>front</td>\n",
              "      <td>88.6</td>\n",
              "      <td>2548</td>\n",
              "      <td>four</td>\n",
              "      <td>111</td>\n",
              "      <td>21</td>\n",
              "      <td>27</td>\n",
              "      <td>16500.0</td>\n",
              "    </tr>\n",
              "    <tr>\n",
              "      <th>2</th>\n",
              "      <td>alfa-romero Quadrifoglio</td>\n",
              "      <td>gas</td>\n",
              "      <td>hatchback</td>\n",
              "      <td>rwd</td>\n",
              "      <td>front</td>\n",
              "      <td>94.5</td>\n",
              "      <td>2823</td>\n",
              "      <td>six</td>\n",
              "      <td>154</td>\n",
              "      <td>19</td>\n",
              "      <td>26</td>\n",
              "      <td>16500.0</td>\n",
              "    </tr>\n",
              "    <tr>\n",
              "      <th>3</th>\n",
              "      <td>audi 100 ls</td>\n",
              "      <td>gas</td>\n",
              "      <td>sedan</td>\n",
              "      <td>fwd</td>\n",
              "      <td>front</td>\n",
              "      <td>99.8</td>\n",
              "      <td>2337</td>\n",
              "      <td>four</td>\n",
              "      <td>102</td>\n",
              "      <td>24</td>\n",
              "      <td>30</td>\n",
              "      <td>13950.0</td>\n",
              "    </tr>\n",
              "    <tr>\n",
              "      <th>4</th>\n",
              "      <td>audi 100ls</td>\n",
              "      <td>gas</td>\n",
              "      <td>sedan</td>\n",
              "      <td>4wd</td>\n",
              "      <td>front</td>\n",
              "      <td>99.4</td>\n",
              "      <td>2824</td>\n",
              "      <td>five</td>\n",
              "      <td>115</td>\n",
              "      <td>18</td>\n",
              "      <td>22</td>\n",
              "      <td>17450.0</td>\n",
              "    </tr>\n",
              "  </tbody>\n",
              "</table>\n",
              "</div>"
            ],
            "text/plain": [
              "                    CarName fueltype      carbody drivewheel enginelocation  \\\n",
              "0        alfa-romero giulia      gas  convertible        rwd          front   \n",
              "1       alfa-romero stelvio      gas  convertible        rwd          front   \n",
              "2  alfa-romero Quadrifoglio      gas    hatchback        rwd          front   \n",
              "3               audi 100 ls      gas        sedan        fwd          front   \n",
              "4                audi 100ls      gas        sedan        4wd          front   \n",
              "\n",
              "   wheelbase  curbweight cylindernumber  horsepower  citympg  highwaympg  \\\n",
              "0       88.6        2548           four         111       21          27   \n",
              "1       88.6        2548           four         111       21          27   \n",
              "2       94.5        2823            six         154       19          26   \n",
              "3       99.8        2337           four         102       24          30   \n",
              "4       99.4        2824           five         115       18          22   \n",
              "\n",
              "     price  \n",
              "0  13495.0  \n",
              "1  16500.0  \n",
              "2  16500.0  \n",
              "3  13950.0  \n",
              "4  17450.0  "
            ]
          },
          "execution_count": 9,
          "metadata": {},
          "output_type": "execute_result"
        }
      ],
      "source": [
        "dropped_columns = ['car_ID', 'carwidth', 'carlength', 'carheight',\n",
        "                   'boreratio', 'stroke', 'compressionratio', 'peakrpm',\n",
        "                   'symboling', 'doornumber', 'fuelsystem', 'enginetype',\n",
        "                    'enginesize', 'fuelsystem', 'aspiration']\n",
        "data = data.drop(columns=dropped_columns, axis=1)\n",
        "data.head()"
      ]
    },
    {
      "cell_type": "markdown",
      "metadata": {},
      "source": [
        "- Removed car_ID as it is irrelevant to price\n",
        "- Removed car width/length/height as wheelbase and weight are going to be used for the size of the car\n",
        "- Removed boreratio, stroke, compressionratio and peakrpm as I have enginesize, horsepower and cylindernumber for car performace which I think are better\n",
        "- Looked up symboling and it is a risk factor rating which would be more correlated with insurance prices, also from the top 10 priced cars above there didn't appear to be relevant to price of the car as half of the cars there have a 0 rating.\n",
        "- Removed door number as I already have cartype and having less doors could make the car more or less expensive depending on whether it's a sportscar or hatchback, which would be shown in cartype anyway.\n",
        "- Retroactively dropped fuelsystem, enginetype, enginesize, fuelsystem and aspiration due to some of them having similarities to other variables and also time constraints"
      ]
    },
    {
      "cell_type": "code",
      "execution_count": 10,
      "metadata": {},
      "outputs": [
        {
          "data": {
            "text/plain": [
              "0      False\n",
              "1      False\n",
              "2      False\n",
              "3      False\n",
              "4      False\n",
              "       ...  \n",
              "200    False\n",
              "201    False\n",
              "202    False\n",
              "203    False\n",
              "204    False\n",
              "Length: 205, dtype: bool"
            ]
          },
          "execution_count": 10,
          "metadata": {},
          "output_type": "execute_result"
        }
      ],
      "source": [
        "# Check for duplicates\n",
        "\n",
        "data.duplicated()"
      ]
    },
    {
      "cell_type": "code",
      "execution_count": 11,
      "metadata": {},
      "outputs": [
        {
          "data": {
            "text/html": [
              "<div>\n",
              "<style scoped>\n",
              "    .dataframe tbody tr th:only-of-type {\n",
              "        vertical-align: middle;\n",
              "    }\n",
              "\n",
              "    .dataframe tbody tr th {\n",
              "        vertical-align: top;\n",
              "    }\n",
              "\n",
              "    .dataframe thead th {\n",
              "        text-align: right;\n",
              "    }\n",
              "</style>\n",
              "<table border=\"1\" class=\"dataframe\">\n",
              "  <thead>\n",
              "    <tr style=\"text-align: right;\">\n",
              "      <th></th>\n",
              "      <th>wheelbase</th>\n",
              "      <th>curbweight</th>\n",
              "      <th>horsepower</th>\n",
              "      <th>citympg</th>\n",
              "      <th>highwaympg</th>\n",
              "      <th>price</th>\n",
              "    </tr>\n",
              "  </thead>\n",
              "  <tbody>\n",
              "    <tr>\n",
              "      <th>count</th>\n",
              "      <td>205.000000</td>\n",
              "      <td>205.000000</td>\n",
              "      <td>205.000000</td>\n",
              "      <td>205.000000</td>\n",
              "      <td>205.000000</td>\n",
              "      <td>205.000000</td>\n",
              "    </tr>\n",
              "    <tr>\n",
              "      <th>mean</th>\n",
              "      <td>98.756585</td>\n",
              "      <td>2555.565854</td>\n",
              "      <td>104.117073</td>\n",
              "      <td>25.219512</td>\n",
              "      <td>30.751220</td>\n",
              "      <td>13276.710571</td>\n",
              "    </tr>\n",
              "    <tr>\n",
              "      <th>std</th>\n",
              "      <td>6.021776</td>\n",
              "      <td>520.680204</td>\n",
              "      <td>39.544167</td>\n",
              "      <td>6.542142</td>\n",
              "      <td>6.886443</td>\n",
              "      <td>7988.852332</td>\n",
              "    </tr>\n",
              "    <tr>\n",
              "      <th>min</th>\n",
              "      <td>86.600000</td>\n",
              "      <td>1488.000000</td>\n",
              "      <td>48.000000</td>\n",
              "      <td>13.000000</td>\n",
              "      <td>16.000000</td>\n",
              "      <td>5118.000000</td>\n",
              "    </tr>\n",
              "    <tr>\n",
              "      <th>25%</th>\n",
              "      <td>94.500000</td>\n",
              "      <td>2145.000000</td>\n",
              "      <td>70.000000</td>\n",
              "      <td>19.000000</td>\n",
              "      <td>25.000000</td>\n",
              "      <td>7788.000000</td>\n",
              "    </tr>\n",
              "    <tr>\n",
              "      <th>50%</th>\n",
              "      <td>97.000000</td>\n",
              "      <td>2414.000000</td>\n",
              "      <td>95.000000</td>\n",
              "      <td>24.000000</td>\n",
              "      <td>30.000000</td>\n",
              "      <td>10295.000000</td>\n",
              "    </tr>\n",
              "    <tr>\n",
              "      <th>75%</th>\n",
              "      <td>102.400000</td>\n",
              "      <td>2935.000000</td>\n",
              "      <td>116.000000</td>\n",
              "      <td>30.000000</td>\n",
              "      <td>34.000000</td>\n",
              "      <td>16503.000000</td>\n",
              "    </tr>\n",
              "    <tr>\n",
              "      <th>max</th>\n",
              "      <td>120.900000</td>\n",
              "      <td>4066.000000</td>\n",
              "      <td>288.000000</td>\n",
              "      <td>49.000000</td>\n",
              "      <td>54.000000</td>\n",
              "      <td>45400.000000</td>\n",
              "    </tr>\n",
              "  </tbody>\n",
              "</table>\n",
              "</div>"
            ],
            "text/plain": [
              "        wheelbase   curbweight  horsepower     citympg  highwaympg  \\\n",
              "count  205.000000   205.000000  205.000000  205.000000  205.000000   \n",
              "mean    98.756585  2555.565854  104.117073   25.219512   30.751220   \n",
              "std      6.021776   520.680204   39.544167    6.542142    6.886443   \n",
              "min     86.600000  1488.000000   48.000000   13.000000   16.000000   \n",
              "25%     94.500000  2145.000000   70.000000   19.000000   25.000000   \n",
              "50%     97.000000  2414.000000   95.000000   24.000000   30.000000   \n",
              "75%    102.400000  2935.000000  116.000000   30.000000   34.000000   \n",
              "max    120.900000  4066.000000  288.000000   49.000000   54.000000   \n",
              "\n",
              "              price  \n",
              "count    205.000000  \n",
              "mean   13276.710571  \n",
              "std     7988.852332  \n",
              "min     5118.000000  \n",
              "25%     7788.000000  \n",
              "50%    10295.000000  \n",
              "75%    16503.000000  \n",
              "max    45400.000000  "
            ]
          },
          "execution_count": 11,
          "metadata": {},
          "output_type": "execute_result"
        }
      ],
      "source": [
        "data.describe()"
      ]
    },
    {
      "cell_type": "markdown",
      "metadata": {},
      "source": [
        "Checking how many unique car names there are, will most likely just remove models and just keep the brand if there are a lot "
      ]
    },
    {
      "cell_type": "code",
      "execution_count": 12,
      "metadata": {},
      "outputs": [
        {
          "data": {
            "text/plain": [
              "array(['alfa-romero giulia', 'alfa-romero stelvio',\n",
              "       'alfa-romero Quadrifoglio', 'audi 100 ls', 'audi 100ls',\n",
              "       'audi fox', 'audi 5000', 'audi 4000', 'audi 5000s (diesel)',\n",
              "       'bmw 320i', 'bmw x1', 'bmw x3', 'bmw z4', 'bmw x4', 'bmw x5',\n",
              "       'chevrolet impala', 'chevrolet monte carlo', 'chevrolet vega 2300',\n",
              "       'dodge rampage', 'dodge challenger se', 'dodge d200',\n",
              "       'dodge monaco (sw)', 'dodge colt hardtop', 'dodge colt (sw)',\n",
              "       'dodge coronet custom', 'dodge dart custom',\n",
              "       'dodge coronet custom (sw)', 'honda civic', 'honda civic cvcc',\n",
              "       'honda accord cvcc', 'honda accord lx', 'honda civic 1500 gl',\n",
              "       'honda accord', 'honda civic 1300', 'honda prelude',\n",
              "       'honda civic (auto)', 'isuzu MU-X', 'isuzu D-Max ',\n",
              "       'isuzu D-Max V-Cross', 'jaguar xj', 'jaguar xf', 'jaguar xk',\n",
              "       'maxda rx3', 'maxda glc deluxe', 'mazda rx2 coupe', 'mazda rx-4',\n",
              "       'mazda glc deluxe', 'mazda 626', 'mazda glc', 'mazda rx-7 gs',\n",
              "       'mazda glc 4', 'mazda glc custom l', 'mazda glc custom',\n",
              "       'buick electra 225 custom', 'buick century luxus (sw)',\n",
              "       'buick century', 'buick skyhawk', 'buick opel isuzu deluxe',\n",
              "       'buick skylark', 'buick century special',\n",
              "       'buick regal sport coupe (turbo)', 'mercury cougar',\n",
              "       'mitsubishi mirage', 'mitsubishi lancer', 'mitsubishi outlander',\n",
              "       'mitsubishi g4', 'mitsubishi mirage g4', 'mitsubishi montero',\n",
              "       'mitsubishi pajero', 'Nissan versa', 'nissan gt-r', 'nissan rogue',\n",
              "       'nissan latio', 'nissan titan', 'nissan leaf', 'nissan juke',\n",
              "       'nissan note', 'nissan clipper', 'nissan nv200', 'nissan dayz',\n",
              "       'nissan fuga', 'nissan otti', 'nissan teana', 'nissan kicks',\n",
              "       'peugeot 504', 'peugeot 304', 'peugeot 504 (sw)', 'peugeot 604sl',\n",
              "       'peugeot 505s turbo diesel', 'plymouth fury iii',\n",
              "       'plymouth cricket', 'plymouth satellite custom (sw)',\n",
              "       'plymouth fury gran sedan', 'plymouth valiant', 'plymouth duster',\n",
              "       'porsche macan', 'porcshce panamera', 'porsche cayenne',\n",
              "       'porsche boxter', 'renault 12tl', 'renault 5 gtl', 'saab 99e',\n",
              "       'saab 99le', 'saab 99gle', 'subaru', 'subaru dl', 'subaru brz',\n",
              "       'subaru baja', 'subaru r1', 'subaru r2', 'subaru trezia',\n",
              "       'subaru tribeca', 'toyota corona mark ii', 'toyota corona',\n",
              "       'toyota corolla 1200', 'toyota corona hardtop',\n",
              "       'toyota corolla 1600 (sw)', 'toyota carina', 'toyota mark ii',\n",
              "       'toyota corolla', 'toyota corolla liftback',\n",
              "       'toyota celica gt liftback', 'toyota corolla tercel',\n",
              "       'toyota corona liftback', 'toyota starlet', 'toyota tercel',\n",
              "       'toyota cressida', 'toyota celica gt', 'toyouta tercel',\n",
              "       'vokswagen rabbit', 'volkswagen 1131 deluxe sedan',\n",
              "       'volkswagen model 111', 'volkswagen type 3', 'volkswagen 411 (sw)',\n",
              "       'volkswagen super beetle', 'volkswagen dasher', 'vw dasher',\n",
              "       'vw rabbit', 'volkswagen rabbit', 'volkswagen rabbit custom',\n",
              "       'volvo 145e (sw)', 'volvo 144ea', 'volvo 244dl', 'volvo 245',\n",
              "       'volvo 264gl', 'volvo diesel', 'volvo 246'], dtype=object)"
            ]
          },
          "execution_count": 12,
          "metadata": {},
          "output_type": "execute_result"
        }
      ],
      "source": [
        "data['CarName'].unique()"
      ]
    },
    {
      "cell_type": "code",
      "execution_count": 13,
      "metadata": {},
      "outputs": [
        {
          "data": {
            "text/html": [
              "<div>\n",
              "<style scoped>\n",
              "    .dataframe tbody tr th:only-of-type {\n",
              "        vertical-align: middle;\n",
              "    }\n",
              "\n",
              "    .dataframe tbody tr th {\n",
              "        vertical-align: top;\n",
              "    }\n",
              "\n",
              "    .dataframe thead th {\n",
              "        text-align: right;\n",
              "    }\n",
              "</style>\n",
              "<table border=\"1\" class=\"dataframe\">\n",
              "  <thead>\n",
              "    <tr style=\"text-align: right;\">\n",
              "      <th></th>\n",
              "      <th>CarName</th>\n",
              "      <th>fueltype</th>\n",
              "      <th>carbody</th>\n",
              "      <th>drivewheel</th>\n",
              "      <th>enginelocation</th>\n",
              "      <th>wheelbase</th>\n",
              "      <th>curbweight</th>\n",
              "      <th>cylindernumber</th>\n",
              "      <th>horsepower</th>\n",
              "      <th>citympg</th>\n",
              "      <th>highwaympg</th>\n",
              "      <th>price</th>\n",
              "    </tr>\n",
              "  </thead>\n",
              "  <tbody>\n",
              "    <tr>\n",
              "      <th>0</th>\n",
              "      <td>alfa-romero</td>\n",
              "      <td>gas</td>\n",
              "      <td>convertible</td>\n",
              "      <td>rwd</td>\n",
              "      <td>front</td>\n",
              "      <td>88.6</td>\n",
              "      <td>2548</td>\n",
              "      <td>four</td>\n",
              "      <td>111</td>\n",
              "      <td>21</td>\n",
              "      <td>27</td>\n",
              "      <td>13495.0</td>\n",
              "    </tr>\n",
              "    <tr>\n",
              "      <th>1</th>\n",
              "      <td>alfa-romero</td>\n",
              "      <td>gas</td>\n",
              "      <td>convertible</td>\n",
              "      <td>rwd</td>\n",
              "      <td>front</td>\n",
              "      <td>88.6</td>\n",
              "      <td>2548</td>\n",
              "      <td>four</td>\n",
              "      <td>111</td>\n",
              "      <td>21</td>\n",
              "      <td>27</td>\n",
              "      <td>16500.0</td>\n",
              "    </tr>\n",
              "    <tr>\n",
              "      <th>2</th>\n",
              "      <td>alfa-romero</td>\n",
              "      <td>gas</td>\n",
              "      <td>hatchback</td>\n",
              "      <td>rwd</td>\n",
              "      <td>front</td>\n",
              "      <td>94.5</td>\n",
              "      <td>2823</td>\n",
              "      <td>six</td>\n",
              "      <td>154</td>\n",
              "      <td>19</td>\n",
              "      <td>26</td>\n",
              "      <td>16500.0</td>\n",
              "    </tr>\n",
              "    <tr>\n",
              "      <th>3</th>\n",
              "      <td>audi</td>\n",
              "      <td>gas</td>\n",
              "      <td>sedan</td>\n",
              "      <td>fwd</td>\n",
              "      <td>front</td>\n",
              "      <td>99.8</td>\n",
              "      <td>2337</td>\n",
              "      <td>four</td>\n",
              "      <td>102</td>\n",
              "      <td>24</td>\n",
              "      <td>30</td>\n",
              "      <td>13950.0</td>\n",
              "    </tr>\n",
              "    <tr>\n",
              "      <th>4</th>\n",
              "      <td>audi</td>\n",
              "      <td>gas</td>\n",
              "      <td>sedan</td>\n",
              "      <td>4wd</td>\n",
              "      <td>front</td>\n",
              "      <td>99.4</td>\n",
              "      <td>2824</td>\n",
              "      <td>five</td>\n",
              "      <td>115</td>\n",
              "      <td>18</td>\n",
              "      <td>22</td>\n",
              "      <td>17450.0</td>\n",
              "    </tr>\n",
              "  </tbody>\n",
              "</table>\n",
              "</div>"
            ],
            "text/plain": [
              "       CarName fueltype      carbody drivewheel enginelocation  wheelbase  \\\n",
              "0  alfa-romero      gas  convertible        rwd          front       88.6   \n",
              "1  alfa-romero      gas  convertible        rwd          front       88.6   \n",
              "2  alfa-romero      gas    hatchback        rwd          front       94.5   \n",
              "3         audi      gas        sedan        fwd          front       99.8   \n",
              "4         audi      gas        sedan        4wd          front       99.4   \n",
              "\n",
              "   curbweight cylindernumber  horsepower  citympg  highwaympg    price  \n",
              "0        2548           four         111       21          27  13495.0  \n",
              "1        2548           four         111       21          27  16500.0  \n",
              "2        2823            six         154       19          26  16500.0  \n",
              "3        2337           four         102       24          30  13950.0  \n",
              "4        2824           five         115       18          22  17450.0  "
            ]
          },
          "execution_count": 13,
          "metadata": {},
          "output_type": "execute_result"
        }
      ],
      "source": [
        "data['CarName'] = data['CarName'].str.split().str[0]\n",
        "\n",
        "\n",
        "data.head()"
      ]
    },
    {
      "cell_type": "markdown",
      "metadata": {},
      "source": [
        "Now I have to fix the brands with spelling errors and duplicates and confirm they have been fixed"
      ]
    },
    {
      "cell_type": "code",
      "execution_count": 14,
      "metadata": {},
      "outputs": [
        {
          "data": {
            "text/plain": [
              "array(['alfa-romeo', 'audi', 'bmw', 'chevrolet', 'dodge', 'honda',\n",
              "       'isuzu', 'jaguar', 'mazda', 'buick', 'mercury', 'mitsubishi',\n",
              "       'nissan', 'peugeot', 'plymouth', 'porsche', 'renault', 'saab',\n",
              "       'subaru', 'toyota', 'volkswagen', 'volvo'], dtype=object)"
            ]
          },
          "execution_count": 14,
          "metadata": {},
          "output_type": "execute_result"
        }
      ],
      "source": [
        "brand_correction = {\n",
        "    'alfa-romero': 'alfa-romeo',\n",
        "    'maxda': 'mazda',\n",
        "    'toyouta': 'toyota',\n",
        "    'vokswagen': 'volkswagen',\n",
        "    'vw': 'volkswagen',\n",
        "    'porcshce': 'porsche',\n",
        "    'Nissan': 'nissan'\n",
        "}\n",
        "\n",
        "data['CarName'] = data['CarName'].replace(brand_correction)\n",
        "data['CarName'].unique()"
      ]
    },
    {
      "cell_type": "markdown",
      "metadata": {},
      "source": [
        "Now going to check all other variables that have potentially repeated values due to spelling errors"
      ]
    },
    {
      "cell_type": "code",
      "execution_count": 15,
      "metadata": {},
      "outputs": [
        {
          "name": "stdout",
          "output_type": "stream",
          "text": [
            "fueltype: ['gas' 'diesel']\n",
            "carbody: ['convertible' 'hatchback' 'sedan' 'wagon' 'hardtop']\n",
            "drivewheel: ['rwd' 'fwd' '4wd']\n",
            "enginelocation: ['front' 'rear']\n",
            "cylindernumber: ['four' 'six' 'five' 'three' 'twelve' 'two' 'eight']\n"
          ]
        }
      ],
      "source": [
        "columns = ['fueltype', 'carbody', 'drivewheel',\n",
        "           'enginelocation', 'cylindernumber']\n",
        "\n",
        "for col in columns:\n",
        "    print(f\"{col}: {data[col].unique()}\")"
      ]
    },
    {
      "cell_type": "markdown",
      "metadata": {},
      "source": [
        "changing cylindernumbers from strings to numbers"
      ]
    },
    {
      "cell_type": "code",
      "execution_count": 16,
      "metadata": {},
      "outputs": [
        {
          "data": {
            "text/plain": [
              "array([ 4,  6,  5,  3, 12,  2,  8])"
            ]
          },
          "execution_count": 16,
          "metadata": {},
          "output_type": "execute_result"
        }
      ],
      "source": [
        "cylinder_correction = {\n",
        "    'two': 2,\n",
        "    'three': 3,\n",
        "    'four': 4,\n",
        "    'five': 5,\n",
        "    'six': 6,\n",
        "    'eight': 8,\n",
        "    'twelve': 12\n",
        "}\n",
        "\n",
        "data['cylindernumber'] = data['cylindernumber'].replace(cylinder_correction)\n",
        "data['cylindernumber'].unique()"
      ]
    },
    {
      "cell_type": "code",
      "execution_count": 17,
      "metadata": {},
      "outputs": [
        {
          "data": {
            "text/html": [
              "<div>\n",
              "<style scoped>\n",
              "    .dataframe tbody tr th:only-of-type {\n",
              "        vertical-align: middle;\n",
              "    }\n",
              "\n",
              "    .dataframe tbody tr th {\n",
              "        vertical-align: top;\n",
              "    }\n",
              "\n",
              "    .dataframe thead th {\n",
              "        text-align: right;\n",
              "    }\n",
              "</style>\n",
              "<table border=\"1\" class=\"dataframe\">\n",
              "  <thead>\n",
              "    <tr style=\"text-align: right;\">\n",
              "      <th></th>\n",
              "      <th>CarName</th>\n",
              "      <th>fueltype</th>\n",
              "      <th>carbody</th>\n",
              "      <th>drivewheel</th>\n",
              "      <th>enginelocation</th>\n",
              "      <th>wheelbase</th>\n",
              "      <th>curbweight</th>\n",
              "      <th>cylindernumber</th>\n",
              "      <th>horsepower</th>\n",
              "      <th>citympg</th>\n",
              "      <th>highwaympg</th>\n",
              "      <th>price</th>\n",
              "    </tr>\n",
              "  </thead>\n",
              "  <tbody>\n",
              "    <tr>\n",
              "      <th>0</th>\n",
              "      <td>alfa-romeo</td>\n",
              "      <td>gas</td>\n",
              "      <td>convertible</td>\n",
              "      <td>rwd</td>\n",
              "      <td>front</td>\n",
              "      <td>88.6</td>\n",
              "      <td>2548</td>\n",
              "      <td>4</td>\n",
              "      <td>111</td>\n",
              "      <td>21</td>\n",
              "      <td>27</td>\n",
              "      <td>13495.0</td>\n",
              "    </tr>\n",
              "    <tr>\n",
              "      <th>1</th>\n",
              "      <td>alfa-romeo</td>\n",
              "      <td>gas</td>\n",
              "      <td>convertible</td>\n",
              "      <td>rwd</td>\n",
              "      <td>front</td>\n",
              "      <td>88.6</td>\n",
              "      <td>2548</td>\n",
              "      <td>4</td>\n",
              "      <td>111</td>\n",
              "      <td>21</td>\n",
              "      <td>27</td>\n",
              "      <td>16500.0</td>\n",
              "    </tr>\n",
              "    <tr>\n",
              "      <th>2</th>\n",
              "      <td>alfa-romeo</td>\n",
              "      <td>gas</td>\n",
              "      <td>hatchback</td>\n",
              "      <td>rwd</td>\n",
              "      <td>front</td>\n",
              "      <td>94.5</td>\n",
              "      <td>2823</td>\n",
              "      <td>6</td>\n",
              "      <td>154</td>\n",
              "      <td>19</td>\n",
              "      <td>26</td>\n",
              "      <td>16500.0</td>\n",
              "    </tr>\n",
              "    <tr>\n",
              "      <th>3</th>\n",
              "      <td>audi</td>\n",
              "      <td>gas</td>\n",
              "      <td>sedan</td>\n",
              "      <td>fwd</td>\n",
              "      <td>front</td>\n",
              "      <td>99.8</td>\n",
              "      <td>2337</td>\n",
              "      <td>4</td>\n",
              "      <td>102</td>\n",
              "      <td>24</td>\n",
              "      <td>30</td>\n",
              "      <td>13950.0</td>\n",
              "    </tr>\n",
              "    <tr>\n",
              "      <th>4</th>\n",
              "      <td>audi</td>\n",
              "      <td>gas</td>\n",
              "      <td>sedan</td>\n",
              "      <td>4wd</td>\n",
              "      <td>front</td>\n",
              "      <td>99.4</td>\n",
              "      <td>2824</td>\n",
              "      <td>5</td>\n",
              "      <td>115</td>\n",
              "      <td>18</td>\n",
              "      <td>22</td>\n",
              "      <td>17450.0</td>\n",
              "    </tr>\n",
              "  </tbody>\n",
              "</table>\n",
              "</div>"
            ],
            "text/plain": [
              "      CarName fueltype      carbody drivewheel enginelocation  wheelbase  \\\n",
              "0  alfa-romeo      gas  convertible        rwd          front       88.6   \n",
              "1  alfa-romeo      gas  convertible        rwd          front       88.6   \n",
              "2  alfa-romeo      gas    hatchback        rwd          front       94.5   \n",
              "3        audi      gas        sedan        fwd          front       99.8   \n",
              "4        audi      gas        sedan        4wd          front       99.4   \n",
              "\n",
              "   curbweight  cylindernumber  horsepower  citympg  highwaympg    price  \n",
              "0        2548               4         111       21          27  13495.0  \n",
              "1        2548               4         111       21          27  16500.0  \n",
              "2        2823               6         154       19          26  16500.0  \n",
              "3        2337               4         102       24          30  13950.0  \n",
              "4        2824               5         115       18          22  17450.0  "
            ]
          },
          "execution_count": 17,
          "metadata": {},
          "output_type": "execute_result"
        }
      ],
      "source": [
        "data.head()"
      ]
    },
    {
      "cell_type": "markdown",
      "metadata": {},
      "source": [
        "Using OneHotEncoder for all categorical variables"
      ]
    },
    {
      "cell_type": "code",
      "execution_count": 18,
      "metadata": {},
      "outputs": [],
      "source": [
        "from sklearn.pipeline import Pipeline\n",
        "from feature_engine.encoding import OneHotEncoder"
      ]
    },
    {
      "cell_type": "code",
      "execution_count": 19,
      "metadata": {},
      "outputs": [
        {
          "data": {
            "text/plain": [
              "toyota        32\n",
              "nissan        18\n",
              "mazda         17\n",
              "mitsubishi    13\n",
              "honda         13\n",
              "volkswagen    12\n",
              "subaru        12\n",
              "peugeot       11\n",
              "volvo         11\n",
              "dodge          9\n",
              "buick          8\n",
              "bmw            8\n",
              "audi           7\n",
              "plymouth       7\n",
              "saab           6\n",
              "porsche        5\n",
              "isuzu          4\n",
              "jaguar         3\n",
              "chevrolet      3\n",
              "alfa-romeo     3\n",
              "renault        2\n",
              "mercury        1\n",
              "Name: CarName, dtype: int64"
            ]
          },
          "execution_count": 19,
          "metadata": {},
          "output_type": "execute_result"
        }
      ],
      "source": [
        "data['CarName'].value_counts()"
      ]
    },
    {
      "cell_type": "code",
      "execution_count": 20,
      "metadata": {},
      "outputs": [
        {
          "data": {
            "text/html": [
              "<div>\n",
              "<style scoped>\n",
              "    .dataframe tbody tr th:only-of-type {\n",
              "        vertical-align: middle;\n",
              "    }\n",
              "\n",
              "    .dataframe tbody tr th {\n",
              "        vertical-align: top;\n",
              "    }\n",
              "\n",
              "    .dataframe thead th {\n",
              "        text-align: right;\n",
              "    }\n",
              "</style>\n",
              "<table border=\"1\" class=\"dataframe\">\n",
              "  <thead>\n",
              "    <tr style=\"text-align: right;\">\n",
              "      <th></th>\n",
              "      <th>CarName</th>\n",
              "      <th>wheelbase</th>\n",
              "      <th>curbweight</th>\n",
              "      <th>cylindernumber</th>\n",
              "      <th>horsepower</th>\n",
              "      <th>citympg</th>\n",
              "      <th>highwaympg</th>\n",
              "      <th>price</th>\n",
              "      <th>fueltype_gas</th>\n",
              "      <th>drivewheel_rwd</th>\n",
              "      <th>drivewheel_fwd</th>\n",
              "      <th>enginelocation_front</th>\n",
              "      <th>carbody_convertible</th>\n",
              "      <th>carbody_hatchback</th>\n",
              "      <th>carbody_sedan</th>\n",
              "      <th>carbody_wagon</th>\n",
              "    </tr>\n",
              "  </thead>\n",
              "  <tbody>\n",
              "    <tr>\n",
              "      <th>0</th>\n",
              "      <td>alfa-romeo</td>\n",
              "      <td>88.6</td>\n",
              "      <td>2548</td>\n",
              "      <td>4</td>\n",
              "      <td>111</td>\n",
              "      <td>21</td>\n",
              "      <td>27</td>\n",
              "      <td>13495.0</td>\n",
              "      <td>1</td>\n",
              "      <td>1</td>\n",
              "      <td>0</td>\n",
              "      <td>1</td>\n",
              "      <td>1</td>\n",
              "      <td>0</td>\n",
              "      <td>0</td>\n",
              "      <td>0</td>\n",
              "    </tr>\n",
              "    <tr>\n",
              "      <th>1</th>\n",
              "      <td>alfa-romeo</td>\n",
              "      <td>88.6</td>\n",
              "      <td>2548</td>\n",
              "      <td>4</td>\n",
              "      <td>111</td>\n",
              "      <td>21</td>\n",
              "      <td>27</td>\n",
              "      <td>16500.0</td>\n",
              "      <td>1</td>\n",
              "      <td>1</td>\n",
              "      <td>0</td>\n",
              "      <td>1</td>\n",
              "      <td>1</td>\n",
              "      <td>0</td>\n",
              "      <td>0</td>\n",
              "      <td>0</td>\n",
              "    </tr>\n",
              "    <tr>\n",
              "      <th>2</th>\n",
              "      <td>alfa-romeo</td>\n",
              "      <td>94.5</td>\n",
              "      <td>2823</td>\n",
              "      <td>6</td>\n",
              "      <td>154</td>\n",
              "      <td>19</td>\n",
              "      <td>26</td>\n",
              "      <td>16500.0</td>\n",
              "      <td>1</td>\n",
              "      <td>1</td>\n",
              "      <td>0</td>\n",
              "      <td>1</td>\n",
              "      <td>0</td>\n",
              "      <td>1</td>\n",
              "      <td>0</td>\n",
              "      <td>0</td>\n",
              "    </tr>\n",
              "    <tr>\n",
              "      <th>3</th>\n",
              "      <td>audi</td>\n",
              "      <td>99.8</td>\n",
              "      <td>2337</td>\n",
              "      <td>4</td>\n",
              "      <td>102</td>\n",
              "      <td>24</td>\n",
              "      <td>30</td>\n",
              "      <td>13950.0</td>\n",
              "      <td>1</td>\n",
              "      <td>0</td>\n",
              "      <td>1</td>\n",
              "      <td>1</td>\n",
              "      <td>0</td>\n",
              "      <td>0</td>\n",
              "      <td>1</td>\n",
              "      <td>0</td>\n",
              "    </tr>\n",
              "    <tr>\n",
              "      <th>4</th>\n",
              "      <td>audi</td>\n",
              "      <td>99.4</td>\n",
              "      <td>2824</td>\n",
              "      <td>5</td>\n",
              "      <td>115</td>\n",
              "      <td>18</td>\n",
              "      <td>22</td>\n",
              "      <td>17450.0</td>\n",
              "      <td>1</td>\n",
              "      <td>0</td>\n",
              "      <td>0</td>\n",
              "      <td>1</td>\n",
              "      <td>0</td>\n",
              "      <td>0</td>\n",
              "      <td>1</td>\n",
              "      <td>0</td>\n",
              "    </tr>\n",
              "  </tbody>\n",
              "</table>\n",
              "</div>"
            ],
            "text/plain": [
              "      CarName  wheelbase  curbweight  cylindernumber  horsepower  citympg  \\\n",
              "0  alfa-romeo       88.6        2548               4         111       21   \n",
              "1  alfa-romeo       88.6        2548               4         111       21   \n",
              "2  alfa-romeo       94.5        2823               6         154       19   \n",
              "3        audi       99.8        2337               4         102       24   \n",
              "4        audi       99.4        2824               5         115       18   \n",
              "\n",
              "   highwaympg    price  fueltype_gas  drivewheel_rwd  drivewheel_fwd  \\\n",
              "0          27  13495.0             1               1               0   \n",
              "1          27  16500.0             1               1               0   \n",
              "2          26  16500.0             1               1               0   \n",
              "3          30  13950.0             1               0               1   \n",
              "4          22  17450.0             1               0               0   \n",
              "\n",
              "   enginelocation_front  carbody_convertible  carbody_hatchback  \\\n",
              "0                     1                    1                  0   \n",
              "1                     1                    1                  0   \n",
              "2                     1                    0                  1   \n",
              "3                     1                    0                  0   \n",
              "4                     1                    0                  0   \n",
              "\n",
              "   carbody_sedan  carbody_wagon  \n",
              "0              0              0  \n",
              "1              0              0  \n",
              "2              0              0  \n",
              "3              1              0  \n",
              "4              1              0  "
            ]
          },
          "execution_count": 20,
          "metadata": {},
          "output_type": "execute_result"
        }
      ],
      "source": [
        "pipeline = Pipeline([\n",
        "      ('ohe', OneHotEncoder(variables=['fueltype', 'drivewheel', 'enginelocation', 'carbody'], drop_last=True) )\n",
        "])\n",
        "\n",
        "\n",
        "data = pipeline.fit_transform(data)\n",
        "data.head()"
      ]
    },
    {
      "cell_type": "markdown",
      "metadata": {},
      "source": [
        "decided to leave car name as is, too many rare values are luxury cars on and didn't want to add that many columns to the dataset"
      ]
    },
    {
      "cell_type": "markdown",
      "metadata": {},
      "source": [
        "sending 'cleaned' data to a new csv file"
      ]
    },
    {
      "cell_type": "code",
      "execution_count": 21,
      "metadata": {},
      "outputs": [],
      "source": [
        "data.to_csv('/workspace/Hackathon1/cleandata.csv', index=False)"
      ]
    },
    {
      "cell_type": "code",
      "execution_count": 22,
      "metadata": {},
      "outputs": [
        {
          "data": {
            "text/html": [
              "<div>\n",
              "<style scoped>\n",
              "    .dataframe tbody tr th:only-of-type {\n",
              "        vertical-align: middle;\n",
              "    }\n",
              "\n",
              "    .dataframe tbody tr th {\n",
              "        vertical-align: top;\n",
              "    }\n",
              "\n",
              "    .dataframe thead th {\n",
              "        text-align: right;\n",
              "    }\n",
              "</style>\n",
              "<table border=\"1\" class=\"dataframe\">\n",
              "  <thead>\n",
              "    <tr style=\"text-align: right;\">\n",
              "      <th></th>\n",
              "      <th>CarName</th>\n",
              "      <th>wheelbase</th>\n",
              "      <th>curbweight</th>\n",
              "      <th>cylindernumber</th>\n",
              "      <th>horsepower</th>\n",
              "      <th>citympg</th>\n",
              "      <th>highwaympg</th>\n",
              "      <th>price</th>\n",
              "      <th>fueltype_gas</th>\n",
              "      <th>drivewheel_rwd</th>\n",
              "      <th>drivewheel_fwd</th>\n",
              "      <th>enginelocation_front</th>\n",
              "      <th>carbody_convertible</th>\n",
              "      <th>carbody_hatchback</th>\n",
              "      <th>carbody_sedan</th>\n",
              "      <th>carbody_wagon</th>\n",
              "    </tr>\n",
              "  </thead>\n",
              "  <tbody>\n",
              "    <tr>\n",
              "      <th>0</th>\n",
              "      <td>alfa-romeo</td>\n",
              "      <td>88.6</td>\n",
              "      <td>2548</td>\n",
              "      <td>4</td>\n",
              "      <td>111</td>\n",
              "      <td>21</td>\n",
              "      <td>27</td>\n",
              "      <td>13495.0</td>\n",
              "      <td>1</td>\n",
              "      <td>1</td>\n",
              "      <td>0</td>\n",
              "      <td>1</td>\n",
              "      <td>1</td>\n",
              "      <td>0</td>\n",
              "      <td>0</td>\n",
              "      <td>0</td>\n",
              "    </tr>\n",
              "    <tr>\n",
              "      <th>1</th>\n",
              "      <td>alfa-romeo</td>\n",
              "      <td>88.6</td>\n",
              "      <td>2548</td>\n",
              "      <td>4</td>\n",
              "      <td>111</td>\n",
              "      <td>21</td>\n",
              "      <td>27</td>\n",
              "      <td>16500.0</td>\n",
              "      <td>1</td>\n",
              "      <td>1</td>\n",
              "      <td>0</td>\n",
              "      <td>1</td>\n",
              "      <td>1</td>\n",
              "      <td>0</td>\n",
              "      <td>0</td>\n",
              "      <td>0</td>\n",
              "    </tr>\n",
              "    <tr>\n",
              "      <th>2</th>\n",
              "      <td>alfa-romeo</td>\n",
              "      <td>94.5</td>\n",
              "      <td>2823</td>\n",
              "      <td>6</td>\n",
              "      <td>154</td>\n",
              "      <td>19</td>\n",
              "      <td>26</td>\n",
              "      <td>16500.0</td>\n",
              "      <td>1</td>\n",
              "      <td>1</td>\n",
              "      <td>0</td>\n",
              "      <td>1</td>\n",
              "      <td>0</td>\n",
              "      <td>1</td>\n",
              "      <td>0</td>\n",
              "      <td>0</td>\n",
              "    </tr>\n",
              "    <tr>\n",
              "      <th>3</th>\n",
              "      <td>audi</td>\n",
              "      <td>99.8</td>\n",
              "      <td>2337</td>\n",
              "      <td>4</td>\n",
              "      <td>102</td>\n",
              "      <td>24</td>\n",
              "      <td>30</td>\n",
              "      <td>13950.0</td>\n",
              "      <td>1</td>\n",
              "      <td>0</td>\n",
              "      <td>1</td>\n",
              "      <td>1</td>\n",
              "      <td>0</td>\n",
              "      <td>0</td>\n",
              "      <td>1</td>\n",
              "      <td>0</td>\n",
              "    </tr>\n",
              "    <tr>\n",
              "      <th>4</th>\n",
              "      <td>audi</td>\n",
              "      <td>99.4</td>\n",
              "      <td>2824</td>\n",
              "      <td>5</td>\n",
              "      <td>115</td>\n",
              "      <td>18</td>\n",
              "      <td>22</td>\n",
              "      <td>17450.0</td>\n",
              "      <td>1</td>\n",
              "      <td>0</td>\n",
              "      <td>0</td>\n",
              "      <td>1</td>\n",
              "      <td>0</td>\n",
              "      <td>0</td>\n",
              "      <td>1</td>\n",
              "      <td>0</td>\n",
              "    </tr>\n",
              "  </tbody>\n",
              "</table>\n",
              "</div>"
            ],
            "text/plain": [
              "      CarName  wheelbase  curbweight  cylindernumber  horsepower  citympg  \\\n",
              "0  alfa-romeo       88.6        2548               4         111       21   \n",
              "1  alfa-romeo       88.6        2548               4         111       21   \n",
              "2  alfa-romeo       94.5        2823               6         154       19   \n",
              "3        audi       99.8        2337               4         102       24   \n",
              "4        audi       99.4        2824               5         115       18   \n",
              "\n",
              "   highwaympg    price  fueltype_gas  drivewheel_rwd  drivewheel_fwd  \\\n",
              "0          27  13495.0             1               1               0   \n",
              "1          27  16500.0             1               1               0   \n",
              "2          26  16500.0             1               1               0   \n",
              "3          30  13950.0             1               0               1   \n",
              "4          22  17450.0             1               0               0   \n",
              "\n",
              "   enginelocation_front  carbody_convertible  carbody_hatchback  \\\n",
              "0                     1                    1                  0   \n",
              "1                     1                    1                  0   \n",
              "2                     1                    0                  1   \n",
              "3                     1                    0                  0   \n",
              "4                     1                    0                  0   \n",
              "\n",
              "   carbody_sedan  carbody_wagon  \n",
              "0              0              0  \n",
              "1              0              0  \n",
              "2              0              0  \n",
              "3              1              0  \n",
              "4              1              0  "
            ]
          },
          "execution_count": 22,
          "metadata": {},
          "output_type": "execute_result"
        }
      ],
      "source": [
        "cleandata = pd.read_csv('cleandata.csv')\n",
        "cleandata.head()\n"
      ]
    },
    {
      "cell_type": "markdown",
      "metadata": {
        "id": "ZY3l0-AxO93d"
      },
      "source": [
        "---"
      ]
    },
    {
      "cell_type": "markdown",
      "metadata": {
        "id": "uFQo3ycuO-v6"
      },
      "source": [
        "# Section 2"
      ]
    },
    {
      "cell_type": "markdown",
      "metadata": {},
      "source": [
        "Making basic charts/graphs using Matplotlib and Seaborn and trying to understand the data structure"
      ]
    },
    {
      "cell_type": "code",
      "execution_count": 23,
      "metadata": {},
      "outputs": [],
      "source": [
        "import numpy as np\n",
        "import pandas as pd\n",
        "import matplotlib.pyplot as plt\n",
        "import seaborn as sns"
      ]
    },
    {
      "cell_type": "code",
      "execution_count": 24,
      "metadata": {},
      "outputs": [
        {
          "data": {
            "text/html": [
              "<div>\n",
              "<style scoped>\n",
              "    .dataframe tbody tr th:only-of-type {\n",
              "        vertical-align: middle;\n",
              "    }\n",
              "\n",
              "    .dataframe tbody tr th {\n",
              "        vertical-align: top;\n",
              "    }\n",
              "\n",
              "    .dataframe thead th {\n",
              "        text-align: right;\n",
              "    }\n",
              "</style>\n",
              "<table border=\"1\" class=\"dataframe\">\n",
              "  <thead>\n",
              "    <tr style=\"text-align: right;\">\n",
              "      <th></th>\n",
              "      <th>wheelbase</th>\n",
              "      <th>curbweight</th>\n",
              "      <th>cylindernumber</th>\n",
              "      <th>horsepower</th>\n",
              "      <th>citympg</th>\n",
              "      <th>highwaympg</th>\n",
              "      <th>price</th>\n",
              "      <th>fueltype_gas</th>\n",
              "      <th>drivewheel_rwd</th>\n",
              "      <th>drivewheel_fwd</th>\n",
              "      <th>enginelocation_front</th>\n",
              "      <th>carbody_convertible</th>\n",
              "      <th>carbody_hatchback</th>\n",
              "      <th>carbody_sedan</th>\n",
              "      <th>carbody_wagon</th>\n",
              "    </tr>\n",
              "  </thead>\n",
              "  <tbody>\n",
              "    <tr>\n",
              "      <th>count</th>\n",
              "      <td>205.000000</td>\n",
              "      <td>205.000000</td>\n",
              "      <td>205.000000</td>\n",
              "      <td>205.000000</td>\n",
              "      <td>205.000000</td>\n",
              "      <td>205.000000</td>\n",
              "      <td>205.000000</td>\n",
              "      <td>205.000000</td>\n",
              "      <td>205.000000</td>\n",
              "      <td>205.000000</td>\n",
              "      <td>205.000000</td>\n",
              "      <td>205.000000</td>\n",
              "      <td>205.000000</td>\n",
              "      <td>205.000000</td>\n",
              "      <td>205.000000</td>\n",
              "    </tr>\n",
              "    <tr>\n",
              "      <th>mean</th>\n",
              "      <td>98.756585</td>\n",
              "      <td>2555.565854</td>\n",
              "      <td>4.380488</td>\n",
              "      <td>104.117073</td>\n",
              "      <td>25.219512</td>\n",
              "      <td>30.751220</td>\n",
              "      <td>13276.710571</td>\n",
              "      <td>0.902439</td>\n",
              "      <td>0.370732</td>\n",
              "      <td>0.585366</td>\n",
              "      <td>0.985366</td>\n",
              "      <td>0.029268</td>\n",
              "      <td>0.341463</td>\n",
              "      <td>0.468293</td>\n",
              "      <td>0.121951</td>\n",
              "    </tr>\n",
              "    <tr>\n",
              "      <th>std</th>\n",
              "      <td>6.021776</td>\n",
              "      <td>520.680204</td>\n",
              "      <td>1.080854</td>\n",
              "      <td>39.544167</td>\n",
              "      <td>6.542142</td>\n",
              "      <td>6.886443</td>\n",
              "      <td>7988.852332</td>\n",
              "      <td>0.297446</td>\n",
              "      <td>0.484183</td>\n",
              "      <td>0.493865</td>\n",
              "      <td>0.120377</td>\n",
              "      <td>0.168970</td>\n",
              "      <td>0.475361</td>\n",
              "      <td>0.500215</td>\n",
              "      <td>0.328031</td>\n",
              "    </tr>\n",
              "    <tr>\n",
              "      <th>min</th>\n",
              "      <td>86.600000</td>\n",
              "      <td>1488.000000</td>\n",
              "      <td>2.000000</td>\n",
              "      <td>48.000000</td>\n",
              "      <td>13.000000</td>\n",
              "      <td>16.000000</td>\n",
              "      <td>5118.000000</td>\n",
              "      <td>0.000000</td>\n",
              "      <td>0.000000</td>\n",
              "      <td>0.000000</td>\n",
              "      <td>0.000000</td>\n",
              "      <td>0.000000</td>\n",
              "      <td>0.000000</td>\n",
              "      <td>0.000000</td>\n",
              "      <td>0.000000</td>\n",
              "    </tr>\n",
              "    <tr>\n",
              "      <th>25%</th>\n",
              "      <td>94.500000</td>\n",
              "      <td>2145.000000</td>\n",
              "      <td>4.000000</td>\n",
              "      <td>70.000000</td>\n",
              "      <td>19.000000</td>\n",
              "      <td>25.000000</td>\n",
              "      <td>7788.000000</td>\n",
              "      <td>1.000000</td>\n",
              "      <td>0.000000</td>\n",
              "      <td>0.000000</td>\n",
              "      <td>1.000000</td>\n",
              "      <td>0.000000</td>\n",
              "      <td>0.000000</td>\n",
              "      <td>0.000000</td>\n",
              "      <td>0.000000</td>\n",
              "    </tr>\n",
              "    <tr>\n",
              "      <th>50%</th>\n",
              "      <td>97.000000</td>\n",
              "      <td>2414.000000</td>\n",
              "      <td>4.000000</td>\n",
              "      <td>95.000000</td>\n",
              "      <td>24.000000</td>\n",
              "      <td>30.000000</td>\n",
              "      <td>10295.000000</td>\n",
              "      <td>1.000000</td>\n",
              "      <td>0.000000</td>\n",
              "      <td>1.000000</td>\n",
              "      <td>1.000000</td>\n",
              "      <td>0.000000</td>\n",
              "      <td>0.000000</td>\n",
              "      <td>0.000000</td>\n",
              "      <td>0.000000</td>\n",
              "    </tr>\n",
              "    <tr>\n",
              "      <th>75%</th>\n",
              "      <td>102.400000</td>\n",
              "      <td>2935.000000</td>\n",
              "      <td>4.000000</td>\n",
              "      <td>116.000000</td>\n",
              "      <td>30.000000</td>\n",
              "      <td>34.000000</td>\n",
              "      <td>16503.000000</td>\n",
              "      <td>1.000000</td>\n",
              "      <td>1.000000</td>\n",
              "      <td>1.000000</td>\n",
              "      <td>1.000000</td>\n",
              "      <td>0.000000</td>\n",
              "      <td>1.000000</td>\n",
              "      <td>1.000000</td>\n",
              "      <td>0.000000</td>\n",
              "    </tr>\n",
              "    <tr>\n",
              "      <th>max</th>\n",
              "      <td>120.900000</td>\n",
              "      <td>4066.000000</td>\n",
              "      <td>12.000000</td>\n",
              "      <td>288.000000</td>\n",
              "      <td>49.000000</td>\n",
              "      <td>54.000000</td>\n",
              "      <td>45400.000000</td>\n",
              "      <td>1.000000</td>\n",
              "      <td>1.000000</td>\n",
              "      <td>1.000000</td>\n",
              "      <td>1.000000</td>\n",
              "      <td>1.000000</td>\n",
              "      <td>1.000000</td>\n",
              "      <td>1.000000</td>\n",
              "      <td>1.000000</td>\n",
              "    </tr>\n",
              "  </tbody>\n",
              "</table>\n",
              "</div>"
            ],
            "text/plain": [
              "        wheelbase   curbweight  cylindernumber  horsepower     citympg  \\\n",
              "count  205.000000   205.000000      205.000000  205.000000  205.000000   \n",
              "mean    98.756585  2555.565854        4.380488  104.117073   25.219512   \n",
              "std      6.021776   520.680204        1.080854   39.544167    6.542142   \n",
              "min     86.600000  1488.000000        2.000000   48.000000   13.000000   \n",
              "25%     94.500000  2145.000000        4.000000   70.000000   19.000000   \n",
              "50%     97.000000  2414.000000        4.000000   95.000000   24.000000   \n",
              "75%    102.400000  2935.000000        4.000000  116.000000   30.000000   \n",
              "max    120.900000  4066.000000       12.000000  288.000000   49.000000   \n",
              "\n",
              "       highwaympg         price  fueltype_gas  drivewheel_rwd  drivewheel_fwd  \\\n",
              "count  205.000000    205.000000    205.000000      205.000000      205.000000   \n",
              "mean    30.751220  13276.710571      0.902439        0.370732        0.585366   \n",
              "std      6.886443   7988.852332      0.297446        0.484183        0.493865   \n",
              "min     16.000000   5118.000000      0.000000        0.000000        0.000000   \n",
              "25%     25.000000   7788.000000      1.000000        0.000000        0.000000   \n",
              "50%     30.000000  10295.000000      1.000000        0.000000        1.000000   \n",
              "75%     34.000000  16503.000000      1.000000        1.000000        1.000000   \n",
              "max     54.000000  45400.000000      1.000000        1.000000        1.000000   \n",
              "\n",
              "       enginelocation_front  carbody_convertible  carbody_hatchback  \\\n",
              "count            205.000000           205.000000         205.000000   \n",
              "mean               0.985366             0.029268           0.341463   \n",
              "std                0.120377             0.168970           0.475361   \n",
              "min                0.000000             0.000000           0.000000   \n",
              "25%                1.000000             0.000000           0.000000   \n",
              "50%                1.000000             0.000000           0.000000   \n",
              "75%                1.000000             0.000000           1.000000   \n",
              "max                1.000000             1.000000           1.000000   \n",
              "\n",
              "       carbody_sedan  carbody_wagon  \n",
              "count     205.000000     205.000000  \n",
              "mean        0.468293       0.121951  \n",
              "std         0.500215       0.328031  \n",
              "min         0.000000       0.000000  \n",
              "25%         0.000000       0.000000  \n",
              "50%         0.000000       0.000000  \n",
              "75%         1.000000       0.000000  \n",
              "max         1.000000       1.000000  "
            ]
          },
          "execution_count": 24,
          "metadata": {},
          "output_type": "execute_result"
        }
      ],
      "source": [
        "cleandata.describe()"
      ]
    },
    {
      "cell_type": "markdown",
      "metadata": {},
      "source": [
        "Distribution of car prices"
      ]
    },
    {
      "cell_type": "code",
      "execution_count": 25,
      "metadata": {},
      "outputs": [
        {
          "data": {
            "image/png": "[encoded data removed]",
            "text/plain": [
              "<Figure size 1200x600 with 1 Axes>"
            ]
          },
          "metadata": {},
          "output_type": "display_data"
        }
      ],
      "source": [
        "fig, axes = plt.subplots(figsize=(12,6))\n",
        "sns.set_theme(style ='whitegrid')\n",
        "sns.histplot(cleandata['price'], kde=True, color='blue')\n",
        "plt.title(\"Distribution of Car Prices\")\n",
        "plt.xlabel(\"Price\",)\n",
        "plt.ylabel(\"Frequency\")\n",
        "plt.show()"
      ]
    },
    {
      "cell_type": "markdown",
      "metadata": {},
      "source": [
        "The above graph clearly shows that the majority of cars are purchased on the cheaper end, with a fairly sharp drop off as they get more expensive."
      ]
    },
    {
      "cell_type": "markdown",
      "metadata": {},
      "source": [
        "Horspower vs price"
      ]
    },
    {
      "cell_type": "code",
      "execution_count": 26,
      "metadata": {},
      "outputs": [
        {
          "data": {
            "image/png": "[encoded data removed]",
            "text/plain": [
              "<Figure size 1200x600 with 1 Axes>"
            ]
          },
          "metadata": {},
          "output_type": "display_data"
        }
      ],
      "source": [
        "fig, axes = plt.subplots(figsize=(12,6))\n",
        "sns.scatterplot(x=cleandata['horsepower'], y=cleandata['price'], color=\"purple\")\n",
        "plt.title(\"Horsepower vs. Price\")\n",
        "plt.xlabel(\"Horsepower\")\n",
        "plt.ylabel(\"Price\")\n",
        "plt.show()"
      ]
    },
    {
      "cell_type": "markdown",
      "metadata": {},
      "source": [
        "Horspower can be shown to be fairly highly correlated with the car price, with all of the most expensive carts having minimum 150 horsepower, and from the described data above we know that 25% of cars have 115 hp or more "
      ]
    },
    {
      "cell_type": "markdown",
      "metadata": {},
      "source": [
        "Curbweight vs Price"
      ]
    },
    {
      "cell_type": "code",
      "execution_count": 27,
      "metadata": {},
      "outputs": [
        {
          "data": {
            "image/png": "[encoded data removed]",
            "text/plain": [
              "<Figure size 1200x600 with 1 Axes>"
            ]
          },
          "metadata": {},
          "output_type": "display_data"
        }
      ],
      "source": [
        "fig, axes = plt.subplots(figsize=(12,6))\n",
        "sns.scatterplot(x=cleandata['curbweight'], y=cleandata['price'], color=\"green\")\n",
        "plt.title(\"Curbweight vs. Price\")\n",
        "plt.xlabel(\"Curbweight\")\n",
        "plt.ylabel(\"Price\")\n",
        "plt.show()"
      ]
    },
    {
      "cell_type": "markdown",
      "metadata": {},
      "source": [
        "Curbweight can also be seen to be highly correleated to price based on the graph above"
      ]
    },
    {
      "cell_type": "markdown",
      "metadata": {},
      "source": [
        "Correlation heatamp"
      ]
    },
    {
      "cell_type": "code",
      "execution_count": 28,
      "metadata": {},
      "outputs": [
        {
          "data": {
            "image/png": "[encoded data removed]",
            "text/plain": [
              "<Figure size 1200x600 with 2 Axes>"
            ]
          },
          "metadata": {},
          "output_type": "display_data"
        }
      ],
      "source": [
        "fig, axes = plt.subplots(figsize=(12,6))\n",
        "data_corr = data.corr()\n",
        "mask = np.zeros_like(data_corr, dtype=np.bool)\n",
        "mask[np.triu_indices_from(mask)] = True\n",
        "sns.heatmap(data_corr, mask=mask, annot=True, cmap=\"viridis\", linewidths=0.5, annot_kws={\"size\": 8})\n",
        "plt.ylim(data_corr.shape[1],0);\n",
        "plt.title(\"Correlation Heatmap\", fontsize=16)\n",
        "plt.show()"
      ]
    },
    {
      "cell_type": "markdown",
      "metadata": {},
      "source": [
        "The heatmap above shows how the size, cylinder number, power and being rwd are all very positively correlated with price. While things like efficiency and being fwd are negatively correlated with the price"
      ]
    },
    {
      "cell_type": "markdown",
      "metadata": {},
      "source": [
        "**# # Section 3**"
      ]
    },
    {
      "cell_type": "code",
      "execution_count": 29,
      "metadata": {},
      "outputs": [],
      "source": [
        "import plotly.express as px"
      ]
    },
    {
      "cell_type": "markdown",
      "metadata": {},
      "source": [
        "Showing the amount of cars purchased at each price point, also seperating based on fueltype"
      ]
    },
    {
      "cell_type": "code",
      "execution_count": 48,
      "metadata": {},
      "outputs": [
        {
          "data": {
            "application/vnd.plotly.v1+json": {
              "config": {
                "plotlyServerURL": "https://plot.ly"
              },
              "data": [
                {
                  "alignmentgroup": "True",
                  "bingroup": "x",
                  "hovertemplate": "fueltype_gas=1<br>price=%{x}<br>count=%{y}<extra></extra>",
                  "legendgroup": "1",
                  "marker": {
                    "color": "#636efa"
                  },
                  "name": "1",
                  "offsetgroup": "1",
                  "orientation": "v",
                  "showlegend": true,
                  "type": "histogram",
                  "x": [
                    13495,
                    16500,
                    16500,
                    13950,
                    17450,
                    15250,
                    17710,
                    18920,
                    23875,
                    17859.167,
                    16430,
                    16925,
                    20970,
                    21105,
                    24565,
                    30760,
                    41315,
                    36880,
                    5151,
                    6295,
                    6575,
                    5572,
                    6377,
                    7957,
                    6229,
                    6692,
                    7609,
                    8558,
                    8921,
                    12964,
                    6479,
                    6855,
                    5399,
                    6529,
                    7129,
                    7295,
                    7295,
                    7895,
                    9095,
                    8845,
                    10295,
                    12945,
                    10345,
                    6785,
                    8916.5,
                    8916.5,
                    11048,
                    32250,
                    35550,
                    36000,
                    5195,
                    6095,
                    6795,
                    6695,
                    7395,
                    10945,
                    11845,
                    13645,
                    15645,
                    8845,
                    8495,
                    10595,
                    10245,
                    11245,
                    18280,
                    34184,
                    35056,
                    40960,
                    45400,
                    16503,
                    5389,
                    6189,
                    6669,
                    7689,
                    9959,
                    8499,
                    12629,
                    14869,
                    14489,
                    6989,
                    8189,
                    9279,
                    9279,
                    5499,
                    6649,
                    6849,
                    7349,
                    7299,
                    7799,
                    7499,
                    7999,
                    8249,
                    8949,
                    9549,
                    13499,
                    14399,
                    13499,
                    17199,
                    19699,
                    18399,
                    11900,
                    12440,
                    15580,
                    16695,
                    16630,
                    18150,
                    5572,
                    7957,
                    6229,
                    6692,
                    7609,
                    8921,
                    12764,
                    22018,
                    32528,
                    34028,
                    37028,
                    31400.5,
                    9295,
                    9895,
                    11850,
                    12170,
                    15040,
                    15510,
                    18150,
                    18620,
                    5118,
                    7053,
                    7603,
                    7126,
                    7775,
                    9960,
                    9233,
                    11259,
                    7463,
                    10198,
                    8013,
                    11694,
                    5348,
                    6338,
                    6488,
                    6918,
                    7898,
                    8778,
                    6938,
                    7198,
                    7738,
                    8358,
                    9258,
                    8058,
                    8238,
                    9298,
                    9538,
                    8449,
                    9639,
                    9989,
                    11199,
                    11549,
                    17669,
                    8948,
                    9988,
                    10898,
                    11248,
                    16558,
                    15998,
                    15690,
                    15750,
                    7975,
                    8195,
                    8495,
                    9995,
                    11595,
                    9980,
                    13295,
                    12290,
                    12940,
                    13415,
                    15985,
                    16515,
                    18420,
                    18950,
                    16845,
                    19045,
                    21485,
                    22625
                  ],
                  "xaxis": "x",
                  "yaxis": "y"
                },
                {
                  "alignmentgroup": "True",
                  "bingroup": "x",
                  "hovertemplate": "fueltype_gas=0<br>price=%{x}<br>count=%{y}<extra></extra>",
                  "legendgroup": "0",
                  "marker": {
                    "color": "#EF553B"
                  },
                  "name": "0",
                  "offsetgroup": "0",
                  "orientation": "v",
                  "showlegend": true,
                  "type": "histogram",
                  "x": [
                    10795,
                    18344,
                    25552,
                    28248,
                    28176,
                    31600,
                    7099,
                    13200,
                    13860,
                    16900,
                    17075,
                    17950,
                    7898,
                    7788,
                    10698,
                    7775,
                    7995,
                    9495,
                    13845,
                    22470
                  ],
                  "xaxis": "x",
                  "yaxis": "y"
                }
              ],
              "layout": {
                "barmode": "relative",
                "legend": {
                  "title": {
                    "text": "fueltype_gas"
                  },
                  "tracegroupgap": 0
                },
                "template": {
                  "data": {
                    "bar": [
                      {
                        "error_x": {
                          "color": "#2a3f5f"
                        },
                        "error_y": {
                          "color": "#2a3f5f"
                        },
                        "marker": {
                          "line": {
                            "color": "#E5ECF6",
                            "width": 0.5
                          }
                        },
                        "type": "bar"
                      }
                    ],
                    "barpolar": [
                      {
                        "marker": {
                          "line": {
                            "color": "#E5ECF6",
                            "width": 0.5
                          }
                        },
                        "type": "barpolar"
                      }
                    ],
                    "carpet": [
                      {
                        "aaxis": {
                          "endlinecolor": "#2a3f5f",
                          "gridcolor": "white",
                          "linecolor": "white",
                          "minorgridcolor": "white",
                          "startlinecolor": "#2a3f5f"
                        },
                        "baxis": {
                          "endlinecolor": "#2a3f5f",
                          "gridcolor": "white",
                          "linecolor": "white",
                          "minorgridcolor": "white",
                          "startlinecolor": "#2a3f5f"
                        },
                        "type": "carpet"
                      }
                    ],
                    "choropleth": [
                      {
                        "colorbar": {
                          "outlinewidth": 0,
                          "ticks": ""
                        },
                        "type": "choropleth"
                      }
                    ],
                    "contour": [
                      {
                        "colorbar": {
                          "outlinewidth": 0,
                          "ticks": ""
                        },
                        "colorscale": [
                          [
                            0,
                            "#0d0887"
                          ],
                          [
                            0.1111111111111111,
                            "#46039f"
                          ],
                          [
                            0.2222222222222222,
                            "#7201a8"
                          ],
                          [
                            0.3333333333333333,
                            "#9c179e"
                          ],
                          [
                            0.4444444444444444,
                            "#bd3786"
                          ],
                          [
                            0.5555555555555556,
                            "#d8576b"
                          ],
                          [
                            0.6666666666666666,
                            "#ed7953"
                          ],
                          [
                            0.7777777777777778,
                            "#fb9f3a"
                          ],
                          [
                            0.8888888888888888,
                            "#fdca26"
                          ],
                          [
                            1,
                            "#f0f921"
                          ]
                        ],
                        "type": "contour"
                      }
                    ],
                    "contourcarpet": [
                      {
                        "colorbar": {
                          "outlinewidth": 0,
                          "ticks": ""
                        },
                        "type": "contourcarpet"
                      }
                    ],
                    "heatmap": [
                      {
                        "colorbar": {
                          "outlinewidth": 0,
                          "ticks": ""
                        },
                        "colorscale": [
                          [
                            0,
                            "#0d0887"
                          ],
                          [
                            0.1111111111111111,
                            "#46039f"
                          ],
                          [
                            0.2222222222222222,
                            "#7201a8"
                          ],
                          [
                            0.3333333333333333,
                            "#9c179e"
                          ],
                          [
                            0.4444444444444444,
                            "#bd3786"
                          ],
                          [
                            0.5555555555555556,
                            "#d8576b"
                          ],
                          [
                            0.6666666666666666,
                            "#ed7953"
                          ],
                          [
                            0.7777777777777778,
                            "#fb9f3a"
                          ],
                          [
                            0.8888888888888888,
                            "#fdca26"
                          ],
                          [
                            1,
                            "#f0f921"
                          ]
                        ],
                        "type": "heatmap"
                      }
                    ],
                    "heatmapgl": [
                      {
                        "colorbar": {
                          "outlinewidth": 0,
                          "ticks": ""
                        },
                        "colorscale": [
                          [
                            0,
                            "#0d0887"
                          ],
                          [
                            0.1111111111111111,
                            "#46039f"
                          ],
                          [
                            0.2222222222222222,
                            "#7201a8"
                          ],
                          [
                            0.3333333333333333,
                            "#9c179e"
                          ],
                          [
                            0.4444444444444444,
                            "#bd3786"
                          ],
                          [
                            0.5555555555555556,
                            "#d8576b"
                          ],
                          [
                            0.6666666666666666,
                            "#ed7953"
                          ],
                          [
                            0.7777777777777778,
                            "#fb9f3a"
                          ],
                          [
                            0.8888888888888888,
                            "#fdca26"
                          ],
                          [
                            1,
                            "#f0f921"
                          ]
                        ],
                        "type": "heatmapgl"
                      }
                    ],
                    "histogram": [
                      {
                        "marker": {
                          "colorbar": {
                            "outlinewidth": 0,
                            "ticks": ""
                          }
                        },
                        "type": "histogram"
                      }
                    ],
                    "histogram2d": [
                      {
                        "colorbar": {
                          "outlinewidth": 0,
                          "ticks": ""
                        },
                        "colorscale": [
                          [
                            0,
                            "#0d0887"
                          ],
                          [
                            0.1111111111111111,
                            "#46039f"
                          ],
                          [
                            0.2222222222222222,
                            "#7201a8"
                          ],
                          [
                            0.3333333333333333,
                            "#9c179e"
                          ],
                          [
                            0.4444444444444444,
                            "#bd3786"
                          ],
                          [
                            0.5555555555555556,
                            "#d8576b"
                          ],
                          [
                            0.6666666666666666,
                            "#ed7953"
                          ],
                          [
                            0.7777777777777778,
                            "#fb9f3a"
                          ],
                          [
                            0.8888888888888888,
                            "#fdca26"
                          ],
                          [
                            1,
                            "#f0f921"
                          ]
                        ],
                        "type": "histogram2d"
                      }
                    ],
                    "histogram2dcontour": [
                      {
                        "colorbar": {
                          "outlinewidth": 0,
                          "ticks": ""
                        },
                        "colorscale": [
                          [
                            0,
                            "#0d0887"
                          ],
                          [
                            0.1111111111111111,
                            "#46039f"
                          ],
                          [
                            0.2222222222222222,
                            "#7201a8"
                          ],
                          [
                            0.3333333333333333,
                            "#9c179e"
                          ],
                          [
                            0.4444444444444444,
                            "#bd3786"
                          ],
                          [
                            0.5555555555555556,
                            "#d8576b"
                          ],
                          [
                            0.6666666666666666,
                            "#ed7953"
                          ],
                          [
                            0.7777777777777778,
                            "#fb9f3a"
                          ],
                          [
                            0.8888888888888888,
                            "#fdca26"
                          ],
                          [
                            1,
                            "#f0f921"
                          ]
                        ],
                        "type": "histogram2dcontour"
                      }
                    ],
                    "mesh3d": [
                      {
                        "colorbar": {
                          "outlinewidth": 0,
                          "ticks": ""
                        },
                        "type": "mesh3d"
                      }
                    ],
                    "parcoords": [
                      {
                        "line": {
                          "colorbar": {
                            "outlinewidth": 0,
                            "ticks": ""
                          }
                        },
                        "type": "parcoords"
                      }
                    ],
                    "pie": [
                      {
                        "automargin": true,
                        "type": "pie"
                      }
                    ],
                    "scatter": [
                      {
                        "marker": {
                          "colorbar": {
                            "outlinewidth": 0,
                            "ticks": ""
                          }
                        },
                        "type": "scatter"
                      }
                    ],
                    "scatter3d": [
                      {
                        "line": {
                          "colorbar": {
                            "outlinewidth": 0,
                            "ticks": ""
                          }
                        },
                        "marker": {
                          "colorbar": {
                            "outlinewidth": 0,
                            "ticks": ""
                          }
                        },
                        "type": "scatter3d"
                      }
                    ],
                    "scattercarpet": [
                      {
                        "marker": {
                          "colorbar": {
                            "outlinewidth": 0,
                            "ticks": ""
                          }
                        },
                        "type": "scattercarpet"
                      }
                    ],
                    "scattergeo": [
                      {
                        "marker": {
                          "colorbar": {
                            "outlinewidth": 0,
                            "ticks": ""
                          }
                        },
                        "type": "scattergeo"
                      }
                    ],
                    "scattergl": [
                      {
                        "marker": {
                          "colorbar": {
                            "outlinewidth": 0,
                            "ticks": ""
                          }
                        },
                        "type": "scattergl"
                      }
                    ],
                    "scattermapbox": [
                      {
                        "marker": {
                          "colorbar": {
                            "outlinewidth": 0,
                            "ticks": ""
                          }
                        },
                        "type": "scattermapbox"
                      }
                    ],
                    "scatterpolar": [
                      {
                        "marker": {
                          "colorbar": {
                            "outlinewidth": 0,
                            "ticks": ""
                          }
                        },
                        "type": "scatterpolar"
                      }
                    ],
                    "scatterpolargl": [
                      {
                        "marker": {
                          "colorbar": {
                            "outlinewidth": 0,
                            "ticks": ""
                          }
                        },
                        "type": "scatterpolargl"
                      }
                    ],
                    "scatterternary": [
                      {
                        "marker": {
                          "colorbar": {
                            "outlinewidth": 0,
                            "ticks": ""
                          }
                        },
                        "type": "scatterternary"
                      }
                    ],
                    "surface": [
                      {
                        "colorbar": {
                          "outlinewidth": 0,
                          "ticks": ""
                        },
                        "colorscale": [
                          [
                            0,
                            "#0d0887"
                          ],
                          [
                            0.1111111111111111,
                            "#46039f"
                          ],
                          [
                            0.2222222222222222,
                            "#7201a8"
                          ],
                          [
                            0.3333333333333333,
                            "#9c179e"
                          ],
                          [
                            0.4444444444444444,
                            "#bd3786"
                          ],
                          [
                            0.5555555555555556,
                            "#d8576b"
                          ],
                          [
                            0.6666666666666666,
                            "#ed7953"
                          ],
                          [
                            0.7777777777777778,
                            "#fb9f3a"
                          ],
                          [
                            0.8888888888888888,
                            "#fdca26"
                          ],
                          [
                            1,
                            "#f0f921"
                          ]
                        ],
                        "type": "surface"
                      }
                    ],
                    "table": [
                      {
                        "cells": {
                          "fill": {
                            "color": "#EBF0F8"
                          },
                          "line": {
                            "color": "white"
                          }
                        },
                        "header": {
                          "fill": {
                            "color": "#C8D4E3"
                          },
                          "line": {
                            "color": "white"
                          }
                        },
                        "type": "table"
                      }
                    ]
                  },
                  "layout": {
                    "annotationdefaults": {
                      "arrowcolor": "#2a3f5f",
                      "arrowhead": 0,
                      "arrowwidth": 1
                    },
                    "coloraxis": {
                      "colorbar": {
                        "outlinewidth": 0,
                        "ticks": ""
                      }
                    },
                    "colorscale": {
                      "diverging": [
                        [
                          0,
                          "#8e0152"
                        ],
                        [
                          0.1,
                          "#c51b7d"
                        ],
                        [
                          0.2,
                          "#de77ae"
                        ],
                        [
                          0.3,
                          "#f1b6da"
                        ],
                        [
                          0.4,
                          "#fde0ef"
                        ],
                        [
                          0.5,
                          "#f7f7f7"
                        ],
                        [
                          0.6,
                          "#e6f5d0"
                        ],
                        [
                          0.7,
                          "#b8e186"
                        ],
                        [
                          0.8,
                          "#7fbc41"
                        ],
                        [
                          0.9,
                          "#4d9221"
                        ],
                        [
                          1,
                          "#276419"
                        ]
                      ],
                      "sequential": [
                        [
                          0,
                          "#0d0887"
                        ],
                        [
                          0.1111111111111111,
                          "#46039f"
                        ],
                        [
                          0.2222222222222222,
                          "#7201a8"
                        ],
                        [
                          0.3333333333333333,
                          "#9c179e"
                        ],
                        [
                          0.4444444444444444,
                          "#bd3786"
                        ],
                        [
                          0.5555555555555556,
                          "#d8576b"
                        ],
                        [
                          0.6666666666666666,
                          "#ed7953"
                        ],
                        [
                          0.7777777777777778,
                          "#fb9f3a"
                        ],
                        [
                          0.8888888888888888,
                          "#fdca26"
                        ],
                        [
                          1,
                          "#f0f921"
                        ]
                      ],
                      "sequentialminus": [
                        [
                          0,
                          "#0d0887"
                        ],
                        [
                          0.1111111111111111,
                          "#46039f"
                        ],
                        [
                          0.2222222222222222,
                          "#7201a8"
                        ],
                        [
                          0.3333333333333333,
                          "#9c179e"
                        ],
                        [
                          0.4444444444444444,
                          "#bd3786"
                        ],
                        [
                          0.5555555555555556,
                          "#d8576b"
                        ],
                        [
                          0.6666666666666666,
                          "#ed7953"
                        ],
                        [
                          0.7777777777777778,
                          "#fb9f3a"
                        ],
                        [
                          0.8888888888888888,
                          "#fdca26"
                        ],
                        [
                          1,
                          "#f0f921"
                        ]
                      ]
                    },
                    "colorway": [
                      "#636efa",
                      "#EF553B",
                      "#00cc96",
                      "#ab63fa",
                      "#FFA15A",
                      "#19d3f3",
                      "#FF6692",
                      "#B6E880",
                      "#FF97FF",
                      "#FECB52"
                    ],
                    "font": {
                      "color": "#2a3f5f"
                    },
                    "geo": {
                      "bgcolor": "white",
                      "lakecolor": "white",
                      "landcolor": "#E5ECF6",
                      "showlakes": true,
                      "showland": true,
                      "subunitcolor": "white"
                    },
                    "hoverlabel": {
                      "align": "left"
                    },
                    "hovermode": "closest",
                    "mapbox": {
                      "style": "light"
                    },
                    "paper_bgcolor": "white",
                    "plot_bgcolor": "#E5ECF6",
                    "polar": {
                      "angularaxis": {
                        "gridcolor": "white",
                        "linecolor": "white",
                        "ticks": ""
                      },
                      "bgcolor": "#E5ECF6",
                      "radialaxis": {
                        "gridcolor": "white",
                        "linecolor": "white",
                        "ticks": ""
                      }
                    },
                    "scene": {
                      "xaxis": {
                        "backgroundcolor": "#E5ECF6",
                        "gridcolor": "white",
                        "gridwidth": 2,
                        "linecolor": "white",
                        "showbackground": true,
                        "ticks": "",
                        "zerolinecolor": "white"
                      },
                      "yaxis": {
                        "backgroundcolor": "#E5ECF6",
                        "gridcolor": "white",
                        "gridwidth": 2,
                        "linecolor": "white",
                        "showbackground": true,
                        "ticks": "",
                        "zerolinecolor": "white"
                      },
                      "zaxis": {
                        "backgroundcolor": "#E5ECF6",
                        "gridcolor": "white",
                        "gridwidth": 2,
                        "linecolor": "white",
                        "showbackground": true,
                        "ticks": "",
                        "zerolinecolor": "white"
                      }
                    },
                    "shapedefaults": {
                      "line": {
                        "color": "#2a3f5f"
                      }
                    },
                    "ternary": {
                      "aaxis": {
                        "gridcolor": "white",
                        "linecolor": "white",
                        "ticks": ""
                      },
                      "baxis": {
                        "gridcolor": "white",
                        "linecolor": "white",
                        "ticks": ""
                      },
                      "bgcolor": "#E5ECF6",
                      "caxis": {
                        "gridcolor": "white",
                        "linecolor": "white",
                        "ticks": ""
                      }
                    },
                    "title": {
                      "x": 0.05
                    },
                    "xaxis": {
                      "automargin": true,
                      "gridcolor": "white",
                      "linecolor": "white",
                      "ticks": "",
                      "title": {
                        "standoff": 15
                      },
                      "zerolinecolor": "white",
                      "zerolinewidth": 2
                    },
                    "yaxis": {
                      "automargin": true,
                      "gridcolor": "white",
                      "linecolor": "white",
                      "ticks": "",
                      "title": {
                        "standoff": 15
                      },
                      "zerolinecolor": "white",
                      "zerolinewidth": 2
                    }
                  }
                },
                "title": {
                  "text": "Distribution of Car Prices by Fuel Type"
                },
                "xaxis": {
                  "anchor": "y",
                  "domain": [
                    0,
                    1
                  ],
                  "title": {
                    "text": "price"
                  }
                },
                "yaxis": {
                  "anchor": "x",
                  "domain": [
                    0,
                    1
                  ],
                  "title": {
                    "text": "count"
                  }
                }
              }
            },
            "text/html": [
              "<div>                            <div id=\"95c30411-3654-4387-aeaa-0c979f8cf2a9\" class=\"plotly-graph-div\" style=\"height:525px; width:100%;\"></div>            <script type=\"text/javascript\">                require([\"plotly\"], function(Plotly) {                    window.PLOTLYENV=window.PLOTLYENV || {};                                    if (document.getElementById(\"95c30411-3654-4387-aeaa-0c979f8cf2a9\")) {                    Plotly.newPlot(                        \"95c30411-3654-4387-aeaa-0c979f8cf2a9\",                        [{\"alignmentgroup\": \"True\", \"bingroup\": \"x\", \"hovertemplate\": \"fueltype_gas=1<br>price=%{x}<br>count=%{y}<extra></extra>\", \"legendgroup\": \"1\", \"marker\": {\"color\": \"#636efa\"}, \"name\": \"1\", \"offsetgroup\": \"1\", \"orientation\": \"v\", \"showlegend\": true, \"type\": \"histogram\", \"x\": [13495.0, 16500.0, 16500.0, 13950.0, 17450.0, 15250.0, 17710.0, 18920.0, 23875.0, 17859.167, 16430.0, 16925.0, 20970.0, 21105.0, 24565.0, 30760.0, 41315.0, 36880.0, 5151.0, 6295.0, 6575.0, 5572.0, 6377.0, 7957.0, 6229.0, 6692.0, 7609.0, 8558.0, 8921.0, 12964.0, 6479.0, 6855.0, 5399.0, 6529.0, 7129.0, 7295.0, 7295.0, 7895.0, 9095.0, 8845.0, 10295.0, 12945.0, 10345.0, 6785.0, 8916.5, 8916.5, 11048.0, 32250.0, 35550.0, 36000.0, 5195.0, 6095.0, 6795.0, 6695.0, 7395.0, 10945.0, 11845.0, 13645.0, 15645.0, 8845.0, 8495.0, 10595.0, 10245.0, 11245.0, 18280.0, 34184.0, 35056.0, 40960.0, 45400.0, 16503.0, 5389.0, 6189.0, 6669.0, 7689.0, 9959.0, 8499.0, 12629.0, 14869.0, 14489.0, 6989.0, 8189.0, 9279.0, 9279.0, 5499.0, 6649.0, 6849.0, 7349.0, 7299.0, 7799.0, 7499.0, 7999.0, 8249.0, 8949.0, 9549.0, 13499.0, 14399.0, 13499.0, 17199.0, 19699.0, 18399.0, 11900.0, 12440.0, 15580.0, 16695.0, 16630.0, 18150.0, 5572.0, 7957.0, 6229.0, 6692.0, 7609.0, 8921.0, 12764.0, 22018.0, 32528.0, 34028.0, 37028.0, 31400.5, 9295.0, 9895.0, 11850.0, 12170.0, 15040.0, 15510.0, 18150.0, 18620.0, 5118.0, 7053.0, 7603.0, 7126.0, 7775.0, 9960.0, 9233.0, 11259.0, 7463.0, 10198.0, 8013.0, 11694.0, 5348.0, 6338.0, 6488.0, 6918.0, 7898.0, 8778.0, 6938.0, 7198.0, 7738.0, 8358.0, 9258.0, 8058.0, 8238.0, 9298.0, 9538.0, 8449.0, 9639.0, 9989.0, 11199.0, 11549.0, 17669.0, 8948.0, 9988.0, 10898.0, 11248.0, 16558.0, 15998.0, 15690.0, 15750.0, 7975.0, 8195.0, 8495.0, 9995.0, 11595.0, 9980.0, 13295.0, 12290.0, 12940.0, 13415.0, 15985.0, 16515.0, 18420.0, 18950.0, 16845.0, 19045.0, 21485.0, 22625.0], \"xaxis\": \"x\", \"yaxis\": \"y\"}, {\"alignmentgroup\": \"True\", \"bingroup\": \"x\", \"hovertemplate\": \"fueltype_gas=0<br>price=%{x}<br>count=%{y}<extra></extra>\", \"legendgroup\": \"0\", \"marker\": {\"color\": \"#EF553B\"}, \"name\": \"0\", \"offsetgroup\": \"0\", \"orientation\": \"v\", \"showlegend\": true, \"type\": \"histogram\", \"x\": [10795.0, 18344.0, 25552.0, 28248.0, 28176.0, 31600.0, 7099.0, 13200.0, 13860.0, 16900.0, 17075.0, 17950.0, 7898.0, 7788.0, 10698.0, 7775.0, 7995.0, 9495.0, 13845.0, 22470.0], \"xaxis\": \"x\", \"yaxis\": \"y\"}],                        {\"barmode\": \"relative\", \"legend\": {\"title\": {\"text\": \"fueltype_gas\"}, \"tracegroupgap\": 0}, \"template\": {\"data\": {\"bar\": [{\"error_x\": {\"color\": \"#2a3f5f\"}, \"error_y\": {\"color\": \"#2a3f5f\"}, \"marker\": {\"line\": {\"color\": \"#E5ECF6\", \"width\": 0.5}}, \"type\": \"bar\"}], \"barpolar\": [{\"marker\": {\"line\": {\"color\": \"#E5ECF6\", \"width\": 0.5}}, \"type\": \"barpolar\"}], \"carpet\": [{\"aaxis\": {\"endlinecolor\": \"#2a3f5f\", \"gridcolor\": \"white\", \"linecolor\": \"white\", \"minorgridcolor\": \"white\", \"startlinecolor\": \"#2a3f5f\"}, \"baxis\": {\"endlinecolor\": \"#2a3f5f\", \"gridcolor\": \"white\", \"linecolor\": \"white\", \"minorgridcolor\": \"white\", \"startlinecolor\": \"#2a3f5f\"}, \"type\": \"carpet\"}], \"choropleth\": [{\"colorbar\": {\"outlinewidth\": 0, \"ticks\": \"\"}, \"type\": \"choropleth\"}], \"contour\": [{\"colorbar\": {\"outlinewidth\": 0, \"ticks\": \"\"}, \"colorscale\": [[0.0, \"#0d0887\"], [0.1111111111111111, \"#46039f\"], [0.2222222222222222, \"#7201a8\"], [0.3333333333333333, \"#9c179e\"], [0.4444444444444444, \"#bd3786\"], [0.5555555555555556, \"#d8576b\"], [0.6666666666666666, \"#ed7953\"], [0.7777777777777778, \"#fb9f3a\"], [0.8888888888888888, \"#fdca26\"], [1.0, \"#f0f921\"]], \"type\": \"contour\"}], \"contourcarpet\": [{\"colorbar\": {\"outlinewidth\": 0, \"ticks\": \"\"}, \"type\": \"contourcarpet\"}], \"heatmap\": [{\"colorbar\": {\"outlinewidth\": 0, \"ticks\": \"\"}, \"colorscale\": [[0.0, \"#0d0887\"], [0.1111111111111111, \"#46039f\"], [0.2222222222222222, \"#7201a8\"], [0.3333333333333333, \"#9c179e\"], [0.4444444444444444, \"#bd3786\"], [0.5555555555555556, \"#d8576b\"], [0.6666666666666666, \"#ed7953\"], [0.7777777777777778, \"#fb9f3a\"], [0.8888888888888888, \"#fdca26\"], [1.0, \"#f0f921\"]], \"type\": \"heatmap\"}], \"heatmapgl\": [{\"colorbar\": {\"outlinewidth\": 0, \"ticks\": \"\"}, \"colorscale\": [[0.0, \"#0d0887\"], [0.1111111111111111, \"#46039f\"], [0.2222222222222222, \"#7201a8\"], [0.3333333333333333, \"#9c179e\"], [0.4444444444444444, \"#bd3786\"], [0.5555555555555556, \"#d8576b\"], [0.6666666666666666, \"#ed7953\"], [0.7777777777777778, \"#fb9f3a\"], [0.8888888888888888, \"#fdca26\"], [1.0, \"#f0f921\"]], \"type\": \"heatmapgl\"}], \"histogram\": [{\"marker\": {\"colorbar\": {\"outlinewidth\": 0, \"ticks\": \"\"}}, \"type\": \"histogram\"}], \"histogram2d\": [{\"colorbar\": {\"outlinewidth\": 0, \"ticks\": \"\"}, \"colorscale\": [[0.0, \"#0d0887\"], [0.1111111111111111, \"#46039f\"], [0.2222222222222222, \"#7201a8\"], [0.3333333333333333, \"#9c179e\"], [0.4444444444444444, \"#bd3786\"], [0.5555555555555556, \"#d8576b\"], [0.6666666666666666, \"#ed7953\"], [0.7777777777777778, \"#fb9f3a\"], [0.8888888888888888, \"#fdca26\"], [1.0, \"#f0f921\"]], \"type\": \"histogram2d\"}], \"histogram2dcontour\": [{\"colorbar\": {\"outlinewidth\": 0, \"ticks\": \"\"}, \"colorscale\": [[0.0, \"#0d0887\"], [0.1111111111111111, \"#46039f\"], [0.2222222222222222, \"#7201a8\"], [0.3333333333333333, \"#9c179e\"], [0.4444444444444444, \"#bd3786\"], [0.5555555555555556, \"#d8576b\"], [0.6666666666666666, \"#ed7953\"], [0.7777777777777778, \"#fb9f3a\"], [0.8888888888888888, \"#fdca26\"], [1.0, \"#f0f921\"]], \"type\": \"histogram2dcontour\"}], \"mesh3d\": [{\"colorbar\": {\"outlinewidth\": 0, \"ticks\": \"\"}, \"type\": \"mesh3d\"}], \"parcoords\": [{\"line\": {\"colorbar\": {\"outlinewidth\": 0, \"ticks\": \"\"}}, \"type\": \"parcoords\"}], \"pie\": [{\"automargin\": true, \"type\": \"pie\"}], \"scatter\": [{\"marker\": {\"colorbar\": {\"outlinewidth\": 0, \"ticks\": \"\"}}, \"type\": \"scatter\"}], \"scatter3d\": [{\"line\": {\"colorbar\": {\"outlinewidth\": 0, \"ticks\": \"\"}}, \"marker\": {\"colorbar\": {\"outlinewidth\": 0, \"ticks\": \"\"}}, \"type\": \"scatter3d\"}], \"scattercarpet\": [{\"marker\": {\"colorbar\": {\"outlinewidth\": 0, \"ticks\": \"\"}}, \"type\": \"scattercarpet\"}], \"scattergeo\": [{\"marker\": {\"colorbar\": {\"outlinewidth\": 0, \"ticks\": \"\"}}, \"type\": \"scattergeo\"}], \"scattergl\": [{\"marker\": {\"colorbar\": {\"outlinewidth\": 0, \"ticks\": \"\"}}, \"type\": \"scattergl\"}], \"scattermapbox\": [{\"marker\": {\"colorbar\": {\"outlinewidth\": 0, \"ticks\": \"\"}}, \"type\": \"scattermapbox\"}], \"scatterpolar\": [{\"marker\": {\"colorbar\": {\"outlinewidth\": 0, \"ticks\": \"\"}}, \"type\": \"scatterpolar\"}], \"scatterpolargl\": [{\"marker\": {\"colorbar\": {\"outlinewidth\": 0, \"ticks\": \"\"}}, \"type\": \"scatterpolargl\"}], \"scatterternary\": [{\"marker\": {\"colorbar\": {\"outlinewidth\": 0, \"ticks\": \"\"}}, \"type\": \"scatterternary\"}], \"surface\": [{\"colorbar\": {\"outlinewidth\": 0, \"ticks\": \"\"}, \"colorscale\": [[0.0, \"#0d0887\"], [0.1111111111111111, \"#46039f\"], [0.2222222222222222, \"#7201a8\"], [0.3333333333333333, \"#9c179e\"], [0.4444444444444444, \"#bd3786\"], [0.5555555555555556, \"#d8576b\"], [0.6666666666666666, \"#ed7953\"], [0.7777777777777778, \"#fb9f3a\"], [0.8888888888888888, \"#fdca26\"], [1.0, \"#f0f921\"]], \"type\": \"surface\"}], \"table\": [{\"cells\": {\"fill\": {\"color\": \"#EBF0F8\"}, \"line\": {\"color\": \"white\"}}, \"header\": {\"fill\": {\"color\": \"#C8D4E3\"}, \"line\": {\"color\": \"white\"}}, \"type\": \"table\"}]}, \"layout\": {\"annotationdefaults\": {\"arrowcolor\": \"#2a3f5f\", \"arrowhead\": 0, \"arrowwidth\": 1}, \"coloraxis\": {\"colorbar\": {\"outlinewidth\": 0, \"ticks\": \"\"}}, \"colorscale\": {\"diverging\": [[0, \"#8e0152\"], [0.1, \"#c51b7d\"], [0.2, \"#de77ae\"], [0.3, \"#f1b6da\"], [0.4, \"#fde0ef\"], [0.5, \"#f7f7f7\"], [0.6, \"#e6f5d0\"], [0.7, \"#b8e186\"], [0.8, \"#7fbc41\"], [0.9, \"#4d9221\"], [1, \"#276419\"]], \"sequential\": [[0.0, \"#0d0887\"], [0.1111111111111111, \"#46039f\"], [0.2222222222222222, \"#7201a8\"], [0.3333333333333333, \"#9c179e\"], [0.4444444444444444, \"#bd3786\"], [0.5555555555555556, \"#d8576b\"], [0.6666666666666666, \"#ed7953\"], [0.7777777777777778, \"#fb9f3a\"], [0.8888888888888888, \"#fdca26\"], [1.0, \"#f0f921\"]], \"sequentialminus\": [[0.0, \"#0d0887\"], [0.1111111111111111, \"#46039f\"], [0.2222222222222222, \"#7201a8\"], [0.3333333333333333, \"#9c179e\"], [0.4444444444444444, \"#bd3786\"], [0.5555555555555556, \"#d8576b\"], [0.6666666666666666, \"#ed7953\"], [0.7777777777777778, \"#fb9f3a\"], [0.8888888888888888, \"#fdca26\"], [1.0, \"#f0f921\"]]}, \"colorway\": [\"#636efa\", \"#EF553B\", \"#00cc96\", \"#ab63fa\", \"#FFA15A\", \"#19d3f3\", \"#FF6692\", \"#B6E880\", \"#FF97FF\", \"#FECB52\"], \"font\": {\"color\": \"#2a3f5f\"}, \"geo\": {\"bgcolor\": \"white\", \"lakecolor\": \"white\", \"landcolor\": \"#E5ECF6\", \"showlakes\": true, \"showland\": true, \"subunitcolor\": \"white\"}, \"hoverlabel\": {\"align\": \"left\"}, \"hovermode\": \"closest\", \"mapbox\": {\"style\": \"light\"}, \"paper_bgcolor\": \"white\", \"plot_bgcolor\": \"#E5ECF6\", \"polar\": {\"angularaxis\": {\"gridcolor\": \"white\", \"linecolor\": \"white\", \"ticks\": \"\"}, \"bgcolor\": \"#E5ECF6\", \"radialaxis\": {\"gridcolor\": \"white\", \"linecolor\": \"white\", \"ticks\": \"\"}}, \"scene\": {\"xaxis\": {\"backgroundcolor\": \"#E5ECF6\", \"gridcolor\": \"white\", \"gridwidth\": 2, \"linecolor\": \"white\", \"showbackground\": true, \"ticks\": \"\", \"zerolinecolor\": \"white\"}, \"yaxis\": {\"backgroundcolor\": \"#E5ECF6\", \"gridcolor\": \"white\", \"gridwidth\": 2, \"linecolor\": \"white\", \"showbackground\": true, \"ticks\": \"\", \"zerolinecolor\": \"white\"}, \"zaxis\": {\"backgroundcolor\": \"#E5ECF6\", \"gridcolor\": \"white\", \"gridwidth\": 2, \"linecolor\": \"white\", \"showbackground\": true, \"ticks\": \"\", \"zerolinecolor\": \"white\"}}, \"shapedefaults\": {\"line\": {\"color\": \"#2a3f5f\"}}, \"ternary\": {\"aaxis\": {\"gridcolor\": \"white\", \"linecolor\": \"white\", \"ticks\": \"\"}, \"baxis\": {\"gridcolor\": \"white\", \"linecolor\": \"white\", \"ticks\": \"\"}, \"bgcolor\": \"#E5ECF6\", \"caxis\": {\"gridcolor\": \"white\", \"linecolor\": \"white\", \"ticks\": \"\"}}, \"title\": {\"x\": 0.05}, \"xaxis\": {\"automargin\": true, \"gridcolor\": \"white\", \"linecolor\": \"white\", \"ticks\": \"\", \"title\": {\"standoff\": 15}, \"zerolinecolor\": \"white\", \"zerolinewidth\": 2}, \"yaxis\": {\"automargin\": true, \"gridcolor\": \"white\", \"linecolor\": \"white\", \"ticks\": \"\", \"title\": {\"standoff\": 15}, \"zerolinecolor\": \"white\", \"zerolinewidth\": 2}}}, \"title\": {\"text\": \"Distribution of Car Prices by Fuel Type\"}, \"xaxis\": {\"anchor\": \"y\", \"domain\": [0.0, 1.0], \"title\": {\"text\": \"price\"}}, \"yaxis\": {\"anchor\": \"x\", \"domain\": [0.0, 1.0], \"title\": {\"text\": \"count\"}}},                        {\"responsive\": true}                    ).then(function(){\n",
              "                            \n",
              "var gd = document.getElementById('95c30411-3654-4387-aeaa-0c979f8cf2a9');\n",
              "var x = new MutationObserver(function (mutations, observer) {{\n",
              "        var display = window.getComputedStyle(gd).display;\n",
              "        if (!display || display === 'none') {{\n",
              "            console.log([gd, 'removed!']);\n",
              "            Plotly.purge(gd);\n",
              "            observer.disconnect();\n",
              "        }}\n",
              "}});\n",
              "\n",
              "// Listen for the removal of the full notebook cells\n",
              "var notebookContainer = gd.closest('#notebook-container');\n",
              "if (notebookContainer) {{\n",
              "    x.observe(notebookContainer, {childList: true});\n",
              "}}\n",
              "\n",
              "// Listen for the clearing of the current output cell\n",
              "var outputEl = gd.closest('.output');\n",
              "if (outputEl) {{\n",
              "    x.observe(outputEl, {childList: true});\n",
              "}}\n",
              "\n",
              "                        })                };                });            </script>        </div>"
            ]
          },
          "metadata": {},
          "output_type": "display_data"
        }
      ],
      "source": [
        "fig = px.histogram(cleandata, x=\"price\", color=\"fueltype_gas\", title='Distribution of Car Prices by Fuel Type')\n",
        "fig.show()"
      ]
    },
    {
      "cell_type": "markdown",
      "metadata": {},
      "source": [
        "The graph shows the same story as the histogram before, but also shows that all the most expensive cars are gas powered."
      ]
    },
    {
      "cell_type": "markdown",
      "metadata": {},
      "source": [
        "Showing the total sales of each car manufacturer, while also showing the prices of each vehicle sold"
      ]
    },
    {
      "cell_type": "code",
      "execution_count": 49,
      "metadata": {},
      "outputs": [
        {
          "data": {
            "application/vnd.plotly.v1+json": {
              "config": {
                "plotlyServerURL": "https://plot.ly"
              },
              "data": [
                {
                  "alignmentgroup": "True",
                  "hovertemplate": "CarName=%{x}<br>price=%{marker.color}<extra></extra>",
                  "legendgroup": "",
                  "marker": {
                    "color": [
                      13495,
                      16500,
                      16500,
                      13950,
                      17450,
                      15250,
                      17710,
                      18920,
                      23875,
                      17859.167,
                      16430,
                      16925,
                      20970,
                      21105,
                      24565,
                      30760,
                      41315,
                      36880,
                      5151,
                      6295,
                      6575,
                      5572,
                      6377,
                      7957,
                      6229,
                      6692,
                      7609,
                      8558,
                      8921,
                      12964,
                      6479,
                      6855,
                      5399,
                      6529,
                      7129,
                      7295,
                      7295,
                      7895,
                      9095,
                      8845,
                      10295,
                      12945,
                      10345,
                      6785,
                      8916.5,
                      8916.5,
                      11048,
                      32250,
                      35550,
                      36000,
                      5195,
                      6095,
                      6795,
                      6695,
                      7395,
                      10945,
                      11845,
                      13645,
                      15645,
                      8845,
                      8495,
                      10595,
                      10245,
                      10795,
                      11245,
                      18280,
                      18344,
                      25552,
                      28248,
                      28176,
                      31600,
                      34184,
                      35056,
                      40960,
                      45400,
                      16503,
                      5389,
                      6189,
                      6669,
                      7689,
                      9959,
                      8499,
                      12629,
                      14869,
                      14489,
                      6989,
                      8189,
                      9279,
                      9279,
                      5499,
                      7099,
                      6649,
                      6849,
                      7349,
                      7299,
                      7799,
                      7499,
                      7999,
                      8249,
                      8949,
                      9549,
                      13499,
                      14399,
                      13499,
                      17199,
                      19699,
                      18399,
                      11900,
                      13200,
                      12440,
                      13860,
                      15580,
                      16900,
                      16695,
                      17075,
                      16630,
                      17950,
                      18150,
                      5572,
                      7957,
                      6229,
                      6692,
                      7609,
                      8921,
                      12764,
                      22018,
                      32528,
                      34028,
                      37028,
                      31400.5,
                      9295,
                      9895,
                      11850,
                      12170,
                      15040,
                      15510,
                      18150,
                      18620,
                      5118,
                      7053,
                      7603,
                      7126,
                      7775,
                      9960,
                      9233,
                      11259,
                      7463,
                      10198,
                      8013,
                      11694,
                      5348,
                      6338,
                      6488,
                      6918,
                      7898,
                      8778,
                      6938,
                      7198,
                      7898,
                      7788,
                      7738,
                      8358,
                      9258,
                      8058,
                      8238,
                      9298,
                      9538,
                      8449,
                      9639,
                      9989,
                      11199,
                      11549,
                      17669,
                      8948,
                      10698,
                      9988,
                      10898,
                      11248,
                      16558,
                      15998,
                      15690,
                      15750,
                      7775,
                      7975,
                      7995,
                      8195,
                      8495,
                      9495,
                      9995,
                      11595,
                      9980,
                      13295,
                      13845,
                      12290,
                      12940,
                      13415,
                      15985,
                      16515,
                      18420,
                      18950,
                      16845,
                      19045,
                      21485,
                      22470,
                      22625
                    ],
                    "coloraxis": "coloraxis"
                  },
                  "name": "",
                  "offsetgroup": "",
                  "orientation": "v",
                  "showlegend": false,
                  "textposition": "auto",
                  "type": "bar",
                  "x": [
                    "alfa-romeo",
                    "alfa-romeo",
                    "alfa-romeo",
                    "audi",
                    "audi",
                    "audi",
                    "audi",
                    "audi",
                    "audi",
                    "audi",
                    "bmw",
                    "bmw",
                    "bmw",
                    "bmw",
                    "bmw",
                    "bmw",
                    "bmw",
                    "bmw",
                    "chevrolet",
                    "chevrolet",
                    "chevrolet",
                    "dodge",
                    "dodge",
                    "dodge",
                    "dodge",
                    "dodge",
                    "dodge",
                    "dodge",
                    "dodge",
                    "dodge",
                    "honda",
                    "honda",
                    "honda",
                    "honda",
                    "honda",
                    "honda",
                    "honda",
                    "honda",
                    "honda",
                    "honda",
                    "honda",
                    "honda",
                    "honda",
                    "isuzu",
                    "isuzu",
                    "isuzu",
                    "isuzu",
                    "jaguar",
                    "jaguar",
                    "jaguar",
                    "mazda",
                    "mazda",
                    "mazda",
                    "mazda",
                    "mazda",
                    "mazda",
                    "mazda",
                    "mazda",
                    "mazda",
                    "mazda",
                    "mazda",
                    "mazda",
                    "mazda",
                    "mazda",
                    "mazda",
                    "mazda",
                    "mazda",
                    "buick",
                    "buick",
                    "buick",
                    "buick",
                    "buick",
                    "buick",
                    "buick",
                    "buick",
                    "mercury",
                    "mitsubishi",
                    "mitsubishi",
                    "mitsubishi",
                    "mitsubishi",
                    "mitsubishi",
                    "mitsubishi",
                    "mitsubishi",
                    "mitsubishi",
                    "mitsubishi",
                    "mitsubishi",
                    "mitsubishi",
                    "mitsubishi",
                    "mitsubishi",
                    "nissan",
                    "nissan",
                    "nissan",
                    "nissan",
                    "nissan",
                    "nissan",
                    "nissan",
                    "nissan",
                    "nissan",
                    "nissan",
                    "nissan",
                    "nissan",
                    "nissan",
                    "nissan",
                    "nissan",
                    "nissan",
                    "nissan",
                    "nissan",
                    "peugeot",
                    "peugeot",
                    "peugeot",
                    "peugeot",
                    "peugeot",
                    "peugeot",
                    "peugeot",
                    "peugeot",
                    "peugeot",
                    "peugeot",
                    "peugeot",
                    "plymouth",
                    "plymouth",
                    "plymouth",
                    "plymouth",
                    "plymouth",
                    "plymouth",
                    "plymouth",
                    "porsche",
                    "porsche",
                    "porsche",
                    "porsche",
                    "porsche",
                    "renault",
                    "renault",
                    "saab",
                    "saab",
                    "saab",
                    "saab",
                    "saab",
                    "saab",
                    "subaru",
                    "subaru",
                    "subaru",
                    "subaru",
                    "subaru",
                    "subaru",
                    "subaru",
                    "subaru",
                    "subaru",
                    "subaru",
                    "subaru",
                    "subaru",
                    "toyota",
                    "toyota",
                    "toyota",
                    "toyota",
                    "toyota",
                    "toyota",
                    "toyota",
                    "toyota",
                    "toyota",
                    "toyota",
                    "toyota",
                    "toyota",
                    "toyota",
                    "toyota",
                    "toyota",
                    "toyota",
                    "toyota",
                    "toyota",
                    "toyota",
                    "toyota",
                    "toyota",
                    "toyota",
                    "toyota",
                    "toyota",
                    "toyota",
                    "toyota",
                    "toyota",
                    "toyota",
                    "toyota",
                    "toyota",
                    "toyota",
                    "toyota",
                    "volkswagen",
                    "volkswagen",
                    "volkswagen",
                    "volkswagen",
                    "volkswagen",
                    "volkswagen",
                    "volkswagen",
                    "volkswagen",
                    "volkswagen",
                    "volkswagen",
                    "volkswagen",
                    "volkswagen",
                    "volvo",
                    "volvo",
                    "volvo",
                    "volvo",
                    "volvo",
                    "volvo",
                    "volvo",
                    "volvo",
                    "volvo",
                    "volvo",
                    "volvo"
                  ],
                  "xaxis": "x",
                  "y": [
                    13495,
                    16500,
                    16500,
                    13950,
                    17450,
                    15250,
                    17710,
                    18920,
                    23875,
                    17859.167,
                    16430,
                    16925,
                    20970,
                    21105,
                    24565,
                    30760,
                    41315,
                    36880,
                    5151,
                    6295,
                    6575,
                    5572,
                    6377,
                    7957,
                    6229,
                    6692,
                    7609,
                    8558,
                    8921,
                    12964,
                    6479,
                    6855,
                    5399,
                    6529,
                    7129,
                    7295,
                    7295,
                    7895,
                    9095,
                    8845,
                    10295,
                    12945,
                    10345,
                    6785,
                    8916.5,
                    8916.5,
                    11048,
                    32250,
                    35550,
                    36000,
                    5195,
                    6095,
                    6795,
                    6695,
                    7395,
                    10945,
                    11845,
                    13645,
                    15645,
                    8845,
                    8495,
                    10595,
                    10245,
                    10795,
                    11245,
                    18280,
                    18344,
                    25552,
                    28248,
                    28176,
                    31600,
                    34184,
                    35056,
                    40960,
                    45400,
                    16503,
                    5389,
                    6189,
                    6669,
                    7689,
                    9959,
                    8499,
                    12629,
                    14869,
                    14489,
                    6989,
                    8189,
                    9279,
                    9279,
                    5499,
                    7099,
                    6649,
                    6849,
                    7349,
                    7299,
                    7799,
                    7499,
                    7999,
                    8249,
                    8949,
                    9549,
                    13499,
                    14399,
                    13499,
                    17199,
                    19699,
                    18399,
                    11900,
                    13200,
                    12440,
                    13860,
                    15580,
                    16900,
                    16695,
                    17075,
                    16630,
                    17950,
                    18150,
                    5572,
                    7957,
                    6229,
                    6692,
                    7609,
                    8921,
                    12764,
                    22018,
                    32528,
                    34028,
                    37028,
                    31400.5,
                    9295,
                    9895,
                    11850,
                    12170,
                    15040,
                    15510,
                    18150,
                    18620,
                    5118,
                    7053,
                    7603,
                    7126,
                    7775,
                    9960,
                    9233,
                    11259,
                    7463,
                    10198,
                    8013,
                    11694,
                    5348,
                    6338,
                    6488,
                    6918,
                    7898,
                    8778,
                    6938,
                    7198,
                    7898,
                    7788,
                    7738,
                    8358,
                    9258,
                    8058,
                    8238,
                    9298,
                    9538,
                    8449,
                    9639,
                    9989,
                    11199,
                    11549,
                    17669,
                    8948,
                    10698,
                    9988,
                    10898,
                    11248,
                    16558,
                    15998,
                    15690,
                    15750,
                    7775,
                    7975,
                    7995,
                    8195,
                    8495,
                    9495,
                    9995,
                    11595,
                    9980,
                    13295,
                    13845,
                    12290,
                    12940,
                    13415,
                    15985,
                    16515,
                    18420,
                    18950,
                    16845,
                    19045,
                    21485,
                    22470,
                    22625
                  ],
                  "yaxis": "y"
                }
              ],
              "layout": {
                "barmode": "relative",
                "coloraxis": {
                  "colorbar": {
                    "title": {
                      "text": "price"
                    }
                  },
                  "colorscale": [
                    [
                      0,
                      "#0d0887"
                    ],
                    [
                      0.1111111111111111,
                      "#46039f"
                    ],
                    [
                      0.2222222222222222,
                      "#7201a8"
                    ],
                    [
                      0.3333333333333333,
                      "#9c179e"
                    ],
                    [
                      0.4444444444444444,
                      "#bd3786"
                    ],
                    [
                      0.5555555555555556,
                      "#d8576b"
                    ],
                    [
                      0.6666666666666666,
                      "#ed7953"
                    ],
                    [
                      0.7777777777777778,
                      "#fb9f3a"
                    ],
                    [
                      0.8888888888888888,
                      "#fdca26"
                    ],
                    [
                      1,
                      "#f0f921"
                    ]
                  ]
                },
                "legend": {
                  "tracegroupgap": 0
                },
                "template": {
                  "data": {
                    "bar": [
                      {
                        "error_x": {
                          "color": "#2a3f5f"
                        },
                        "error_y": {
                          "color": "#2a3f5f"
                        },
                        "marker": {
                          "line": {
                            "color": "#E5ECF6",
                            "width": 0.5
                          }
                        },
                        "type": "bar"
                      }
                    ],
                    "barpolar": [
                      {
                        "marker": {
                          "line": {
                            "color": "#E5ECF6",
                            "width": 0.5
                          }
                        },
                        "type": "barpolar"
                      }
                    ],
                    "carpet": [
                      {
                        "aaxis": {
                          "endlinecolor": "#2a3f5f",
                          "gridcolor": "white",
                          "linecolor": "white",
                          "minorgridcolor": "white",
                          "startlinecolor": "#2a3f5f"
                        },
                        "baxis": {
                          "endlinecolor": "#2a3f5f",
                          "gridcolor": "white",
                          "linecolor": "white",
                          "minorgridcolor": "white",
                          "startlinecolor": "#2a3f5f"
                        },
                        "type": "carpet"
                      }
                    ],
                    "choropleth": [
                      {
                        "colorbar": {
                          "outlinewidth": 0,
                          "ticks": ""
                        },
                        "type": "choropleth"
                      }
                    ],
                    "contour": [
                      {
                        "colorbar": {
                          "outlinewidth": 0,
                          "ticks": ""
                        },
                        "colorscale": [
                          [
                            0,
                            "#0d0887"
                          ],
                          [
                            0.1111111111111111,
                            "#46039f"
                          ],
                          [
                            0.2222222222222222,
                            "#7201a8"
                          ],
                          [
                            0.3333333333333333,
                            "#9c179e"
                          ],
                          [
                            0.4444444444444444,
                            "#bd3786"
                          ],
                          [
                            0.5555555555555556,
                            "#d8576b"
                          ],
                          [
                            0.6666666666666666,
                            "#ed7953"
                          ],
                          [
                            0.7777777777777778,
                            "#fb9f3a"
                          ],
                          [
                            0.8888888888888888,
                            "#fdca26"
                          ],
                          [
                            1,
                            "#f0f921"
                          ]
                        ],
                        "type": "contour"
                      }
                    ],
                    "contourcarpet": [
                      {
                        "colorbar": {
                          "outlinewidth": 0,
                          "ticks": ""
                        },
                        "type": "contourcarpet"
                      }
                    ],
                    "heatmap": [
                      {
                        "colorbar": {
                          "outlinewidth": 0,
                          "ticks": ""
                        },
                        "colorscale": [
                          [
                            0,
                            "#0d0887"
                          ],
                          [
                            0.1111111111111111,
                            "#46039f"
                          ],
                          [
                            0.2222222222222222,
                            "#7201a8"
                          ],
                          [
                            0.3333333333333333,
                            "#9c179e"
                          ],
                          [
                            0.4444444444444444,
                            "#bd3786"
                          ],
                          [
                            0.5555555555555556,
                            "#d8576b"
                          ],
                          [
                            0.6666666666666666,
                            "#ed7953"
                          ],
                          [
                            0.7777777777777778,
                            "#fb9f3a"
                          ],
                          [
                            0.8888888888888888,
                            "#fdca26"
                          ],
                          [
                            1,
                            "#f0f921"
                          ]
                        ],
                        "type": "heatmap"
                      }
                    ],
                    "heatmapgl": [
                      {
                        "colorbar": {
                          "outlinewidth": 0,
                          "ticks": ""
                        },
                        "colorscale": [
                          [
                            0,
                            "#0d0887"
                          ],
                          [
                            0.1111111111111111,
                            "#46039f"
                          ],
                          [
                            0.2222222222222222,
                            "#7201a8"
                          ],
                          [
                            0.3333333333333333,
                            "#9c179e"
                          ],
                          [
                            0.4444444444444444,
                            "#bd3786"
                          ],
                          [
                            0.5555555555555556,
                            "#d8576b"
                          ],
                          [
                            0.6666666666666666,
                            "#ed7953"
                          ],
                          [
                            0.7777777777777778,
                            "#fb9f3a"
                          ],
                          [
                            0.8888888888888888,
                            "#fdca26"
                          ],
                          [
                            1,
                            "#f0f921"
                          ]
                        ],
                        "type": "heatmapgl"
                      }
                    ],
                    "histogram": [
                      {
                        "marker": {
                          "colorbar": {
                            "outlinewidth": 0,
                            "ticks": ""
                          }
                        },
                        "type": "histogram"
                      }
                    ],
                    "histogram2d": [
                      {
                        "colorbar": {
                          "outlinewidth": 0,
                          "ticks": ""
                        },
                        "colorscale": [
                          [
                            0,
                            "#0d0887"
                          ],
                          [
                            0.1111111111111111,
                            "#46039f"
                          ],
                          [
                            0.2222222222222222,
                            "#7201a8"
                          ],
                          [
                            0.3333333333333333,
                            "#9c179e"
                          ],
                          [
                            0.4444444444444444,
                            "#bd3786"
                          ],
                          [
                            0.5555555555555556,
                            "#d8576b"
                          ],
                          [
                            0.6666666666666666,
                            "#ed7953"
                          ],
                          [
                            0.7777777777777778,
                            "#fb9f3a"
                          ],
                          [
                            0.8888888888888888,
                            "#fdca26"
                          ],
                          [
                            1,
                            "#f0f921"
                          ]
                        ],
                        "type": "histogram2d"
                      }
                    ],
                    "histogram2dcontour": [
                      {
                        "colorbar": {
                          "outlinewidth": 0,
                          "ticks": ""
                        },
                        "colorscale": [
                          [
                            0,
                            "#0d0887"
                          ],
                          [
                            0.1111111111111111,
                            "#46039f"
                          ],
                          [
                            0.2222222222222222,
                            "#7201a8"
                          ],
                          [
                            0.3333333333333333,
                            "#9c179e"
                          ],
                          [
                            0.4444444444444444,
                            "#bd3786"
                          ],
                          [
                            0.5555555555555556,
                            "#d8576b"
                          ],
                          [
                            0.6666666666666666,
                            "#ed7953"
                          ],
                          [
                            0.7777777777777778,
                            "#fb9f3a"
                          ],
                          [
                            0.8888888888888888,
                            "#fdca26"
                          ],
                          [
                            1,
                            "#f0f921"
                          ]
                        ],
                        "type": "histogram2dcontour"
                      }
                    ],
                    "mesh3d": [
                      {
                        "colorbar": {
                          "outlinewidth": 0,
                          "ticks": ""
                        },
                        "type": "mesh3d"
                      }
                    ],
                    "parcoords": [
                      {
                        "line": {
                          "colorbar": {
                            "outlinewidth": 0,
                            "ticks": ""
                          }
                        },
                        "type": "parcoords"
                      }
                    ],
                    "pie": [
                      {
                        "automargin": true,
                        "type": "pie"
                      }
                    ],
                    "scatter": [
                      {
                        "marker": {
                          "colorbar": {
                            "outlinewidth": 0,
                            "ticks": ""
                          }
                        },
                        "type": "scatter"
                      }
                    ],
                    "scatter3d": [
                      {
                        "line": {
                          "colorbar": {
                            "outlinewidth": 0,
                            "ticks": ""
                          }
                        },
                        "marker": {
                          "colorbar": {
                            "outlinewidth": 0,
                            "ticks": ""
                          }
                        },
                        "type": "scatter3d"
                      }
                    ],
                    "scattercarpet": [
                      {
                        "marker": {
                          "colorbar": {
                            "outlinewidth": 0,
                            "ticks": ""
                          }
                        },
                        "type": "scattercarpet"
                      }
                    ],
                    "scattergeo": [
                      {
                        "marker": {
                          "colorbar": {
                            "outlinewidth": 0,
                            "ticks": ""
                          }
                        },
                        "type": "scattergeo"
                      }
                    ],
                    "scattergl": [
                      {
                        "marker": {
                          "colorbar": {
                            "outlinewidth": 0,
                            "ticks": ""
                          }
                        },
                        "type": "scattergl"
                      }
                    ],
                    "scattermapbox": [
                      {
                        "marker": {
                          "colorbar": {
                            "outlinewidth": 0,
                            "ticks": ""
                          }
                        },
                        "type": "scattermapbox"
                      }
                    ],
                    "scatterpolar": [
                      {
                        "marker": {
                          "colorbar": {
                            "outlinewidth": 0,
                            "ticks": ""
                          }
                        },
                        "type": "scatterpolar"
                      }
                    ],
                    "scatterpolargl": [
                      {
                        "marker": {
                          "colorbar": {
                            "outlinewidth": 0,
                            "ticks": ""
                          }
                        },
                        "type": "scatterpolargl"
                      }
                    ],
                    "scatterternary": [
                      {
                        "marker": {
                          "colorbar": {
                            "outlinewidth": 0,
                            "ticks": ""
                          }
                        },
                        "type": "scatterternary"
                      }
                    ],
                    "surface": [
                      {
                        "colorbar": {
                          "outlinewidth": 0,
                          "ticks": ""
                        },
                        "colorscale": [
                          [
                            0,
                            "#0d0887"
                          ],
                          [
                            0.1111111111111111,
                            "#46039f"
                          ],
                          [
                            0.2222222222222222,
                            "#7201a8"
                          ],
                          [
                            0.3333333333333333,
                            "#9c179e"
                          ],
                          [
                            0.4444444444444444,
                            "#bd3786"
                          ],
                          [
                            0.5555555555555556,
                            "#d8576b"
                          ],
                          [
                            0.6666666666666666,
                            "#ed7953"
                          ],
                          [
                            0.7777777777777778,
                            "#fb9f3a"
                          ],
                          [
                            0.8888888888888888,
                            "#fdca26"
                          ],
                          [
                            1,
                            "#f0f921"
                          ]
                        ],
                        "type": "surface"
                      }
                    ],
                    "table": [
                      {
                        "cells": {
                          "fill": {
                            "color": "#EBF0F8"
                          },
                          "line": {
                            "color": "white"
                          }
                        },
                        "header": {
                          "fill": {
                            "color": "#C8D4E3"
                          },
                          "line": {
                            "color": "white"
                          }
                        },
                        "type": "table"
                      }
                    ]
                  },
                  "layout": {
                    "annotationdefaults": {
                      "arrowcolor": "#2a3f5f",
                      "arrowhead": 0,
                      "arrowwidth": 1
                    },
                    "coloraxis": {
                      "colorbar": {
                        "outlinewidth": 0,
                        "ticks": ""
                      }
                    },
                    "colorscale": {
                      "diverging": [
                        [
                          0,
                          "#8e0152"
                        ],
                        [
                          0.1,
                          "#c51b7d"
                        ],
                        [
                          0.2,
                          "#de77ae"
                        ],
                        [
                          0.3,
                          "#f1b6da"
                        ],
                        [
                          0.4,
                          "#fde0ef"
                        ],
                        [
                          0.5,
                          "#f7f7f7"
                        ],
                        [
                          0.6,
                          "#e6f5d0"
                        ],
                        [
                          0.7,
                          "#b8e186"
                        ],
                        [
                          0.8,
                          "#7fbc41"
                        ],
                        [
                          0.9,
                          "#4d9221"
                        ],
                        [
                          1,
                          "#276419"
                        ]
                      ],
                      "sequential": [
                        [
                          0,
                          "#0d0887"
                        ],
                        [
                          0.1111111111111111,
                          "#46039f"
                        ],
                        [
                          0.2222222222222222,
                          "#7201a8"
                        ],
                        [
                          0.3333333333333333,
                          "#9c179e"
                        ],
                        [
                          0.4444444444444444,
                          "#bd3786"
                        ],
                        [
                          0.5555555555555556,
                          "#d8576b"
                        ],
                        [
                          0.6666666666666666,
                          "#ed7953"
                        ],
                        [
                          0.7777777777777778,
                          "#fb9f3a"
                        ],
                        [
                          0.8888888888888888,
                          "#fdca26"
                        ],
                        [
                          1,
                          "#f0f921"
                        ]
                      ],
                      "sequentialminus": [
                        [
                          0,
                          "#0d0887"
                        ],
                        [
                          0.1111111111111111,
                          "#46039f"
                        ],
                        [
                          0.2222222222222222,
                          "#7201a8"
                        ],
                        [
                          0.3333333333333333,
                          "#9c179e"
                        ],
                        [
                          0.4444444444444444,
                          "#bd3786"
                        ],
                        [
                          0.5555555555555556,
                          "#d8576b"
                        ],
                        [
                          0.6666666666666666,
                          "#ed7953"
                        ],
                        [
                          0.7777777777777778,
                          "#fb9f3a"
                        ],
                        [
                          0.8888888888888888,
                          "#fdca26"
                        ],
                        [
                          1,
                          "#f0f921"
                        ]
                      ]
                    },
                    "colorway": [
                      "#636efa",
                      "#EF553B",
                      "#00cc96",
                      "#ab63fa",
                      "#FFA15A",
                      "#19d3f3",
                      "#FF6692",
                      "#B6E880",
                      "#FF97FF",
                      "#FECB52"
                    ],
                    "font": {
                      "color": "#2a3f5f"
                    },
                    "geo": {
                      "bgcolor": "white",
                      "lakecolor": "white",
                      "landcolor": "#E5ECF6",
                      "showlakes": true,
                      "showland": true,
                      "subunitcolor": "white"
                    },
                    "hoverlabel": {
                      "align": "left"
                    },
                    "hovermode": "closest",
                    "mapbox": {
                      "style": "light"
                    },
                    "paper_bgcolor": "white",
                    "plot_bgcolor": "#E5ECF6",
                    "polar": {
                      "angularaxis": {
                        "gridcolor": "white",
                        "linecolor": "white",
                        "ticks": ""
                      },
                      "bgcolor": "#E5ECF6",
                      "radialaxis": {
                        "gridcolor": "white",
                        "linecolor": "white",
                        "ticks": ""
                      }
                    },
                    "scene": {
                      "xaxis": {
                        "backgroundcolor": "#E5ECF6",
                        "gridcolor": "white",
                        "gridwidth": 2,
                        "linecolor": "white",
                        "showbackground": true,
                        "ticks": "",
                        "zerolinecolor": "white"
                      },
                      "yaxis": {
                        "backgroundcolor": "#E5ECF6",
                        "gridcolor": "white",
                        "gridwidth": 2,
                        "linecolor": "white",
                        "showbackground": true,
                        "ticks": "",
                        "zerolinecolor": "white"
                      },
                      "zaxis": {
                        "backgroundcolor": "#E5ECF6",
                        "gridcolor": "white",
                        "gridwidth": 2,
                        "linecolor": "white",
                        "showbackground": true,
                        "ticks": "",
                        "zerolinecolor": "white"
                      }
                    },
                    "shapedefaults": {
                      "line": {
                        "color": "#2a3f5f"
                      }
                    },
                    "ternary": {
                      "aaxis": {
                        "gridcolor": "white",
                        "linecolor": "white",
                        "ticks": ""
                      },
                      "baxis": {
                        "gridcolor": "white",
                        "linecolor": "white",
                        "ticks": ""
                      },
                      "bgcolor": "#E5ECF6",
                      "caxis": {
                        "gridcolor": "white",
                        "linecolor": "white",
                        "ticks": ""
                      }
                    },
                    "title": {
                      "x": 0.05
                    },
                    "xaxis": {
                      "automargin": true,
                      "gridcolor": "white",
                      "linecolor": "white",
                      "ticks": "",
                      "title": {
                        "standoff": 15
                      },
                      "zerolinecolor": "white",
                      "zerolinewidth": 2
                    },
                    "yaxis": {
                      "automargin": true,
                      "gridcolor": "white",
                      "linecolor": "white",
                      "ticks": "",
                      "title": {
                        "standoff": 15
                      },
                      "zerolinecolor": "white",
                      "zerolinewidth": 2
                    }
                  }
                },
                "title": {
                  "text": "Car Prices by Manufacturer"
                },
                "xaxis": {
                  "anchor": "y",
                  "domain": [
                    0,
                    1
                  ],
                  "title": {
                    "text": "CarName"
                  }
                },
                "yaxis": {
                  "anchor": "x",
                  "domain": [
                    0,
                    1
                  ],
                  "title": {
                    "text": "price"
                  }
                }
              }
            },
            "text/html": [
              "<div>                            <div id=\"3669b726-8a7a-473b-ab2f-1f7432d214e9\" class=\"plotly-graph-div\" style=\"height:525px; width:100%;\"></div>            <script type=\"text/javascript\">                require([\"plotly\"], function(Plotly) {                    window.PLOTLYENV=window.PLOTLYENV || {};                                    if (document.getElementById(\"3669b726-8a7a-473b-ab2f-1f7432d214e9\")) {                    Plotly.newPlot(                        \"3669b726-8a7a-473b-ab2f-1f7432d214e9\",                        [{\"alignmentgroup\": \"True\", \"hovertemplate\": \"CarName=%{x}<br>price=%{marker.color}<extra></extra>\", \"legendgroup\": \"\", \"marker\": {\"color\": [13495.0, 16500.0, 16500.0, 13950.0, 17450.0, 15250.0, 17710.0, 18920.0, 23875.0, 17859.167, 16430.0, 16925.0, 20970.0, 21105.0, 24565.0, 30760.0, 41315.0, 36880.0, 5151.0, 6295.0, 6575.0, 5572.0, 6377.0, 7957.0, 6229.0, 6692.0, 7609.0, 8558.0, 8921.0, 12964.0, 6479.0, 6855.0, 5399.0, 6529.0, 7129.0, 7295.0, 7295.0, 7895.0, 9095.0, 8845.0, 10295.0, 12945.0, 10345.0, 6785.0, 8916.5, 8916.5, 11048.0, 32250.0, 35550.0, 36000.0, 5195.0, 6095.0, 6795.0, 6695.0, 7395.0, 10945.0, 11845.0, 13645.0, 15645.0, 8845.0, 8495.0, 10595.0, 10245.0, 10795.0, 11245.0, 18280.0, 18344.0, 25552.0, 28248.0, 28176.0, 31600.0, 34184.0, 35056.0, 40960.0, 45400.0, 16503.0, 5389.0, 6189.0, 6669.0, 7689.0, 9959.0, 8499.0, 12629.0, 14869.0, 14489.0, 6989.0, 8189.0, 9279.0, 9279.0, 5499.0, 7099.0, 6649.0, 6849.0, 7349.0, 7299.0, 7799.0, 7499.0, 7999.0, 8249.0, 8949.0, 9549.0, 13499.0, 14399.0, 13499.0, 17199.0, 19699.0, 18399.0, 11900.0, 13200.0, 12440.0, 13860.0, 15580.0, 16900.0, 16695.0, 17075.0, 16630.0, 17950.0, 18150.0, 5572.0, 7957.0, 6229.0, 6692.0, 7609.0, 8921.0, 12764.0, 22018.0, 32528.0, 34028.0, 37028.0, 31400.5, 9295.0, 9895.0, 11850.0, 12170.0, 15040.0, 15510.0, 18150.0, 18620.0, 5118.0, 7053.0, 7603.0, 7126.0, 7775.0, 9960.0, 9233.0, 11259.0, 7463.0, 10198.0, 8013.0, 11694.0, 5348.0, 6338.0, 6488.0, 6918.0, 7898.0, 8778.0, 6938.0, 7198.0, 7898.0, 7788.0, 7738.0, 8358.0, 9258.0, 8058.0, 8238.0, 9298.0, 9538.0, 8449.0, 9639.0, 9989.0, 11199.0, 11549.0, 17669.0, 8948.0, 10698.0, 9988.0, 10898.0, 11248.0, 16558.0, 15998.0, 15690.0, 15750.0, 7775.0, 7975.0, 7995.0, 8195.0, 8495.0, 9495.0, 9995.0, 11595.0, 9980.0, 13295.0, 13845.0, 12290.0, 12940.0, 13415.0, 15985.0, 16515.0, 18420.0, 18950.0, 16845.0, 19045.0, 21485.0, 22470.0, 22625.0], \"coloraxis\": \"coloraxis\"}, \"name\": \"\", \"offsetgroup\": \"\", \"orientation\": \"v\", \"showlegend\": false, \"textposition\": \"auto\", \"type\": \"bar\", \"x\": [\"alfa-romeo\", \"alfa-romeo\", \"alfa-romeo\", \"audi\", \"audi\", \"audi\", \"audi\", \"audi\", \"audi\", \"audi\", \"bmw\", \"bmw\", \"bmw\", \"bmw\", \"bmw\", \"bmw\", \"bmw\", \"bmw\", \"chevrolet\", \"chevrolet\", \"chevrolet\", \"dodge\", \"dodge\", \"dodge\", \"dodge\", \"dodge\", \"dodge\", \"dodge\", \"dodge\", \"dodge\", \"honda\", \"honda\", \"honda\", \"honda\", \"honda\", \"honda\", \"honda\", \"honda\", \"honda\", \"honda\", \"honda\", \"honda\", \"honda\", \"isuzu\", \"isuzu\", \"isuzu\", \"isuzu\", \"jaguar\", \"jaguar\", \"jaguar\", \"mazda\", \"mazda\", \"mazda\", \"mazda\", \"mazda\", \"mazda\", \"mazda\", \"mazda\", \"mazda\", \"mazda\", \"mazda\", \"mazda\", \"mazda\", \"mazda\", \"mazda\", \"mazda\", \"mazda\", \"buick\", \"buick\", \"buick\", \"buick\", \"buick\", \"buick\", \"buick\", \"buick\", \"mercury\", \"mitsubishi\", \"mitsubishi\", \"mitsubishi\", \"mitsubishi\", \"mitsubishi\", \"mitsubishi\", \"mitsubishi\", \"mitsubishi\", \"mitsubishi\", \"mitsubishi\", \"mitsubishi\", \"mitsubishi\", \"mitsubishi\", \"nissan\", \"nissan\", \"nissan\", \"nissan\", \"nissan\", \"nissan\", \"nissan\", \"nissan\", \"nissan\", \"nissan\", \"nissan\", \"nissan\", \"nissan\", \"nissan\", \"nissan\", \"nissan\", \"nissan\", \"nissan\", \"peugeot\", \"peugeot\", \"peugeot\", \"peugeot\", \"peugeot\", \"peugeot\", \"peugeot\", \"peugeot\", \"peugeot\", \"peugeot\", \"peugeot\", \"plymouth\", \"plymouth\", \"plymouth\", \"plymouth\", \"plymouth\", \"plymouth\", \"plymouth\", \"porsche\", \"porsche\", \"porsche\", \"porsche\", \"porsche\", \"renault\", \"renault\", \"saab\", \"saab\", \"saab\", \"saab\", \"saab\", \"saab\", \"subaru\", \"subaru\", \"subaru\", \"subaru\", \"subaru\", \"subaru\", \"subaru\", \"subaru\", \"subaru\", \"subaru\", \"subaru\", \"subaru\", \"toyota\", \"toyota\", \"toyota\", \"toyota\", \"toyota\", \"toyota\", \"toyota\", \"toyota\", \"toyota\", \"toyota\", \"toyota\", \"toyota\", \"toyota\", \"toyota\", \"toyota\", \"toyota\", \"toyota\", \"toyota\", \"toyota\", \"toyota\", \"toyota\", \"toyota\", \"toyota\", \"toyota\", \"toyota\", \"toyota\", \"toyota\", \"toyota\", \"toyota\", \"toyota\", \"toyota\", \"toyota\", \"volkswagen\", \"volkswagen\", \"volkswagen\", \"volkswagen\", \"volkswagen\", \"volkswagen\", \"volkswagen\", \"volkswagen\", \"volkswagen\", \"volkswagen\", \"volkswagen\", \"volkswagen\", \"volvo\", \"volvo\", \"volvo\", \"volvo\", \"volvo\", \"volvo\", \"volvo\", \"volvo\", \"volvo\", \"volvo\", \"volvo\"], \"xaxis\": \"x\", \"y\": [13495.0, 16500.0, 16500.0, 13950.0, 17450.0, 15250.0, 17710.0, 18920.0, 23875.0, 17859.167, 16430.0, 16925.0, 20970.0, 21105.0, 24565.0, 30760.0, 41315.0, 36880.0, 5151.0, 6295.0, 6575.0, 5572.0, 6377.0, 7957.0, 6229.0, 6692.0, 7609.0, 8558.0, 8921.0, 12964.0, 6479.0, 6855.0, 5399.0, 6529.0, 7129.0, 7295.0, 7295.0, 7895.0, 9095.0, 8845.0, 10295.0, 12945.0, 10345.0, 6785.0, 8916.5, 8916.5, 11048.0, 32250.0, 35550.0, 36000.0, 5195.0, 6095.0, 6795.0, 6695.0, 7395.0, 10945.0, 11845.0, 13645.0, 15645.0, 8845.0, 8495.0, 10595.0, 10245.0, 10795.0, 11245.0, 18280.0, 18344.0, 25552.0, 28248.0, 28176.0, 31600.0, 34184.0, 35056.0, 40960.0, 45400.0, 16503.0, 5389.0, 6189.0, 6669.0, 7689.0, 9959.0, 8499.0, 12629.0, 14869.0, 14489.0, 6989.0, 8189.0, 9279.0, 9279.0, 5499.0, 7099.0, 6649.0, 6849.0, 7349.0, 7299.0, 7799.0, 7499.0, 7999.0, 8249.0, 8949.0, 9549.0, 13499.0, 14399.0, 13499.0, 17199.0, 19699.0, 18399.0, 11900.0, 13200.0, 12440.0, 13860.0, 15580.0, 16900.0, 16695.0, 17075.0, 16630.0, 17950.0, 18150.0, 5572.0, 7957.0, 6229.0, 6692.0, 7609.0, 8921.0, 12764.0, 22018.0, 32528.0, 34028.0, 37028.0, 31400.5, 9295.0, 9895.0, 11850.0, 12170.0, 15040.0, 15510.0, 18150.0, 18620.0, 5118.0, 7053.0, 7603.0, 7126.0, 7775.0, 9960.0, 9233.0, 11259.0, 7463.0, 10198.0, 8013.0, 11694.0, 5348.0, 6338.0, 6488.0, 6918.0, 7898.0, 8778.0, 6938.0, 7198.0, 7898.0, 7788.0, 7738.0, 8358.0, 9258.0, 8058.0, 8238.0, 9298.0, 9538.0, 8449.0, 9639.0, 9989.0, 11199.0, 11549.0, 17669.0, 8948.0, 10698.0, 9988.0, 10898.0, 11248.0, 16558.0, 15998.0, 15690.0, 15750.0, 7775.0, 7975.0, 7995.0, 8195.0, 8495.0, 9495.0, 9995.0, 11595.0, 9980.0, 13295.0, 13845.0, 12290.0, 12940.0, 13415.0, 15985.0, 16515.0, 18420.0, 18950.0, 16845.0, 19045.0, 21485.0, 22470.0, 22625.0], \"yaxis\": \"y\"}],                        {\"barmode\": \"relative\", \"coloraxis\": {\"colorbar\": {\"title\": {\"text\": \"price\"}}, \"colorscale\": [[0.0, \"#0d0887\"], [0.1111111111111111, \"#46039f\"], [0.2222222222222222, \"#7201a8\"], [0.3333333333333333, \"#9c179e\"], [0.4444444444444444, \"#bd3786\"], [0.5555555555555556, \"#d8576b\"], [0.6666666666666666, \"#ed7953\"], [0.7777777777777778, \"#fb9f3a\"], [0.8888888888888888, \"#fdca26\"], [1.0, \"#f0f921\"]]}, \"legend\": {\"tracegroupgap\": 0}, \"template\": {\"data\": {\"bar\": [{\"error_x\": {\"color\": \"#2a3f5f\"}, \"error_y\": {\"color\": \"#2a3f5f\"}, \"marker\": {\"line\": {\"color\": \"#E5ECF6\", \"width\": 0.5}}, \"type\": \"bar\"}], \"barpolar\": [{\"marker\": {\"line\": {\"color\": \"#E5ECF6\", \"width\": 0.5}}, \"type\": \"barpolar\"}], \"carpet\": [{\"aaxis\": {\"endlinecolor\": \"#2a3f5f\", \"gridcolor\": \"white\", \"linecolor\": \"white\", \"minorgridcolor\": \"white\", \"startlinecolor\": \"#2a3f5f\"}, \"baxis\": {\"endlinecolor\": \"#2a3f5f\", \"gridcolor\": \"white\", \"linecolor\": \"white\", \"minorgridcolor\": \"white\", \"startlinecolor\": \"#2a3f5f\"}, \"type\": \"carpet\"}], \"choropleth\": [{\"colorbar\": {\"outlinewidth\": 0, \"ticks\": \"\"}, \"type\": \"choropleth\"}], \"contour\": [{\"colorbar\": {\"outlinewidth\": 0, \"ticks\": \"\"}, \"colorscale\": [[0.0, \"#0d0887\"], [0.1111111111111111, \"#46039f\"], [0.2222222222222222, \"#7201a8\"], [0.3333333333333333, \"#9c179e\"], [0.4444444444444444, \"#bd3786\"], [0.5555555555555556, \"#d8576b\"], [0.6666666666666666, \"#ed7953\"], [0.7777777777777778, \"#fb9f3a\"], [0.8888888888888888, \"#fdca26\"], [1.0, \"#f0f921\"]], \"type\": \"contour\"}], \"contourcarpet\": [{\"colorbar\": {\"outlinewidth\": 0, \"ticks\": \"\"}, \"type\": \"contourcarpet\"}], \"heatmap\": [{\"colorbar\": {\"outlinewidth\": 0, \"ticks\": \"\"}, \"colorscale\": [[0.0, \"#0d0887\"], [0.1111111111111111, \"#46039f\"], [0.2222222222222222, \"#7201a8\"], [0.3333333333333333, \"#9c179e\"], [0.4444444444444444, \"#bd3786\"], [0.5555555555555556, \"#d8576b\"], [0.6666666666666666, \"#ed7953\"], [0.7777777777777778, \"#fb9f3a\"], [0.8888888888888888, \"#fdca26\"], [1.0, \"#f0f921\"]], \"type\": \"heatmap\"}], \"heatmapgl\": [{\"colorbar\": {\"outlinewidth\": 0, \"ticks\": \"\"}, \"colorscale\": [[0.0, \"#0d0887\"], [0.1111111111111111, \"#46039f\"], [0.2222222222222222, \"#7201a8\"], [0.3333333333333333, \"#9c179e\"], [0.4444444444444444, \"#bd3786\"], [0.5555555555555556, \"#d8576b\"], [0.6666666666666666, \"#ed7953\"], [0.7777777777777778, \"#fb9f3a\"], [0.8888888888888888, \"#fdca26\"], [1.0, \"#f0f921\"]], \"type\": \"heatmapgl\"}], \"histogram\": [{\"marker\": {\"colorbar\": {\"outlinewidth\": 0, \"ticks\": \"\"}}, \"type\": \"histogram\"}], \"histogram2d\": [{\"colorbar\": {\"outlinewidth\": 0, \"ticks\": \"\"}, \"colorscale\": [[0.0, \"#0d0887\"], [0.1111111111111111, \"#46039f\"], [0.2222222222222222, \"#7201a8\"], [0.3333333333333333, \"#9c179e\"], [0.4444444444444444, \"#bd3786\"], [0.5555555555555556, \"#d8576b\"], [0.6666666666666666, \"#ed7953\"], [0.7777777777777778, \"#fb9f3a\"], [0.8888888888888888, \"#fdca26\"], [1.0, \"#f0f921\"]], \"type\": \"histogram2d\"}], \"histogram2dcontour\": [{\"colorbar\": {\"outlinewidth\": 0, \"ticks\": \"\"}, \"colorscale\": [[0.0, \"#0d0887\"], [0.1111111111111111, \"#46039f\"], [0.2222222222222222, \"#7201a8\"], [0.3333333333333333, \"#9c179e\"], [0.4444444444444444, \"#bd3786\"], [0.5555555555555556, \"#d8576b\"], [0.6666666666666666, \"#ed7953\"], [0.7777777777777778, \"#fb9f3a\"], [0.8888888888888888, \"#fdca26\"], [1.0, \"#f0f921\"]], \"type\": \"histogram2dcontour\"}], \"mesh3d\": [{\"colorbar\": {\"outlinewidth\": 0, \"ticks\": \"\"}, \"type\": \"mesh3d\"}], \"parcoords\": [{\"line\": {\"colorbar\": {\"outlinewidth\": 0, \"ticks\": \"\"}}, \"type\": \"parcoords\"}], \"pie\": [{\"automargin\": true, \"type\": \"pie\"}], \"scatter\": [{\"marker\": {\"colorbar\": {\"outlinewidth\": 0, \"ticks\": \"\"}}, \"type\": \"scatter\"}], \"scatter3d\": [{\"line\": {\"colorbar\": {\"outlinewidth\": 0, \"ticks\": \"\"}}, \"marker\": {\"colorbar\": {\"outlinewidth\": 0, \"ticks\": \"\"}}, \"type\": \"scatter3d\"}], \"scattercarpet\": [{\"marker\": {\"colorbar\": {\"outlinewidth\": 0, \"ticks\": \"\"}}, \"type\": \"scattercarpet\"}], \"scattergeo\": [{\"marker\": {\"colorbar\": {\"outlinewidth\": 0, \"ticks\": \"\"}}, \"type\": \"scattergeo\"}], \"scattergl\": [{\"marker\": {\"colorbar\": {\"outlinewidth\": 0, \"ticks\": \"\"}}, \"type\": \"scattergl\"}], \"scattermapbox\": [{\"marker\": {\"colorbar\": {\"outlinewidth\": 0, \"ticks\": \"\"}}, \"type\": \"scattermapbox\"}], \"scatterpolar\": [{\"marker\": {\"colorbar\": {\"outlinewidth\": 0, \"ticks\": \"\"}}, \"type\": \"scatterpolar\"}], \"scatterpolargl\": [{\"marker\": {\"colorbar\": {\"outlinewidth\": 0, \"ticks\": \"\"}}, \"type\": \"scatterpolargl\"}], \"scatterternary\": [{\"marker\": {\"colorbar\": {\"outlinewidth\": 0, \"ticks\": \"\"}}, \"type\": \"scatterternary\"}], \"surface\": [{\"colorbar\": {\"outlinewidth\": 0, \"ticks\": \"\"}, \"colorscale\": [[0.0, \"#0d0887\"], [0.1111111111111111, \"#46039f\"], [0.2222222222222222, \"#7201a8\"], [0.3333333333333333, \"#9c179e\"], [0.4444444444444444, \"#bd3786\"], [0.5555555555555556, \"#d8576b\"], [0.6666666666666666, \"#ed7953\"], [0.7777777777777778, \"#fb9f3a\"], [0.8888888888888888, \"#fdca26\"], [1.0, \"#f0f921\"]], \"type\": \"surface\"}], \"table\": [{\"cells\": {\"fill\": {\"color\": \"#EBF0F8\"}, \"line\": {\"color\": \"white\"}}, \"header\": {\"fill\": {\"color\": \"#C8D4E3\"}, \"line\": {\"color\": \"white\"}}, \"type\": \"table\"}]}, \"layout\": {\"annotationdefaults\": {\"arrowcolor\": \"#2a3f5f\", \"arrowhead\": 0, \"arrowwidth\": 1}, \"coloraxis\": {\"colorbar\": {\"outlinewidth\": 0, \"ticks\": \"\"}}, \"colorscale\": {\"diverging\": [[0, \"#8e0152\"], [0.1, \"#c51b7d\"], [0.2, \"#de77ae\"], [0.3, \"#f1b6da\"], [0.4, \"#fde0ef\"], [0.5, \"#f7f7f7\"], [0.6, \"#e6f5d0\"], [0.7, \"#b8e186\"], [0.8, \"#7fbc41\"], [0.9, \"#4d9221\"], [1, \"#276419\"]], \"sequential\": [[0.0, \"#0d0887\"], [0.1111111111111111, \"#46039f\"], [0.2222222222222222, \"#7201a8\"], [0.3333333333333333, \"#9c179e\"], [0.4444444444444444, \"#bd3786\"], [0.5555555555555556, \"#d8576b\"], [0.6666666666666666, \"#ed7953\"], [0.7777777777777778, \"#fb9f3a\"], [0.8888888888888888, \"#fdca26\"], [1.0, \"#f0f921\"]], \"sequentialminus\": [[0.0, \"#0d0887\"], [0.1111111111111111, \"#46039f\"], [0.2222222222222222, \"#7201a8\"], [0.3333333333333333, \"#9c179e\"], [0.4444444444444444, \"#bd3786\"], [0.5555555555555556, \"#d8576b\"], [0.6666666666666666, \"#ed7953\"], [0.7777777777777778, \"#fb9f3a\"], [0.8888888888888888, \"#fdca26\"], [1.0, \"#f0f921\"]]}, \"colorway\": [\"#636efa\", \"#EF553B\", \"#00cc96\", \"#ab63fa\", \"#FFA15A\", \"#19d3f3\", \"#FF6692\", \"#B6E880\", \"#FF97FF\", \"#FECB52\"], \"font\": {\"color\": \"#2a3f5f\"}, \"geo\": {\"bgcolor\": \"white\", \"lakecolor\": \"white\", \"landcolor\": \"#E5ECF6\", \"showlakes\": true, \"showland\": true, \"subunitcolor\": \"white\"}, \"hoverlabel\": {\"align\": \"left\"}, \"hovermode\": \"closest\", \"mapbox\": {\"style\": \"light\"}, \"paper_bgcolor\": \"white\", \"plot_bgcolor\": \"#E5ECF6\", \"polar\": {\"angularaxis\": {\"gridcolor\": \"white\", \"linecolor\": \"white\", \"ticks\": \"\"}, \"bgcolor\": \"#E5ECF6\", \"radialaxis\": {\"gridcolor\": \"white\", \"linecolor\": \"white\", \"ticks\": \"\"}}, \"scene\": {\"xaxis\": {\"backgroundcolor\": \"#E5ECF6\", \"gridcolor\": \"white\", \"gridwidth\": 2, \"linecolor\": \"white\", \"showbackground\": true, \"ticks\": \"\", \"zerolinecolor\": \"white\"}, \"yaxis\": {\"backgroundcolor\": \"#E5ECF6\", \"gridcolor\": \"white\", \"gridwidth\": 2, \"linecolor\": \"white\", \"showbackground\": true, \"ticks\": \"\", \"zerolinecolor\": \"white\"}, \"zaxis\": {\"backgroundcolor\": \"#E5ECF6\", \"gridcolor\": \"white\", \"gridwidth\": 2, \"linecolor\": \"white\", \"showbackground\": true, \"ticks\": \"\", \"zerolinecolor\": \"white\"}}, \"shapedefaults\": {\"line\": {\"color\": \"#2a3f5f\"}}, \"ternary\": {\"aaxis\": {\"gridcolor\": \"white\", \"linecolor\": \"white\", \"ticks\": \"\"}, \"baxis\": {\"gridcolor\": \"white\", \"linecolor\": \"white\", \"ticks\": \"\"}, \"bgcolor\": \"#E5ECF6\", \"caxis\": {\"gridcolor\": \"white\", \"linecolor\": \"white\", \"ticks\": \"\"}}, \"title\": {\"x\": 0.05}, \"xaxis\": {\"automargin\": true, \"gridcolor\": \"white\", \"linecolor\": \"white\", \"ticks\": \"\", \"title\": {\"standoff\": 15}, \"zerolinecolor\": \"white\", \"zerolinewidth\": 2}, \"yaxis\": {\"automargin\": true, \"gridcolor\": \"white\", \"linecolor\": \"white\", \"ticks\": \"\", \"title\": {\"standoff\": 15}, \"zerolinecolor\": \"white\", \"zerolinewidth\": 2}}}, \"title\": {\"text\": \"Car Prices by Manufacturer\"}, \"xaxis\": {\"anchor\": \"y\", \"domain\": [0.0, 1.0], \"title\": {\"text\": \"CarName\"}}, \"yaxis\": {\"anchor\": \"x\", \"domain\": [0.0, 1.0], \"title\": {\"text\": \"price\"}}},                        {\"responsive\": true}                    ).then(function(){\n",
              "                            \n",
              "var gd = document.getElementById('3669b726-8a7a-473b-ab2f-1f7432d214e9');\n",
              "var x = new MutationObserver(function (mutations, observer) {{\n",
              "        var display = window.getComputedStyle(gd).display;\n",
              "        if (!display || display === 'none') {{\n",
              "            console.log([gd, 'removed!']);\n",
              "            Plotly.purge(gd);\n",
              "            observer.disconnect();\n",
              "        }}\n",
              "}});\n",
              "\n",
              "// Listen for the removal of the full notebook cells\n",
              "var notebookContainer = gd.closest('#notebook-container');\n",
              "if (notebookContainer) {{\n",
              "    x.observe(notebookContainer, {childList: true});\n",
              "}}\n",
              "\n",
              "// Listen for the clearing of the current output cell\n",
              "var outputEl = gd.closest('.output');\n",
              "if (outputEl) {{\n",
              "    x.observe(outputEl, {childList: true});\n",
              "}}\n",
              "\n",
              "                        })                };                });            </script>        </div>"
            ]
          },
          "metadata": {},
          "output_type": "display_data"
        }
      ],
      "source": [
        "fig = px.bar(cleandata, x='CarName', y='price', color='price', title='Car Prices by Manufacturer')\n",
        "fig.show()"
      ]
    },
    {
      "cell_type": "markdown",
      "metadata": {},
      "source": [
        "The graph shows what I would expect, brands like toyota and nissan have high total sales with most, if not all, sales being made with low priced cars. Luxury brands such as porsche and buick especially, also have high total sales figures with the majority of their income coming from the sale of highly priced vehicles."
      ]
    },
    {
      "cell_type": "markdown",
      "metadata": {},
      "source": [
        "Curbweight vs price scatterplot including citympg"
      ]
    },
    {
      "cell_type": "code",
      "execution_count": 52,
      "metadata": {},
      "outputs": [
        {
          "data": {
            "application/vnd.plotly.v1+json": {
              "config": {
                "plotlyServerURL": "https://plot.ly"
              },
              "data": [
                {
                  "hovertemplate": "curbweight=%{x}<br>price=%{y}<br>citympg=%{marker.color}<extra></extra>",
                  "legendgroup": "",
                  "marker": {
                    "color": [
                      21,
                      21,
                      19,
                      24,
                      18,
                      19,
                      19,
                      19,
                      17,
                      16,
                      23,
                      23,
                      21,
                      21,
                      20,
                      16,
                      16,
                      15,
                      47,
                      38,
                      38,
                      37,
                      31,
                      24,
                      31,
                      31,
                      31,
                      24,
                      24,
                      19,
                      49,
                      31,
                      38,
                      30,
                      30,
                      30,
                      30,
                      27,
                      27,
                      27,
                      27,
                      24,
                      25,
                      24,
                      38,
                      38,
                      24,
                      15,
                      15,
                      13,
                      30,
                      31,
                      31,
                      31,
                      31,
                      17,
                      17,
                      17,
                      16,
                      26,
                      26,
                      26,
                      26,
                      36,
                      26,
                      19,
                      31,
                      22,
                      22,
                      22,
                      22,
                      16,
                      16,
                      14,
                      14,
                      19,
                      37,
                      31,
                      31,
                      24,
                      23,
                      25,
                      19,
                      19,
                      19,
                      25,
                      25,
                      23,
                      23,
                      31,
                      45,
                      31,
                      31,
                      31,
                      31,
                      31,
                      31,
                      31,
                      31,
                      27,
                      27,
                      17,
                      17,
                      19,
                      19,
                      17,
                      19,
                      19,
                      28,
                      19,
                      25,
                      19,
                      28,
                      19,
                      25,
                      19,
                      28,
                      18,
                      37,
                      24,
                      31,
                      31,
                      31,
                      24,
                      19,
                      19,
                      17,
                      17,
                      17,
                      17,
                      23,
                      23,
                      21,
                      21,
                      21,
                      21,
                      19,
                      19,
                      31,
                      26,
                      26,
                      32,
                      28,
                      26,
                      24,
                      24,
                      28,
                      25,
                      23,
                      23,
                      35,
                      31,
                      31,
                      31,
                      27,
                      27,
                      30,
                      30,
                      34,
                      38,
                      38,
                      28,
                      28,
                      29,
                      29,
                      26,
                      26,
                      24,
                      24,
                      24,
                      24,
                      24,
                      24,
                      29,
                      30,
                      27,
                      27,
                      27,
                      20,
                      19,
                      20,
                      19,
                      37,
                      27,
                      37,
                      27,
                      27,
                      37,
                      26,
                      24,
                      24,
                      19,
                      33,
                      25,
                      23,
                      23,
                      24,
                      24,
                      17,
                      17,
                      23,
                      19,
                      18,
                      26,
                      19
                    ],
                    "coloraxis": "coloraxis",
                    "symbol": "circle"
                  },
                  "mode": "markers",
                  "name": "",
                  "orientation": "v",
                  "showlegend": false,
                  "type": "scatter",
                  "x": [
                    2548,
                    2548,
                    2823,
                    2337,
                    2824,
                    2507,
                    2844,
                    2954,
                    3086,
                    3053,
                    2395,
                    2395,
                    2710,
                    2765,
                    3055,
                    3230,
                    3380,
                    3505,
                    1488,
                    1874,
                    1909,
                    1876,
                    1876,
                    2128,
                    1967,
                    1989,
                    1989,
                    2191,
                    2535,
                    2811,
                    1713,
                    1819,
                    1837,
                    1940,
                    1956,
                    2010,
                    2024,
                    2236,
                    2289,
                    2304,
                    2372,
                    2465,
                    2293,
                    2337,
                    1874,
                    1909,
                    2734,
                    4066,
                    4066,
                    3950,
                    1890,
                    1900,
                    1905,
                    1945,
                    1950,
                    2380,
                    2380,
                    2385,
                    2500,
                    2385,
                    2410,
                    2385,
                    2410,
                    2443,
                    2425,
                    2670,
                    2700,
                    3515,
                    3750,
                    3495,
                    3770,
                    3740,
                    3685,
                    3900,
                    3715,
                    2910,
                    1918,
                    1944,
                    2004,
                    2145,
                    2370,
                    2328,
                    2833,
                    2921,
                    2926,
                    2365,
                    2405,
                    2403,
                    2403,
                    1889,
                    2017,
                    1918,
                    1938,
                    2024,
                    1951,
                    2028,
                    1971,
                    2037,
                    2008,
                    2324,
                    2302,
                    3095,
                    3296,
                    3060,
                    3071,
                    3139,
                    3139,
                    3020,
                    3197,
                    3230,
                    3430,
                    3075,
                    3252,
                    3285,
                    3485,
                    3075,
                    3252,
                    3130,
                    1918,
                    2128,
                    1967,
                    1989,
                    2191,
                    2535,
                    2818,
                    2778,
                    2756,
                    2756,
                    2800,
                    3366,
                    2579,
                    2460,
                    2658,
                    2695,
                    2707,
                    2758,
                    2808,
                    2847,
                    2050,
                    2120,
                    2240,
                    2145,
                    2190,
                    2340,
                    2385,
                    2510,
                    2290,
                    2455,
                    2420,
                    2650,
                    1985,
                    2040,
                    2015,
                    2280,
                    2290,
                    3110,
                    2081,
                    2109,
                    2275,
                    2275,
                    2094,
                    2122,
                    2140,
                    2169,
                    2204,
                    2265,
                    2300,
                    2540,
                    2536,
                    2551,
                    2679,
                    2714,
                    2975,
                    2326,
                    2480,
                    2414,
                    2414,
                    2458,
                    2976,
                    3016,
                    3131,
                    3151,
                    2261,
                    2209,
                    2264,
                    2212,
                    2275,
                    2319,
                    2300,
                    2254,
                    2221,
                    2661,
                    2579,
                    2563,
                    2912,
                    3034,
                    2935,
                    3042,
                    3045,
                    3157,
                    2952,
                    3049,
                    3012,
                    3217,
                    3062
                  ],
                  "xaxis": "x",
                  "y": [
                    13495,
                    16500,
                    16500,
                    13950,
                    17450,
                    15250,
                    17710,
                    18920,
                    23875,
                    17859.167,
                    16430,
                    16925,
                    20970,
                    21105,
                    24565,
                    30760,
                    41315,
                    36880,
                    5151,
                    6295,
                    6575,
                    5572,
                    6377,
                    7957,
                    6229,
                    6692,
                    7609,
                    8558,
                    8921,
                    12964,
                    6479,
                    6855,
                    5399,
                    6529,
                    7129,
                    7295,
                    7295,
                    7895,
                    9095,
                    8845,
                    10295,
                    12945,
                    10345,
                    6785,
                    8916.5,
                    8916.5,
                    11048,
                    32250,
                    35550,
                    36000,
                    5195,
                    6095,
                    6795,
                    6695,
                    7395,
                    10945,
                    11845,
                    13645,
                    15645,
                    8845,
                    8495,
                    10595,
                    10245,
                    10795,
                    11245,
                    18280,
                    18344,
                    25552,
                    28248,
                    28176,
                    31600,
                    34184,
                    35056,
                    40960,
                    45400,
                    16503,
                    5389,
                    6189,
                    6669,
                    7689,
                    9959,
                    8499,
                    12629,
                    14869,
                    14489,
                    6989,
                    8189,
                    9279,
                    9279,
                    5499,
                    7099,
                    6649,
                    6849,
                    7349,
                    7299,
                    7799,
                    7499,
                    7999,
                    8249,
                    8949,
                    9549,
                    13499,
                    14399,
                    13499,
                    17199,
                    19699,
                    18399,
                    11900,
                    13200,
                    12440,
                    13860,
                    15580,
                    16900,
                    16695,
                    17075,
                    16630,
                    17950,
                    18150,
                    5572,
                    7957,
                    6229,
                    6692,
                    7609,
                    8921,
                    12764,
                    22018,
                    32528,
                    34028,
                    37028,
                    31400.5,
                    9295,
                    9895,
                    11850,
                    12170,
                    15040,
                    15510,
                    18150,
                    18620,
                    5118,
                    7053,
                    7603,
                    7126,
                    7775,
                    9960,
                    9233,
                    11259,
                    7463,
                    10198,
                    8013,
                    11694,
                    5348,
                    6338,
                    6488,
                    6918,
                    7898,
                    8778,
                    6938,
                    7198,
                    7898,
                    7788,
                    7738,
                    8358,
                    9258,
                    8058,
                    8238,
                    9298,
                    9538,
                    8449,
                    9639,
                    9989,
                    11199,
                    11549,
                    17669,
                    8948,
                    10698,
                    9988,
                    10898,
                    11248,
                    16558,
                    15998,
                    15690,
                    15750,
                    7775,
                    7975,
                    7995,
                    8195,
                    8495,
                    9495,
                    9995,
                    11595,
                    9980,
                    13295,
                    13845,
                    12290,
                    12940,
                    13415,
                    15985,
                    16515,
                    18420,
                    18950,
                    16845,
                    19045,
                    21485,
                    22470,
                    22625
                  ],
                  "yaxis": "y"
                }
              ],
              "layout": {
                "coloraxis": {
                  "colorbar": {
                    "title": {
                      "text": "citympg"
                    }
                  },
                  "colorscale": [
                    [
                      0,
                      "#0d0887"
                    ],
                    [
                      0.1111111111111111,
                      "#46039f"
                    ],
                    [
                      0.2222222222222222,
                      "#7201a8"
                    ],
                    [
                      0.3333333333333333,
                      "#9c179e"
                    ],
                    [
                      0.4444444444444444,
                      "#bd3786"
                    ],
                    [
                      0.5555555555555556,
                      "#d8576b"
                    ],
                    [
                      0.6666666666666666,
                      "#ed7953"
                    ],
                    [
                      0.7777777777777778,
                      "#fb9f3a"
                    ],
                    [
                      0.8888888888888888,
                      "#fdca26"
                    ],
                    [
                      1,
                      "#f0f921"
                    ]
                  ]
                },
                "legend": {
                  "tracegroupgap": 0
                },
                "template": {
                  "data": {
                    "bar": [
                      {
                        "error_x": {
                          "color": "#2a3f5f"
                        },
                        "error_y": {
                          "color": "#2a3f5f"
                        },
                        "marker": {
                          "line": {
                            "color": "#E5ECF6",
                            "width": 0.5
                          }
                        },
                        "type": "bar"
                      }
                    ],
                    "barpolar": [
                      {
                        "marker": {
                          "line": {
                            "color": "#E5ECF6",
                            "width": 0.5
                          }
                        },
                        "type": "barpolar"
                      }
                    ],
                    "carpet": [
                      {
                        "aaxis": {
                          "endlinecolor": "#2a3f5f",
                          "gridcolor": "white",
                          "linecolor": "white",
                          "minorgridcolor": "white",
                          "startlinecolor": "#2a3f5f"
                        },
                        "baxis": {
                          "endlinecolor": "#2a3f5f",
                          "gridcolor": "white",
                          "linecolor": "white",
                          "minorgridcolor": "white",
                          "startlinecolor": "#2a3f5f"
                        },
                        "type": "carpet"
                      }
                    ],
                    "choropleth": [
                      {
                        "colorbar": {
                          "outlinewidth": 0,
                          "ticks": ""
                        },
                        "type": "choropleth"
                      }
                    ],
                    "contour": [
                      {
                        "colorbar": {
                          "outlinewidth": 0,
                          "ticks": ""
                        },
                        "colorscale": [
                          [
                            0,
                            "#0d0887"
                          ],
                          [
                            0.1111111111111111,
                            "#46039f"
                          ],
                          [
                            0.2222222222222222,
                            "#7201a8"
                          ],
                          [
                            0.3333333333333333,
                            "#9c179e"
                          ],
                          [
                            0.4444444444444444,
                            "#bd3786"
                          ],
                          [
                            0.5555555555555556,
                            "#d8576b"
                          ],
                          [
                            0.6666666666666666,
                            "#ed7953"
                          ],
                          [
                            0.7777777777777778,
                            "#fb9f3a"
                          ],
                          [
                            0.8888888888888888,
                            "#fdca26"
                          ],
                          [
                            1,
                            "#f0f921"
                          ]
                        ],
                        "type": "contour"
                      }
                    ],
                    "contourcarpet": [
                      {
                        "colorbar": {
                          "outlinewidth": 0,
                          "ticks": ""
                        },
                        "type": "contourcarpet"
                      }
                    ],
                    "heatmap": [
                      {
                        "colorbar": {
                          "outlinewidth": 0,
                          "ticks": ""
                        },
                        "colorscale": [
                          [
                            0,
                            "#0d0887"
                          ],
                          [
                            0.1111111111111111,
                            "#46039f"
                          ],
                          [
                            0.2222222222222222,
                            "#7201a8"
                          ],
                          [
                            0.3333333333333333,
                            "#9c179e"
                          ],
                          [
                            0.4444444444444444,
                            "#bd3786"
                          ],
                          [
                            0.5555555555555556,
                            "#d8576b"
                          ],
                          [
                            0.6666666666666666,
                            "#ed7953"
                          ],
                          [
                            0.7777777777777778,
                            "#fb9f3a"
                          ],
                          [
                            0.8888888888888888,
                            "#fdca26"
                          ],
                          [
                            1,
                            "#f0f921"
                          ]
                        ],
                        "type": "heatmap"
                      }
                    ],
                    "heatmapgl": [
                      {
                        "colorbar": {
                          "outlinewidth": 0,
                          "ticks": ""
                        },
                        "colorscale": [
                          [
                            0,
                            "#0d0887"
                          ],
                          [
                            0.1111111111111111,
                            "#46039f"
                          ],
                          [
                            0.2222222222222222,
                            "#7201a8"
                          ],
                          [
                            0.3333333333333333,
                            "#9c179e"
                          ],
                          [
                            0.4444444444444444,
                            "#bd3786"
                          ],
                          [
                            0.5555555555555556,
                            "#d8576b"
                          ],
                          [
                            0.6666666666666666,
                            "#ed7953"
                          ],
                          [
                            0.7777777777777778,
                            "#fb9f3a"
                          ],
                          [
                            0.8888888888888888,
                            "#fdca26"
                          ],
                          [
                            1,
                            "#f0f921"
                          ]
                        ],
                        "type": "heatmapgl"
                      }
                    ],
                    "histogram": [
                      {
                        "marker": {
                          "colorbar": {
                            "outlinewidth": 0,
                            "ticks": ""
                          }
                        },
                        "type": "histogram"
                      }
                    ],
                    "histogram2d": [
                      {
                        "colorbar": {
                          "outlinewidth": 0,
                          "ticks": ""
                        },
                        "colorscale": [
                          [
                            0,
                            "#0d0887"
                          ],
                          [
                            0.1111111111111111,
                            "#46039f"
                          ],
                          [
                            0.2222222222222222,
                            "#7201a8"
                          ],
                          [
                            0.3333333333333333,
                            "#9c179e"
                          ],
                          [
                            0.4444444444444444,
                            "#bd3786"
                          ],
                          [
                            0.5555555555555556,
                            "#d8576b"
                          ],
                          [
                            0.6666666666666666,
                            "#ed7953"
                          ],
                          [
                            0.7777777777777778,
                            "#fb9f3a"
                          ],
                          [
                            0.8888888888888888,
                            "#fdca26"
                          ],
                          [
                            1,
                            "#f0f921"
                          ]
                        ],
                        "type": "histogram2d"
                      }
                    ],
                    "histogram2dcontour": [
                      {
                        "colorbar": {
                          "outlinewidth": 0,
                          "ticks": ""
                        },
                        "colorscale": [
                          [
                            0,
                            "#0d0887"
                          ],
                          [
                            0.1111111111111111,
                            "#46039f"
                          ],
                          [
                            0.2222222222222222,
                            "#7201a8"
                          ],
                          [
                            0.3333333333333333,
                            "#9c179e"
                          ],
                          [
                            0.4444444444444444,
                            "#bd3786"
                          ],
                          [
                            0.5555555555555556,
                            "#d8576b"
                          ],
                          [
                            0.6666666666666666,
                            "#ed7953"
                          ],
                          [
                            0.7777777777777778,
                            "#fb9f3a"
                          ],
                          [
                            0.8888888888888888,
                            "#fdca26"
                          ],
                          [
                            1,
                            "#f0f921"
                          ]
                        ],
                        "type": "histogram2dcontour"
                      }
                    ],
                    "mesh3d": [
                      {
                        "colorbar": {
                          "outlinewidth": 0,
                          "ticks": ""
                        },
                        "type": "mesh3d"
                      }
                    ],
                    "parcoords": [
                      {
                        "line": {
                          "colorbar": {
                            "outlinewidth": 0,
                            "ticks": ""
                          }
                        },
                        "type": "parcoords"
                      }
                    ],
                    "pie": [
                      {
                        "automargin": true,
                        "type": "pie"
                      }
                    ],
                    "scatter": [
                      {
                        "marker": {
                          "colorbar": {
                            "outlinewidth": 0,
                            "ticks": ""
                          }
                        },
                        "type": "scatter"
                      }
                    ],
                    "scatter3d": [
                      {
                        "line": {
                          "colorbar": {
                            "outlinewidth": 0,
                            "ticks": ""
                          }
                        },
                        "marker": {
                          "colorbar": {
                            "outlinewidth": 0,
                            "ticks": ""
                          }
                        },
                        "type": "scatter3d"
                      }
                    ],
                    "scattercarpet": [
                      {
                        "marker": {
                          "colorbar": {
                            "outlinewidth": 0,
                            "ticks": ""
                          }
                        },
                        "type": "scattercarpet"
                      }
                    ],
                    "scattergeo": [
                      {
                        "marker": {
                          "colorbar": {
                            "outlinewidth": 0,
                            "ticks": ""
                          }
                        },
                        "type": "scattergeo"
                      }
                    ],
                    "scattergl": [
                      {
                        "marker": {
                          "colorbar": {
                            "outlinewidth": 0,
                            "ticks": ""
                          }
                        },
                        "type": "scattergl"
                      }
                    ],
                    "scattermapbox": [
                      {
                        "marker": {
                          "colorbar": {
                            "outlinewidth": 0,
                            "ticks": ""
                          }
                        },
                        "type": "scattermapbox"
                      }
                    ],
                    "scatterpolar": [
                      {
                        "marker": {
                          "colorbar": {
                            "outlinewidth": 0,
                            "ticks": ""
                          }
                        },
                        "type": "scatterpolar"
                      }
                    ],
                    "scatterpolargl": [
                      {
                        "marker": {
                          "colorbar": {
                            "outlinewidth": 0,
                            "ticks": ""
                          }
                        },
                        "type": "scatterpolargl"
                      }
                    ],
                    "scatterternary": [
                      {
                        "marker": {
                          "colorbar": {
                            "outlinewidth": 0,
                            "ticks": ""
                          }
                        },
                        "type": "scatterternary"
                      }
                    ],
                    "surface": [
                      {
                        "colorbar": {
                          "outlinewidth": 0,
                          "ticks": ""
                        },
                        "colorscale": [
                          [
                            0,
                            "#0d0887"
                          ],
                          [
                            0.1111111111111111,
                            "#46039f"
                          ],
                          [
                            0.2222222222222222,
                            "#7201a8"
                          ],
                          [
                            0.3333333333333333,
                            "#9c179e"
                          ],
                          [
                            0.4444444444444444,
                            "#bd3786"
                          ],
                          [
                            0.5555555555555556,
                            "#d8576b"
                          ],
                          [
                            0.6666666666666666,
                            "#ed7953"
                          ],
                          [
                            0.7777777777777778,
                            "#fb9f3a"
                          ],
                          [
                            0.8888888888888888,
                            "#fdca26"
                          ],
                          [
                            1,
                            "#f0f921"
                          ]
                        ],
                        "type": "surface"
                      }
                    ],
                    "table": [
                      {
                        "cells": {
                          "fill": {
                            "color": "#EBF0F8"
                          },
                          "line": {
                            "color": "white"
                          }
                        },
                        "header": {
                          "fill": {
                            "color": "#C8D4E3"
                          },
                          "line": {
                            "color": "white"
                          }
                        },
                        "type": "table"
                      }
                    ]
                  },
                  "layout": {
                    "annotationdefaults": {
                      "arrowcolor": "#2a3f5f",
                      "arrowhead": 0,
                      "arrowwidth": 1
                    },
                    "coloraxis": {
                      "colorbar": {
                        "outlinewidth": 0,
                        "ticks": ""
                      }
                    },
                    "colorscale": {
                      "diverging": [
                        [
                          0,
                          "#8e0152"
                        ],
                        [
                          0.1,
                          "#c51b7d"
                        ],
                        [
                          0.2,
                          "#de77ae"
                        ],
                        [
                          0.3,
                          "#f1b6da"
                        ],
                        [
                          0.4,
                          "#fde0ef"
                        ],
                        [
                          0.5,
                          "#f7f7f7"
                        ],
                        [
                          0.6,
                          "#e6f5d0"
                        ],
                        [
                          0.7,
                          "#b8e186"
                        ],
                        [
                          0.8,
                          "#7fbc41"
                        ],
                        [
                          0.9,
                          "#4d9221"
                        ],
                        [
                          1,
                          "#276419"
                        ]
                      ],
                      "sequential": [
                        [
                          0,
                          "#0d0887"
                        ],
                        [
                          0.1111111111111111,
                          "#46039f"
                        ],
                        [
                          0.2222222222222222,
                          "#7201a8"
                        ],
                        [
                          0.3333333333333333,
                          "#9c179e"
                        ],
                        [
                          0.4444444444444444,
                          "#bd3786"
                        ],
                        [
                          0.5555555555555556,
                          "#d8576b"
                        ],
                        [
                          0.6666666666666666,
                          "#ed7953"
                        ],
                        [
                          0.7777777777777778,
                          "#fb9f3a"
                        ],
                        [
                          0.8888888888888888,
                          "#fdca26"
                        ],
                        [
                          1,
                          "#f0f921"
                        ]
                      ],
                      "sequentialminus": [
                        [
                          0,
                          "#0d0887"
                        ],
                        [
                          0.1111111111111111,
                          "#46039f"
                        ],
                        [
                          0.2222222222222222,
                          "#7201a8"
                        ],
                        [
                          0.3333333333333333,
                          "#9c179e"
                        ],
                        [
                          0.4444444444444444,
                          "#bd3786"
                        ],
                        [
                          0.5555555555555556,
                          "#d8576b"
                        ],
                        [
                          0.6666666666666666,
                          "#ed7953"
                        ],
                        [
                          0.7777777777777778,
                          "#fb9f3a"
                        ],
                        [
                          0.8888888888888888,
                          "#fdca26"
                        ],
                        [
                          1,
                          "#f0f921"
                        ]
                      ]
                    },
                    "colorway": [
                      "#636efa",
                      "#EF553B",
                      "#00cc96",
                      "#ab63fa",
                      "#FFA15A",
                      "#19d3f3",
                      "#FF6692",
                      "#B6E880",
                      "#FF97FF",
                      "#FECB52"
                    ],
                    "font": {
                      "color": "#2a3f5f"
                    },
                    "geo": {
                      "bgcolor": "white",
                      "lakecolor": "white",
                      "landcolor": "#E5ECF6",
                      "showlakes": true,
                      "showland": true,
                      "subunitcolor": "white"
                    },
                    "hoverlabel": {
                      "align": "left"
                    },
                    "hovermode": "closest",
                    "mapbox": {
                      "style": "light"
                    },
                    "paper_bgcolor": "white",
                    "plot_bgcolor": "#E5ECF6",
                    "polar": {
                      "angularaxis": {
                        "gridcolor": "white",
                        "linecolor": "white",
                        "ticks": ""
                      },
                      "bgcolor": "#E5ECF6",
                      "radialaxis": {
                        "gridcolor": "white",
                        "linecolor": "white",
                        "ticks": ""
                      }
                    },
                    "scene": {
                      "xaxis": {
                        "backgroundcolor": "#E5ECF6",
                        "gridcolor": "white",
                        "gridwidth": 2,
                        "linecolor": "white",
                        "showbackground": true,
                        "ticks": "",
                        "zerolinecolor": "white"
                      },
                      "yaxis": {
                        "backgroundcolor": "#E5ECF6",
                        "gridcolor": "white",
                        "gridwidth": 2,
                        "linecolor": "white",
                        "showbackground": true,
                        "ticks": "",
                        "zerolinecolor": "white"
                      },
                      "zaxis": {
                        "backgroundcolor": "#E5ECF6",
                        "gridcolor": "white",
                        "gridwidth": 2,
                        "linecolor": "white",
                        "showbackground": true,
                        "ticks": "",
                        "zerolinecolor": "white"
                      }
                    },
                    "shapedefaults": {
                      "line": {
                        "color": "#2a3f5f"
                      }
                    },
                    "ternary": {
                      "aaxis": {
                        "gridcolor": "white",
                        "linecolor": "white",
                        "ticks": ""
                      },
                      "baxis": {
                        "gridcolor": "white",
                        "linecolor": "white",
                        "ticks": ""
                      },
                      "bgcolor": "#E5ECF6",
                      "caxis": {
                        "gridcolor": "white",
                        "linecolor": "white",
                        "ticks": ""
                      }
                    },
                    "title": {
                      "x": 0.05
                    },
                    "xaxis": {
                      "automargin": true,
                      "gridcolor": "white",
                      "linecolor": "white",
                      "ticks": "",
                      "title": {
                        "standoff": 15
                      },
                      "zerolinecolor": "white",
                      "zerolinewidth": 2
                    },
                    "yaxis": {
                      "automargin": true,
                      "gridcolor": "white",
                      "linecolor": "white",
                      "ticks": "",
                      "title": {
                        "standoff": 15
                      },
                      "zerolinecolor": "white",
                      "zerolinewidth": 2
                    }
                  }
                },
                "title": {
                  "text": "Curbweight and Price ratio Coloured by City MPG"
                },
                "xaxis": {
                  "anchor": "y",
                  "domain": [
                    0,
                    1
                  ],
                  "title": {
                    "text": "curbweight"
                  }
                },
                "yaxis": {
                  "anchor": "x",
                  "domain": [
                    0,
                    1
                  ],
                  "title": {
                    "text": "price"
                  }
                }
              }
            },
            "text/html": [
              "<div>                            <div id=\"608b3973-388f-4771-9c9d-ab04828a495e\" class=\"plotly-graph-div\" style=\"height:525px; width:100%;\"></div>            <script type=\"text/javascript\">                require([\"plotly\"], function(Plotly) {                    window.PLOTLYENV=window.PLOTLYENV || {};                                    if (document.getElementById(\"608b3973-388f-4771-9c9d-ab04828a495e\")) {                    Plotly.newPlot(                        \"608b3973-388f-4771-9c9d-ab04828a495e\",                        [{\"hovertemplate\": \"curbweight=%{x}<br>price=%{y}<br>citympg=%{marker.color}<extra></extra>\", \"legendgroup\": \"\", \"marker\": {\"color\": [21, 21, 19, 24, 18, 19, 19, 19, 17, 16, 23, 23, 21, 21, 20, 16, 16, 15, 47, 38, 38, 37, 31, 24, 31, 31, 31, 24, 24, 19, 49, 31, 38, 30, 30, 30, 30, 27, 27, 27, 27, 24, 25, 24, 38, 38, 24, 15, 15, 13, 30, 31, 31, 31, 31, 17, 17, 17, 16, 26, 26, 26, 26, 36, 26, 19, 31, 22, 22, 22, 22, 16, 16, 14, 14, 19, 37, 31, 31, 24, 23, 25, 19, 19, 19, 25, 25, 23, 23, 31, 45, 31, 31, 31, 31, 31, 31, 31, 31, 27, 27, 17, 17, 19, 19, 17, 19, 19, 28, 19, 25, 19, 28, 19, 25, 19, 28, 18, 37, 24, 31, 31, 31, 24, 19, 19, 17, 17, 17, 17, 23, 23, 21, 21, 21, 21, 19, 19, 31, 26, 26, 32, 28, 26, 24, 24, 28, 25, 23, 23, 35, 31, 31, 31, 27, 27, 30, 30, 34, 38, 38, 28, 28, 29, 29, 26, 26, 24, 24, 24, 24, 24, 24, 29, 30, 27, 27, 27, 20, 19, 20, 19, 37, 27, 37, 27, 27, 37, 26, 24, 24, 19, 33, 25, 23, 23, 24, 24, 17, 17, 23, 19, 18, 26, 19], \"coloraxis\": \"coloraxis\", \"symbol\": \"circle\"}, \"mode\": \"markers\", \"name\": \"\", \"orientation\": \"v\", \"showlegend\": false, \"type\": \"scatter\", \"x\": [2548, 2548, 2823, 2337, 2824, 2507, 2844, 2954, 3086, 3053, 2395, 2395, 2710, 2765, 3055, 3230, 3380, 3505, 1488, 1874, 1909, 1876, 1876, 2128, 1967, 1989, 1989, 2191, 2535, 2811, 1713, 1819, 1837, 1940, 1956, 2010, 2024, 2236, 2289, 2304, 2372, 2465, 2293, 2337, 1874, 1909, 2734, 4066, 4066, 3950, 1890, 1900, 1905, 1945, 1950, 2380, 2380, 2385, 2500, 2385, 2410, 2385, 2410, 2443, 2425, 2670, 2700, 3515, 3750, 3495, 3770, 3740, 3685, 3900, 3715, 2910, 1918, 1944, 2004, 2145, 2370, 2328, 2833, 2921, 2926, 2365, 2405, 2403, 2403, 1889, 2017, 1918, 1938, 2024, 1951, 2028, 1971, 2037, 2008, 2324, 2302, 3095, 3296, 3060, 3071, 3139, 3139, 3020, 3197, 3230, 3430, 3075, 3252, 3285, 3485, 3075, 3252, 3130, 1918, 2128, 1967, 1989, 2191, 2535, 2818, 2778, 2756, 2756, 2800, 3366, 2579, 2460, 2658, 2695, 2707, 2758, 2808, 2847, 2050, 2120, 2240, 2145, 2190, 2340, 2385, 2510, 2290, 2455, 2420, 2650, 1985, 2040, 2015, 2280, 2290, 3110, 2081, 2109, 2275, 2275, 2094, 2122, 2140, 2169, 2204, 2265, 2300, 2540, 2536, 2551, 2679, 2714, 2975, 2326, 2480, 2414, 2414, 2458, 2976, 3016, 3131, 3151, 2261, 2209, 2264, 2212, 2275, 2319, 2300, 2254, 2221, 2661, 2579, 2563, 2912, 3034, 2935, 3042, 3045, 3157, 2952, 3049, 3012, 3217, 3062], \"xaxis\": \"x\", \"y\": [13495.0, 16500.0, 16500.0, 13950.0, 17450.0, 15250.0, 17710.0, 18920.0, 23875.0, 17859.167, 16430.0, 16925.0, 20970.0, 21105.0, 24565.0, 30760.0, 41315.0, 36880.0, 5151.0, 6295.0, 6575.0, 5572.0, 6377.0, 7957.0, 6229.0, 6692.0, 7609.0, 8558.0, 8921.0, 12964.0, 6479.0, 6855.0, 5399.0, 6529.0, 7129.0, 7295.0, 7295.0, 7895.0, 9095.0, 8845.0, 10295.0, 12945.0, 10345.0, 6785.0, 8916.5, 8916.5, 11048.0, 32250.0, 35550.0, 36000.0, 5195.0, 6095.0, 6795.0, 6695.0, 7395.0, 10945.0, 11845.0, 13645.0, 15645.0, 8845.0, 8495.0, 10595.0, 10245.0, 10795.0, 11245.0, 18280.0, 18344.0, 25552.0, 28248.0, 28176.0, 31600.0, 34184.0, 35056.0, 40960.0, 45400.0, 16503.0, 5389.0, 6189.0, 6669.0, 7689.0, 9959.0, 8499.0, 12629.0, 14869.0, 14489.0, 6989.0, 8189.0, 9279.0, 9279.0, 5499.0, 7099.0, 6649.0, 6849.0, 7349.0, 7299.0, 7799.0, 7499.0, 7999.0, 8249.0, 8949.0, 9549.0, 13499.0, 14399.0, 13499.0, 17199.0, 19699.0, 18399.0, 11900.0, 13200.0, 12440.0, 13860.0, 15580.0, 16900.0, 16695.0, 17075.0, 16630.0, 17950.0, 18150.0, 5572.0, 7957.0, 6229.0, 6692.0, 7609.0, 8921.0, 12764.0, 22018.0, 32528.0, 34028.0, 37028.0, 31400.5, 9295.0, 9895.0, 11850.0, 12170.0, 15040.0, 15510.0, 18150.0, 18620.0, 5118.0, 7053.0, 7603.0, 7126.0, 7775.0, 9960.0, 9233.0, 11259.0, 7463.0, 10198.0, 8013.0, 11694.0, 5348.0, 6338.0, 6488.0, 6918.0, 7898.0, 8778.0, 6938.0, 7198.0, 7898.0, 7788.0, 7738.0, 8358.0, 9258.0, 8058.0, 8238.0, 9298.0, 9538.0, 8449.0, 9639.0, 9989.0, 11199.0, 11549.0, 17669.0, 8948.0, 10698.0, 9988.0, 10898.0, 11248.0, 16558.0, 15998.0, 15690.0, 15750.0, 7775.0, 7975.0, 7995.0, 8195.0, 8495.0, 9495.0, 9995.0, 11595.0, 9980.0, 13295.0, 13845.0, 12290.0, 12940.0, 13415.0, 15985.0, 16515.0, 18420.0, 18950.0, 16845.0, 19045.0, 21485.0, 22470.0, 22625.0], \"yaxis\": \"y\"}],                        {\"coloraxis\": {\"colorbar\": {\"title\": {\"text\": \"citympg\"}}, \"colorscale\": [[0.0, \"#0d0887\"], [0.1111111111111111, \"#46039f\"], [0.2222222222222222, \"#7201a8\"], [0.3333333333333333, \"#9c179e\"], [0.4444444444444444, \"#bd3786\"], [0.5555555555555556, \"#d8576b\"], [0.6666666666666666, \"#ed7953\"], [0.7777777777777778, \"#fb9f3a\"], [0.8888888888888888, \"#fdca26\"], [1.0, \"#f0f921\"]]}, \"legend\": {\"tracegroupgap\": 0}, \"template\": {\"data\": {\"bar\": [{\"error_x\": {\"color\": \"#2a3f5f\"}, \"error_y\": {\"color\": \"#2a3f5f\"}, \"marker\": {\"line\": {\"color\": \"#E5ECF6\", \"width\": 0.5}}, \"type\": \"bar\"}], \"barpolar\": [{\"marker\": {\"line\": {\"color\": \"#E5ECF6\", \"width\": 0.5}}, \"type\": \"barpolar\"}], \"carpet\": [{\"aaxis\": {\"endlinecolor\": \"#2a3f5f\", \"gridcolor\": \"white\", \"linecolor\": \"white\", \"minorgridcolor\": \"white\", \"startlinecolor\": \"#2a3f5f\"}, \"baxis\": {\"endlinecolor\": \"#2a3f5f\", \"gridcolor\": \"white\", \"linecolor\": \"white\", \"minorgridcolor\": \"white\", \"startlinecolor\": \"#2a3f5f\"}, \"type\": \"carpet\"}], \"choropleth\": [{\"colorbar\": {\"outlinewidth\": 0, \"ticks\": \"\"}, \"type\": \"choropleth\"}], \"contour\": [{\"colorbar\": {\"outlinewidth\": 0, \"ticks\": \"\"}, \"colorscale\": [[0.0, \"#0d0887\"], [0.1111111111111111, \"#46039f\"], [0.2222222222222222, \"#7201a8\"], [0.3333333333333333, \"#9c179e\"], [0.4444444444444444, \"#bd3786\"], [0.5555555555555556, \"#d8576b\"], [0.6666666666666666, \"#ed7953\"], [0.7777777777777778, \"#fb9f3a\"], [0.8888888888888888, \"#fdca26\"], [1.0, \"#f0f921\"]], \"type\": \"contour\"}], \"contourcarpet\": [{\"colorbar\": {\"outlinewidth\": 0, \"ticks\": \"\"}, \"type\": \"contourcarpet\"}], \"heatmap\": [{\"colorbar\": {\"outlinewidth\": 0, \"ticks\": \"\"}, \"colorscale\": [[0.0, \"#0d0887\"], [0.1111111111111111, \"#46039f\"], [0.2222222222222222, \"#7201a8\"], [0.3333333333333333, \"#9c179e\"], [0.4444444444444444, \"#bd3786\"], [0.5555555555555556, \"#d8576b\"], [0.6666666666666666, \"#ed7953\"], [0.7777777777777778, \"#fb9f3a\"], [0.8888888888888888, \"#fdca26\"], [1.0, \"#f0f921\"]], \"type\": \"heatmap\"}], \"heatmapgl\": [{\"colorbar\": {\"outlinewidth\": 0, \"ticks\": \"\"}, \"colorscale\": [[0.0, \"#0d0887\"], [0.1111111111111111, \"#46039f\"], [0.2222222222222222, \"#7201a8\"], [0.3333333333333333, \"#9c179e\"], [0.4444444444444444, \"#bd3786\"], [0.5555555555555556, \"#d8576b\"], [0.6666666666666666, \"#ed7953\"], [0.7777777777777778, \"#fb9f3a\"], [0.8888888888888888, \"#fdca26\"], [1.0, \"#f0f921\"]], \"type\": \"heatmapgl\"}], \"histogram\": [{\"marker\": {\"colorbar\": {\"outlinewidth\": 0, \"ticks\": \"\"}}, \"type\": \"histogram\"}], \"histogram2d\": [{\"colorbar\": {\"outlinewidth\": 0, \"ticks\": \"\"}, \"colorscale\": [[0.0, \"#0d0887\"], [0.1111111111111111, \"#46039f\"], [0.2222222222222222, \"#7201a8\"], [0.3333333333333333, \"#9c179e\"], [0.4444444444444444, \"#bd3786\"], [0.5555555555555556, \"#d8576b\"], [0.6666666666666666, \"#ed7953\"], [0.7777777777777778, \"#fb9f3a\"], [0.8888888888888888, \"#fdca26\"], [1.0, \"#f0f921\"]], \"type\": \"histogram2d\"}], \"histogram2dcontour\": [{\"colorbar\": {\"outlinewidth\": 0, \"ticks\": \"\"}, \"colorscale\": [[0.0, \"#0d0887\"], [0.1111111111111111, \"#46039f\"], [0.2222222222222222, \"#7201a8\"], [0.3333333333333333, \"#9c179e\"], [0.4444444444444444, \"#bd3786\"], [0.5555555555555556, \"#d8576b\"], [0.6666666666666666, \"#ed7953\"], [0.7777777777777778, \"#fb9f3a\"], [0.8888888888888888, \"#fdca26\"], [1.0, \"#f0f921\"]], \"type\": \"histogram2dcontour\"}], \"mesh3d\": [{\"colorbar\": {\"outlinewidth\": 0, \"ticks\": \"\"}, \"type\": \"mesh3d\"}], \"parcoords\": [{\"line\": {\"colorbar\": {\"outlinewidth\": 0, \"ticks\": \"\"}}, \"type\": \"parcoords\"}], \"pie\": [{\"automargin\": true, \"type\": \"pie\"}], \"scatter\": [{\"marker\": {\"colorbar\": {\"outlinewidth\": 0, \"ticks\": \"\"}}, \"type\": \"scatter\"}], \"scatter3d\": [{\"line\": {\"colorbar\": {\"outlinewidth\": 0, \"ticks\": \"\"}}, \"marker\": {\"colorbar\": {\"outlinewidth\": 0, \"ticks\": \"\"}}, \"type\": \"scatter3d\"}], \"scattercarpet\": [{\"marker\": {\"colorbar\": {\"outlinewidth\": 0, \"ticks\": \"\"}}, \"type\": \"scattercarpet\"}], \"scattergeo\": [{\"marker\": {\"colorbar\": {\"outlinewidth\": 0, \"ticks\": \"\"}}, \"type\": \"scattergeo\"}], \"scattergl\": [{\"marker\": {\"colorbar\": {\"outlinewidth\": 0, \"ticks\": \"\"}}, \"type\": \"scattergl\"}], \"scattermapbox\": [{\"marker\": {\"colorbar\": {\"outlinewidth\": 0, \"ticks\": \"\"}}, \"type\": \"scattermapbox\"}], \"scatterpolar\": [{\"marker\": {\"colorbar\": {\"outlinewidth\": 0, \"ticks\": \"\"}}, \"type\": \"scatterpolar\"}], \"scatterpolargl\": [{\"marker\": {\"colorbar\": {\"outlinewidth\": 0, \"ticks\": \"\"}}, \"type\": \"scatterpolargl\"}], \"scatterternary\": [{\"marker\": {\"colorbar\": {\"outlinewidth\": 0, \"ticks\": \"\"}}, \"type\": \"scatterternary\"}], \"surface\": [{\"colorbar\": {\"outlinewidth\": 0, \"ticks\": \"\"}, \"colorscale\": [[0.0, \"#0d0887\"], [0.1111111111111111, \"#46039f\"], [0.2222222222222222, \"#7201a8\"], [0.3333333333333333, \"#9c179e\"], [0.4444444444444444, \"#bd3786\"], [0.5555555555555556, \"#d8576b\"], [0.6666666666666666, \"#ed7953\"], [0.7777777777777778, \"#fb9f3a\"], [0.8888888888888888, \"#fdca26\"], [1.0, \"#f0f921\"]], \"type\": \"surface\"}], \"table\": [{\"cells\": {\"fill\": {\"color\": \"#EBF0F8\"}, \"line\": {\"color\": \"white\"}}, \"header\": {\"fill\": {\"color\": \"#C8D4E3\"}, \"line\": {\"color\": \"white\"}}, \"type\": \"table\"}]}, \"layout\": {\"annotationdefaults\": {\"arrowcolor\": \"#2a3f5f\", \"arrowhead\": 0, \"arrowwidth\": 1}, \"coloraxis\": {\"colorbar\": {\"outlinewidth\": 0, \"ticks\": \"\"}}, \"colorscale\": {\"diverging\": [[0, \"#8e0152\"], [0.1, \"#c51b7d\"], [0.2, \"#de77ae\"], [0.3, \"#f1b6da\"], [0.4, \"#fde0ef\"], [0.5, \"#f7f7f7\"], [0.6, \"#e6f5d0\"], [0.7, \"#b8e186\"], [0.8, \"#7fbc41\"], [0.9, \"#4d9221\"], [1, \"#276419\"]], \"sequential\": [[0.0, \"#0d0887\"], [0.1111111111111111, \"#46039f\"], [0.2222222222222222, \"#7201a8\"], [0.3333333333333333, \"#9c179e\"], [0.4444444444444444, \"#bd3786\"], [0.5555555555555556, \"#d8576b\"], [0.6666666666666666, \"#ed7953\"], [0.7777777777777778, \"#fb9f3a\"], [0.8888888888888888, \"#fdca26\"], [1.0, \"#f0f921\"]], \"sequentialminus\": [[0.0, \"#0d0887\"], [0.1111111111111111, \"#46039f\"], [0.2222222222222222, \"#7201a8\"], [0.3333333333333333, \"#9c179e\"], [0.4444444444444444, \"#bd3786\"], [0.5555555555555556, \"#d8576b\"], [0.6666666666666666, \"#ed7953\"], [0.7777777777777778, \"#fb9f3a\"], [0.8888888888888888, \"#fdca26\"], [1.0, \"#f0f921\"]]}, \"colorway\": [\"#636efa\", \"#EF553B\", \"#00cc96\", \"#ab63fa\", \"#FFA15A\", \"#19d3f3\", \"#FF6692\", \"#B6E880\", \"#FF97FF\", \"#FECB52\"], \"font\": {\"color\": \"#2a3f5f\"}, \"geo\": {\"bgcolor\": \"white\", \"lakecolor\": \"white\", \"landcolor\": \"#E5ECF6\", \"showlakes\": true, \"showland\": true, \"subunitcolor\": \"white\"}, \"hoverlabel\": {\"align\": \"left\"}, \"hovermode\": \"closest\", \"mapbox\": {\"style\": \"light\"}, \"paper_bgcolor\": \"white\", \"plot_bgcolor\": \"#E5ECF6\", \"polar\": {\"angularaxis\": {\"gridcolor\": \"white\", \"linecolor\": \"white\", \"ticks\": \"\"}, \"bgcolor\": \"#E5ECF6\", \"radialaxis\": {\"gridcolor\": \"white\", \"linecolor\": \"white\", \"ticks\": \"\"}}, \"scene\": {\"xaxis\": {\"backgroundcolor\": \"#E5ECF6\", \"gridcolor\": \"white\", \"gridwidth\": 2, \"linecolor\": \"white\", \"showbackground\": true, \"ticks\": \"\", \"zerolinecolor\": \"white\"}, \"yaxis\": {\"backgroundcolor\": \"#E5ECF6\", \"gridcolor\": \"white\", \"gridwidth\": 2, \"linecolor\": \"white\", \"showbackground\": true, \"ticks\": \"\", \"zerolinecolor\": \"white\"}, \"zaxis\": {\"backgroundcolor\": \"#E5ECF6\", \"gridcolor\": \"white\", \"gridwidth\": 2, \"linecolor\": \"white\", \"showbackground\": true, \"ticks\": \"\", \"zerolinecolor\": \"white\"}}, \"shapedefaults\": {\"line\": {\"color\": \"#2a3f5f\"}}, \"ternary\": {\"aaxis\": {\"gridcolor\": \"white\", \"linecolor\": \"white\", \"ticks\": \"\"}, \"baxis\": {\"gridcolor\": \"white\", \"linecolor\": \"white\", \"ticks\": \"\"}, \"bgcolor\": \"#E5ECF6\", \"caxis\": {\"gridcolor\": \"white\", \"linecolor\": \"white\", \"ticks\": \"\"}}, \"title\": {\"x\": 0.05}, \"xaxis\": {\"automargin\": true, \"gridcolor\": \"white\", \"linecolor\": \"white\", \"ticks\": \"\", \"title\": {\"standoff\": 15}, \"zerolinecolor\": \"white\", \"zerolinewidth\": 2}, \"yaxis\": {\"automargin\": true, \"gridcolor\": \"white\", \"linecolor\": \"white\", \"ticks\": \"\", \"title\": {\"standoff\": 15}, \"zerolinecolor\": \"white\", \"zerolinewidth\": 2}}}, \"title\": {\"text\": \"Curbweight and Price ratio Coloured by City MPG\"}, \"xaxis\": {\"anchor\": \"y\", \"domain\": [0.0, 1.0], \"title\": {\"text\": \"curbweight\"}}, \"yaxis\": {\"anchor\": \"x\", \"domain\": [0.0, 1.0], \"title\": {\"text\": \"price\"}}},                        {\"responsive\": true}                    ).then(function(){\n",
              "                            \n",
              "var gd = document.getElementById('608b3973-388f-4771-9c9d-ab04828a495e');\n",
              "var x = new MutationObserver(function (mutations, observer) {{\n",
              "        var display = window.getComputedStyle(gd).display;\n",
              "        if (!display || display === 'none') {{\n",
              "            console.log([gd, 'removed!']);\n",
              "            Plotly.purge(gd);\n",
              "            observer.disconnect();\n",
              "        }}\n",
              "}});\n",
              "\n",
              "// Listen for the removal of the full notebook cells\n",
              "var notebookContainer = gd.closest('#notebook-container');\n",
              "if (notebookContainer) {{\n",
              "    x.observe(notebookContainer, {childList: true});\n",
              "}}\n",
              "\n",
              "// Listen for the clearing of the current output cell\n",
              "var outputEl = gd.closest('.output');\n",
              "if (outputEl) {{\n",
              "    x.observe(outputEl, {childList: true});\n",
              "}}\n",
              "\n",
              "                        })                };                });            </script>        </div>"
            ]
          },
          "metadata": {},
          "output_type": "display_data"
        }
      ],
      "source": [
        "fig = px.scatter(cleandata, x=\"curbweight\", y=\"price\", color='citympg', title='Curbweight and Price ratio Coloured by City MPG')\n",
        "fig.show()"
      ]
    },
    {
      "cell_type": "markdown",
      "metadata": {},
      "source": [
        "This shows again that curbweight and price are positively correlated, while the inverse is true for citympg"
      ]
    },
    {
      "cell_type": "code",
      "execution_count": 40,
      "metadata": {},
      "outputs": [
        {
          "data": {
            "text/html": [
              "<div>\n",
              "<style scoped>\n",
              "    .dataframe tbody tr th:only-of-type {\n",
              "        vertical-align: middle;\n",
              "    }\n",
              "\n",
              "    .dataframe tbody tr th {\n",
              "        vertical-align: top;\n",
              "    }\n",
              "\n",
              "    .dataframe thead th {\n",
              "        text-align: right;\n",
              "    }\n",
              "</style>\n",
              "<table border=\"1\" class=\"dataframe\">\n",
              "  <thead>\n",
              "    <tr style=\"text-align: right;\">\n",
              "      <th></th>\n",
              "      <th>CarName</th>\n",
              "      <th>wheelbase</th>\n",
              "      <th>curbweight</th>\n",
              "      <th>cylindernumber</th>\n",
              "      <th>horsepower</th>\n",
              "      <th>citympg</th>\n",
              "      <th>highwaympg</th>\n",
              "      <th>price</th>\n",
              "      <th>fueltype_gas</th>\n",
              "      <th>drivewheel_rwd</th>\n",
              "      <th>drivewheel_fwd</th>\n",
              "      <th>enginelocation_front</th>\n",
              "      <th>carbody_convertible</th>\n",
              "      <th>carbody_hatchback</th>\n",
              "      <th>carbody_sedan</th>\n",
              "      <th>carbody_wagon</th>\n",
              "    </tr>\n",
              "  </thead>\n",
              "  <tbody>\n",
              "    <tr>\n",
              "      <th>0</th>\n",
              "      <td>alfa-romeo</td>\n",
              "      <td>88.6</td>\n",
              "      <td>2548</td>\n",
              "      <td>4</td>\n",
              "      <td>111</td>\n",
              "      <td>21</td>\n",
              "      <td>27</td>\n",
              "      <td>13495.0</td>\n",
              "      <td>1</td>\n",
              "      <td>1</td>\n",
              "      <td>0</td>\n",
              "      <td>1</td>\n",
              "      <td>1</td>\n",
              "      <td>0</td>\n",
              "      <td>0</td>\n",
              "      <td>0</td>\n",
              "    </tr>\n",
              "    <tr>\n",
              "      <th>1</th>\n",
              "      <td>alfa-romeo</td>\n",
              "      <td>88.6</td>\n",
              "      <td>2548</td>\n",
              "      <td>4</td>\n",
              "      <td>111</td>\n",
              "      <td>21</td>\n",
              "      <td>27</td>\n",
              "      <td>16500.0</td>\n",
              "      <td>1</td>\n",
              "      <td>1</td>\n",
              "      <td>0</td>\n",
              "      <td>1</td>\n",
              "      <td>1</td>\n",
              "      <td>0</td>\n",
              "      <td>0</td>\n",
              "      <td>0</td>\n",
              "    </tr>\n",
              "    <tr>\n",
              "      <th>2</th>\n",
              "      <td>alfa-romeo</td>\n",
              "      <td>94.5</td>\n",
              "      <td>2823</td>\n",
              "      <td>6</td>\n",
              "      <td>154</td>\n",
              "      <td>19</td>\n",
              "      <td>26</td>\n",
              "      <td>16500.0</td>\n",
              "      <td>1</td>\n",
              "      <td>1</td>\n",
              "      <td>0</td>\n",
              "      <td>1</td>\n",
              "      <td>0</td>\n",
              "      <td>1</td>\n",
              "      <td>0</td>\n",
              "      <td>0</td>\n",
              "    </tr>\n",
              "    <tr>\n",
              "      <th>3</th>\n",
              "      <td>audi</td>\n",
              "      <td>99.8</td>\n",
              "      <td>2337</td>\n",
              "      <td>4</td>\n",
              "      <td>102</td>\n",
              "      <td>24</td>\n",
              "      <td>30</td>\n",
              "      <td>13950.0</td>\n",
              "      <td>1</td>\n",
              "      <td>0</td>\n",
              "      <td>1</td>\n",
              "      <td>1</td>\n",
              "      <td>0</td>\n",
              "      <td>0</td>\n",
              "      <td>1</td>\n",
              "      <td>0</td>\n",
              "    </tr>\n",
              "    <tr>\n",
              "      <th>4</th>\n",
              "      <td>audi</td>\n",
              "      <td>99.4</td>\n",
              "      <td>2824</td>\n",
              "      <td>5</td>\n",
              "      <td>115</td>\n",
              "      <td>18</td>\n",
              "      <td>22</td>\n",
              "      <td>17450.0</td>\n",
              "      <td>1</td>\n",
              "      <td>0</td>\n",
              "      <td>0</td>\n",
              "      <td>1</td>\n",
              "      <td>0</td>\n",
              "      <td>0</td>\n",
              "      <td>1</td>\n",
              "      <td>0</td>\n",
              "    </tr>\n",
              "  </tbody>\n",
              "</table>\n",
              "</div>"
            ],
            "text/plain": [
              "      CarName  wheelbase  curbweight  cylindernumber  horsepower  citympg  \\\n",
              "0  alfa-romeo       88.6        2548               4         111       21   \n",
              "1  alfa-romeo       88.6        2548               4         111       21   \n",
              "2  alfa-romeo       94.5        2823               6         154       19   \n",
              "3        audi       99.8        2337               4         102       24   \n",
              "4        audi       99.4        2824               5         115       18   \n",
              "\n",
              "   highwaympg    price  fueltype_gas  drivewheel_rwd  drivewheel_fwd  \\\n",
              "0          27  13495.0             1               1               0   \n",
              "1          27  16500.0             1               1               0   \n",
              "2          26  16500.0             1               1               0   \n",
              "3          30  13950.0             1               0               1   \n",
              "4          22  17450.0             1               0               0   \n",
              "\n",
              "   enginelocation_front  carbody_convertible  carbody_hatchback  \\\n",
              "0                     1                    1                  0   \n",
              "1                     1                    1                  0   \n",
              "2                     1                    0                  1   \n",
              "3                     1                    0                  0   \n",
              "4                     1                    0                  0   \n",
              "\n",
              "   carbody_sedan  carbody_wagon  \n",
              "0              0              0  \n",
              "1              0              0  \n",
              "2              0              0  \n",
              "3              1              0  \n",
              "4              1              0  "
            ]
          },
          "execution_count": 40,
          "metadata": {},
          "output_type": "execute_result"
        }
      ],
      "source": [
        "cleandata.head()"
      ]
    },
    {
      "cell_type": "code",
      "execution_count": 56,
      "metadata": {},
      "outputs": [
        {
          "data": {
            "application/vnd.plotly.v1+json": {
              "config": {
                "plotlyServerURL": "https://plot.ly"
              },
              "data": [
                {
                  "dimensions": [
                    {
                      "axis": {
                        "matches": true
                      },
                      "label": "curbweight",
                      "values": [
                        2548,
                        2548,
                        2823,
                        2337,
                        2824,
                        2507,
                        2844,
                        2954,
                        3086,
                        3053,
                        2395,
                        2395,
                        2710,
                        2765,
                        3055,
                        3230,
                        3380,
                        3505,
                        1488,
                        1874,
                        1909,
                        1876,
                        1876,
                        2128,
                        1967,
                        1989,
                        1989,
                        2191,
                        2535,
                        2811,
                        1713,
                        1819,
                        1837,
                        1940,
                        1956,
                        2010,
                        2024,
                        2236,
                        2289,
                        2304,
                        2372,
                        2465,
                        2293,
                        2337,
                        1874,
                        1909,
                        2734,
                        4066,
                        4066,
                        3950,
                        1890,
                        1900,
                        1905,
                        1945,
                        1950,
                        2380,
                        2380,
                        2385,
                        2500,
                        2385,
                        2410,
                        2385,
                        2410,
                        2443,
                        2425,
                        2670,
                        2700,
                        3515,
                        3750,
                        3495,
                        3770,
                        3740,
                        3685,
                        3900,
                        3715,
                        2910,
                        1918,
                        1944,
                        2004,
                        2145,
                        2370,
                        2328,
                        2833,
                        2921,
                        2926,
                        2365,
                        2405,
                        2403,
                        2403,
                        1889,
                        2017,
                        1918,
                        1938,
                        2024,
                        1951,
                        2028,
                        1971,
                        2037,
                        2008,
                        2324,
                        2302,
                        3095,
                        3296,
                        3060,
                        3071,
                        3139,
                        3139,
                        3020,
                        3197,
                        3230,
                        3430,
                        3075,
                        3252,
                        3285,
                        3485,
                        3075,
                        3252,
                        3130,
                        1918,
                        2128,
                        1967,
                        1989,
                        2191,
                        2535,
                        2818,
                        2778,
                        2756,
                        2756,
                        2800,
                        3366,
                        2579,
                        2460,
                        2658,
                        2695,
                        2707,
                        2758,
                        2808,
                        2847,
                        2050,
                        2120,
                        2240,
                        2145,
                        2190,
                        2340,
                        2385,
                        2510,
                        2290,
                        2455,
                        2420,
                        2650,
                        1985,
                        2040,
                        2015,
                        2280,
                        2290,
                        3110,
                        2081,
                        2109,
                        2275,
                        2275,
                        2094,
                        2122,
                        2140,
                        2169,
                        2204,
                        2265,
                        2300,
                        2540,
                        2536,
                        2551,
                        2679,
                        2714,
                        2975,
                        2326,
                        2480,
                        2414,
                        2414,
                        2458,
                        2976,
                        3016,
                        3131,
                        3151,
                        2261,
                        2209,
                        2264,
                        2212,
                        2275,
                        2319,
                        2300,
                        2254,
                        2221,
                        2661,
                        2579,
                        2563,
                        2912,
                        3034,
                        2935,
                        3042,
                        3045,
                        3157,
                        2952,
                        3049,
                        3012,
                        3217,
                        3062
                      ]
                    },
                    {
                      "axis": {
                        "matches": true
                      },
                      "label": "wheelbase",
                      "values": [
                        88.6,
                        88.6,
                        94.5,
                        99.8,
                        99.4,
                        99.8,
                        105.8,
                        105.8,
                        105.8,
                        99.5,
                        101.2,
                        101.2,
                        101.2,
                        101.2,
                        103.5,
                        103.5,
                        103.5,
                        110,
                        88.4,
                        94.5,
                        94.5,
                        93.7,
                        93.7,
                        93.7,
                        93.7,
                        93.7,
                        93.7,
                        93.7,
                        103.3,
                        95.9,
                        86.6,
                        86.6,
                        93.7,
                        93.7,
                        93.7,
                        96.5,
                        96.5,
                        96.5,
                        96.5,
                        96.5,
                        96.5,
                        96.5,
                        96.5,
                        94.3,
                        94.5,
                        94.5,
                        96,
                        113,
                        113,
                        102,
                        93.1,
                        93.1,
                        93.1,
                        93.1,
                        93.1,
                        95.3,
                        95.3,
                        95.3,
                        95.3,
                        98.8,
                        98.8,
                        98.8,
                        98.8,
                        98.8,
                        98.8,
                        104.9,
                        104.9,
                        110,
                        110,
                        106.7,
                        115.6,
                        115.6,
                        96.6,
                        120.9,
                        112,
                        102.7,
                        93.7,
                        93.7,
                        93.7,
                        93,
                        96.3,
                        96.3,
                        95.9,
                        95.9,
                        95.9,
                        96.3,
                        96.3,
                        96.3,
                        96.3,
                        94.5,
                        94.5,
                        94.5,
                        94.5,
                        94.5,
                        94.5,
                        94.5,
                        94.5,
                        94.5,
                        95.1,
                        97.2,
                        97.2,
                        100.4,
                        100.4,
                        100.4,
                        91.3,
                        91.3,
                        99.2,
                        107.9,
                        107.9,
                        114.2,
                        114.2,
                        107.9,
                        107.9,
                        114.2,
                        114.2,
                        107.9,
                        107.9,
                        108,
                        93.7,
                        93.7,
                        93.7,
                        93.7,
                        93.7,
                        103.3,
                        95.9,
                        94.5,
                        89.5,
                        89.5,
                        89.5,
                        98.4,
                        96.1,
                        96.1,
                        99.1,
                        99.1,
                        99.1,
                        99.1,
                        99.1,
                        99.1,
                        93.7,
                        93.7,
                        93.3,
                        97.2,
                        97.2,
                        97.2,
                        97,
                        97,
                        97,
                        97,
                        96.9,
                        96.9,
                        95.7,
                        95.7,
                        95.7,
                        95.7,
                        95.7,
                        95.7,
                        95.7,
                        95.7,
                        95.7,
                        95.7,
                        95.7,
                        95.7,
                        95.7,
                        94.5,
                        94.5,
                        94.5,
                        94.5,
                        98.4,
                        98.4,
                        98.4,
                        98.4,
                        98.4,
                        98.4,
                        102.4,
                        102.4,
                        102.4,
                        102.4,
                        102.4,
                        102.9,
                        102.9,
                        104.5,
                        104.5,
                        97.3,
                        97.3,
                        97.3,
                        97.3,
                        97.3,
                        97.3,
                        97.3,
                        94.5,
                        94.5,
                        100.4,
                        100.4,
                        100.4,
                        104.3,
                        104.3,
                        104.3,
                        104.3,
                        104.3,
                        104.3,
                        109.1,
                        109.1,
                        109.1,
                        109.1,
                        109.1
                      ]
                    },
                    {
                      "axis": {
                        "matches": true
                      },
                      "label": "highwaympg",
                      "values": [
                        27,
                        27,
                        26,
                        30,
                        22,
                        25,
                        25,
                        25,
                        20,
                        22,
                        29,
                        29,
                        28,
                        28,
                        25,
                        22,
                        22,
                        20,
                        53,
                        43,
                        43,
                        41,
                        38,
                        30,
                        38,
                        38,
                        38,
                        30,
                        30,
                        24,
                        54,
                        38,
                        42,
                        34,
                        34,
                        34,
                        34,
                        33,
                        33,
                        33,
                        33,
                        28,
                        31,
                        29,
                        43,
                        43,
                        29,
                        19,
                        19,
                        17,
                        31,
                        38,
                        38,
                        38,
                        38,
                        23,
                        23,
                        23,
                        23,
                        32,
                        32,
                        32,
                        32,
                        42,
                        32,
                        27,
                        39,
                        25,
                        25,
                        25,
                        25,
                        18,
                        18,
                        16,
                        16,
                        24,
                        41,
                        38,
                        38,
                        30,
                        30,
                        32,
                        24,
                        24,
                        24,
                        32,
                        32,
                        30,
                        30,
                        37,
                        50,
                        37,
                        37,
                        37,
                        37,
                        37,
                        37,
                        37,
                        37,
                        34,
                        34,
                        22,
                        22,
                        25,
                        25,
                        23,
                        25,
                        24,
                        33,
                        24,
                        25,
                        24,
                        33,
                        24,
                        25,
                        24,
                        33,
                        24,
                        41,
                        30,
                        38,
                        38,
                        38,
                        30,
                        24,
                        27,
                        25,
                        25,
                        25,
                        28,
                        31,
                        31,
                        28,
                        28,
                        28,
                        28,
                        26,
                        26,
                        36,
                        31,
                        31,
                        37,
                        33,
                        32,
                        25,
                        29,
                        32,
                        31,
                        29,
                        23,
                        39,
                        38,
                        38,
                        37,
                        32,
                        32,
                        37,
                        37,
                        36,
                        47,
                        47,
                        34,
                        34,
                        34,
                        34,
                        29,
                        29,
                        30,
                        30,
                        30,
                        30,
                        30,
                        30,
                        34,
                        33,
                        32,
                        32,
                        32,
                        24,
                        24,
                        24,
                        24,
                        46,
                        34,
                        46,
                        34,
                        34,
                        42,
                        32,
                        29,
                        29,
                        24,
                        38,
                        31,
                        28,
                        28,
                        28,
                        28,
                        22,
                        22,
                        28,
                        25,
                        23,
                        27,
                        25
                      ]
                    },
                    {
                      "axis": {
                        "matches": true
                      },
                      "label": "cylindernumber",
                      "values": [
                        4,
                        4,
                        6,
                        4,
                        5,
                        5,
                        5,
                        5,
                        5,
                        5,
                        4,
                        4,
                        6,
                        6,
                        6,
                        6,
                        6,
                        6,
                        3,
                        4,
                        4,
                        4,
                        4,
                        4,
                        4,
                        4,
                        4,
                        4,
                        4,
                        4,
                        4,
                        4,
                        4,
                        4,
                        4,
                        4,
                        4,
                        4,
                        4,
                        4,
                        4,
                        4,
                        4,
                        4,
                        4,
                        4,
                        4,
                        6,
                        6,
                        12,
                        4,
                        4,
                        4,
                        4,
                        4,
                        2,
                        2,
                        2,
                        2,
                        4,
                        4,
                        4,
                        4,
                        4,
                        4,
                        4,
                        4,
                        5,
                        5,
                        5,
                        5,
                        8,
                        8,
                        8,
                        8,
                        4,
                        4,
                        4,
                        4,
                        4,
                        4,
                        4,
                        4,
                        4,
                        4,
                        4,
                        4,
                        4,
                        4,
                        4,
                        4,
                        4,
                        4,
                        4,
                        4,
                        4,
                        4,
                        4,
                        4,
                        4,
                        4,
                        6,
                        6,
                        6,
                        6,
                        6,
                        6,
                        4,
                        4,
                        4,
                        4,
                        4,
                        4,
                        4,
                        4,
                        4,
                        4,
                        4,
                        4,
                        4,
                        4,
                        4,
                        4,
                        4,
                        4,
                        4,
                        6,
                        6,
                        6,
                        8,
                        4,
                        4,
                        4,
                        4,
                        4,
                        4,
                        4,
                        4,
                        4,
                        4,
                        4,
                        4,
                        4,
                        4,
                        4,
                        4,
                        4,
                        4,
                        4,
                        4,
                        4,
                        4,
                        4,
                        4,
                        4,
                        4,
                        4,
                        4,
                        4,
                        4,
                        4,
                        4,
                        4,
                        4,
                        4,
                        4,
                        4,
                        4,
                        4,
                        4,
                        4,
                        4,
                        4,
                        4,
                        4,
                        4,
                        4,
                        4,
                        6,
                        6,
                        6,
                        6,
                        4,
                        4,
                        4,
                        4,
                        4,
                        4,
                        4,
                        4,
                        4,
                        5,
                        4,
                        4,
                        4,
                        4,
                        4,
                        4,
                        4,
                        4,
                        4,
                        4,
                        6,
                        6,
                        4
                      ]
                    }
                  ],
                  "hovertemplate": "%{xaxis.title.text}=%{x}<br>%{yaxis.title.text}=%{y}<br>price=%{marker.color}<extra></extra>",
                  "legendgroup": "",
                  "marker": {
                    "color": [
                      13495,
                      16500,
                      16500,
                      13950,
                      17450,
                      15250,
                      17710,
                      18920,
                      23875,
                      17859.167,
                      16430,
                      16925,
                      20970,
                      21105,
                      24565,
                      30760,
                      41315,
                      36880,
                      5151,
                      6295,
                      6575,
                      5572,
                      6377,
                      7957,
                      6229,
                      6692,
                      7609,
                      8558,
                      8921,
                      12964,
                      6479,
                      6855,
                      5399,
                      6529,
                      7129,
                      7295,
                      7295,
                      7895,
                      9095,
                      8845,
                      10295,
                      12945,
                      10345,
                      6785,
                      8916.5,
                      8916.5,
                      11048,
                      32250,
                      35550,
                      36000,
                      5195,
                      6095,
                      6795,
                      6695,
                      7395,
                      10945,
                      11845,
                      13645,
                      15645,
                      8845,
                      8495,
                      10595,
                      10245,
                      10795,
                      11245,
                      18280,
                      18344,
                      25552,
                      28248,
                      28176,
                      31600,
                      34184,
                      35056,
                      40960,
                      45400,
                      16503,
                      5389,
                      6189,
                      6669,
                      7689,
                      9959,
                      8499,
                      12629,
                      14869,
                      14489,
                      6989,
                      8189,
                      9279,
                      9279,
                      5499,
                      7099,
                      6649,
                      6849,
                      7349,
                      7299,
                      7799,
                      7499,
                      7999,
                      8249,
                      8949,
                      9549,
                      13499,
                      14399,
                      13499,
                      17199,
                      19699,
                      18399,
                      11900,
                      13200,
                      12440,
                      13860,
                      15580,
                      16900,
                      16695,
                      17075,
                      16630,
                      17950,
                      18150,
                      5572,
                      7957,
                      6229,
                      6692,
                      7609,
                      8921,
                      12764,
                      22018,
                      32528,
                      34028,
                      37028,
                      31400.5,
                      9295,
                      9895,
                      11850,
                      12170,
                      15040,
                      15510,
                      18150,
                      18620,
                      5118,
                      7053,
                      7603,
                      7126,
                      7775,
                      9960,
                      9233,
                      11259,
                      7463,
                      10198,
                      8013,
                      11694,
                      5348,
                      6338,
                      6488,
                      6918,
                      7898,
                      8778,
                      6938,
                      7198,
                      7898,
                      7788,
                      7738,
                      8358,
                      9258,
                      8058,
                      8238,
                      9298,
                      9538,
                      8449,
                      9639,
                      9989,
                      11199,
                      11549,
                      17669,
                      8948,
                      10698,
                      9988,
                      10898,
                      11248,
                      16558,
                      15998,
                      15690,
                      15750,
                      7775,
                      7975,
                      7995,
                      8195,
                      8495,
                      9495,
                      9995,
                      11595,
                      9980,
                      13295,
                      13845,
                      12290,
                      12940,
                      13415,
                      15985,
                      16515,
                      18420,
                      18950,
                      16845,
                      19045,
                      21485,
                      22470,
                      22625
                    ],
                    "coloraxis": "coloraxis",
                    "symbol": "circle"
                  },
                  "name": "",
                  "showlegend": false,
                  "type": "splom"
                }
              ],
              "layout": {
                "coloraxis": {
                  "colorbar": {
                    "title": {
                      "text": "price"
                    }
                  },
                  "colorscale": [
                    [
                      0,
                      "#0d0887"
                    ],
                    [
                      0.1111111111111111,
                      "#46039f"
                    ],
                    [
                      0.2222222222222222,
                      "#7201a8"
                    ],
                    [
                      0.3333333333333333,
                      "#9c179e"
                    ],
                    [
                      0.4444444444444444,
                      "#bd3786"
                    ],
                    [
                      0.5555555555555556,
                      "#d8576b"
                    ],
                    [
                      0.6666666666666666,
                      "#ed7953"
                    ],
                    [
                      0.7777777777777778,
                      "#fb9f3a"
                    ],
                    [
                      0.8888888888888888,
                      "#fdca26"
                    ],
                    [
                      1,
                      "#f0f921"
                    ]
                  ]
                },
                "dragmode": "select",
                "height": 1000,
                "legend": {
                  "tracegroupgap": 0
                },
                "template": {
                  "data": {
                    "bar": [
                      {
                        "error_x": {
                          "color": "#2a3f5f"
                        },
                        "error_y": {
                          "color": "#2a3f5f"
                        },
                        "marker": {
                          "line": {
                            "color": "#E5ECF6",
                            "width": 0.5
                          }
                        },
                        "type": "bar"
                      }
                    ],
                    "barpolar": [
                      {
                        "marker": {
                          "line": {
                            "color": "#E5ECF6",
                            "width": 0.5
                          }
                        },
                        "type": "barpolar"
                      }
                    ],
                    "carpet": [
                      {
                        "aaxis": {
                          "endlinecolor": "#2a3f5f",
                          "gridcolor": "white",
                          "linecolor": "white",
                          "minorgridcolor": "white",
                          "startlinecolor": "#2a3f5f"
                        },
                        "baxis": {
                          "endlinecolor": "#2a3f5f",
                          "gridcolor": "white",
                          "linecolor": "white",
                          "minorgridcolor": "white",
                          "startlinecolor": "#2a3f5f"
                        },
                        "type": "carpet"
                      }
                    ],
                    "choropleth": [
                      {
                        "colorbar": {
                          "outlinewidth": 0,
                          "ticks": ""
                        },
                        "type": "choropleth"
                      }
                    ],
                    "contour": [
                      {
                        "colorbar": {
                          "outlinewidth": 0,
                          "ticks": ""
                        },
                        "colorscale": [
                          [
                            0,
                            "#0d0887"
                          ],
                          [
                            0.1111111111111111,
                            "#46039f"
                          ],
                          [
                            0.2222222222222222,
                            "#7201a8"
                          ],
                          [
                            0.3333333333333333,
                            "#9c179e"
                          ],
                          [
                            0.4444444444444444,
                            "#bd3786"
                          ],
                          [
                            0.5555555555555556,
                            "#d8576b"
                          ],
                          [
                            0.6666666666666666,
                            "#ed7953"
                          ],
                          [
                            0.7777777777777778,
                            "#fb9f3a"
                          ],
                          [
                            0.8888888888888888,
                            "#fdca26"
                          ],
                          [
                            1,
                            "#f0f921"
                          ]
                        ],
                        "type": "contour"
                      }
                    ],
                    "contourcarpet": [
                      {
                        "colorbar": {
                          "outlinewidth": 0,
                          "ticks": ""
                        },
                        "type": "contourcarpet"
                      }
                    ],
                    "heatmap": [
                      {
                        "colorbar": {
                          "outlinewidth": 0,
                          "ticks": ""
                        },
                        "colorscale": [
                          [
                            0,
                            "#0d0887"
                          ],
                          [
                            0.1111111111111111,
                            "#46039f"
                          ],
                          [
                            0.2222222222222222,
                            "#7201a8"
                          ],
                          [
                            0.3333333333333333,
                            "#9c179e"
                          ],
                          [
                            0.4444444444444444,
                            "#bd3786"
                          ],
                          [
                            0.5555555555555556,
                            "#d8576b"
                          ],
                          [
                            0.6666666666666666,
                            "#ed7953"
                          ],
                          [
                            0.7777777777777778,
                            "#fb9f3a"
                          ],
                          [
                            0.8888888888888888,
                            "#fdca26"
                          ],
                          [
                            1,
                            "#f0f921"
                          ]
                        ],
                        "type": "heatmap"
                      }
                    ],
                    "heatmapgl": [
                      {
                        "colorbar": {
                          "outlinewidth": 0,
                          "ticks": ""
                        },
                        "colorscale": [
                          [
                            0,
                            "#0d0887"
                          ],
                          [
                            0.1111111111111111,
                            "#46039f"
                          ],
                          [
                            0.2222222222222222,
                            "#7201a8"
                          ],
                          [
                            0.3333333333333333,
                            "#9c179e"
                          ],
                          [
                            0.4444444444444444,
                            "#bd3786"
                          ],
                          [
                            0.5555555555555556,
                            "#d8576b"
                          ],
                          [
                            0.6666666666666666,
                            "#ed7953"
                          ],
                          [
                            0.7777777777777778,
                            "#fb9f3a"
                          ],
                          [
                            0.8888888888888888,
                            "#fdca26"
                          ],
                          [
                            1,
                            "#f0f921"
                          ]
                        ],
                        "type": "heatmapgl"
                      }
                    ],
                    "histogram": [
                      {
                        "marker": {
                          "colorbar": {
                            "outlinewidth": 0,
                            "ticks": ""
                          }
                        },
                        "type": "histogram"
                      }
                    ],
                    "histogram2d": [
                      {
                        "colorbar": {
                          "outlinewidth": 0,
                          "ticks": ""
                        },
                        "colorscale": [
                          [
                            0,
                            "#0d0887"
                          ],
                          [
                            0.1111111111111111,
                            "#46039f"
                          ],
                          [
                            0.2222222222222222,
                            "#7201a8"
                          ],
                          [
                            0.3333333333333333,
                            "#9c179e"
                          ],
                          [
                            0.4444444444444444,
                            "#bd3786"
                          ],
                          [
                            0.5555555555555556,
                            "#d8576b"
                          ],
                          [
                            0.6666666666666666,
                            "#ed7953"
                          ],
                          [
                            0.7777777777777778,
                            "#fb9f3a"
                          ],
                          [
                            0.8888888888888888,
                            "#fdca26"
                          ],
                          [
                            1,
                            "#f0f921"
                          ]
                        ],
                        "type": "histogram2d"
                      }
                    ],
                    "histogram2dcontour": [
                      {
                        "colorbar": {
                          "outlinewidth": 0,
                          "ticks": ""
                        },
                        "colorscale": [
                          [
                            0,
                            "#0d0887"
                          ],
                          [
                            0.1111111111111111,
                            "#46039f"
                          ],
                          [
                            0.2222222222222222,
                            "#7201a8"
                          ],
                          [
                            0.3333333333333333,
                            "#9c179e"
                          ],
                          [
                            0.4444444444444444,
                            "#bd3786"
                          ],
                          [
                            0.5555555555555556,
                            "#d8576b"
                          ],
                          [
                            0.6666666666666666,
                            "#ed7953"
                          ],
                          [
                            0.7777777777777778,
                            "#fb9f3a"
                          ],
                          [
                            0.8888888888888888,
                            "#fdca26"
                          ],
                          [
                            1,
                            "#f0f921"
                          ]
                        ],
                        "type": "histogram2dcontour"
                      }
                    ],
                    "mesh3d": [
                      {
                        "colorbar": {
                          "outlinewidth": 0,
                          "ticks": ""
                        },
                        "type": "mesh3d"
                      }
                    ],
                    "parcoords": [
                      {
                        "line": {
                          "colorbar": {
                            "outlinewidth": 0,
                            "ticks": ""
                          }
                        },
                        "type": "parcoords"
                      }
                    ],
                    "pie": [
                      {
                        "automargin": true,
                        "type": "pie"
                      }
                    ],
                    "scatter": [
                      {
                        "marker": {
                          "colorbar": {
                            "outlinewidth": 0,
                            "ticks": ""
                          }
                        },
                        "type": "scatter"
                      }
                    ],
                    "scatter3d": [
                      {
                        "line": {
                          "colorbar": {
                            "outlinewidth": 0,
                            "ticks": ""
                          }
                        },
                        "marker": {
                          "colorbar": {
                            "outlinewidth": 0,
                            "ticks": ""
                          }
                        },
                        "type": "scatter3d"
                      }
                    ],
                    "scattercarpet": [
                      {
                        "marker": {
                          "colorbar": {
                            "outlinewidth": 0,
                            "ticks": ""
                          }
                        },
                        "type": "scattercarpet"
                      }
                    ],
                    "scattergeo": [
                      {
                        "marker": {
                          "colorbar": {
                            "outlinewidth": 0,
                            "ticks": ""
                          }
                        },
                        "type": "scattergeo"
                      }
                    ],
                    "scattergl": [
                      {
                        "marker": {
                          "colorbar": {
                            "outlinewidth": 0,
                            "ticks": ""
                          }
                        },
                        "type": "scattergl"
                      }
                    ],
                    "scattermapbox": [
                      {
                        "marker": {
                          "colorbar": {
                            "outlinewidth": 0,
                            "ticks": ""
                          }
                        },
                        "type": "scattermapbox"
                      }
                    ],
                    "scatterpolar": [
                      {
                        "marker": {
                          "colorbar": {
                            "outlinewidth": 0,
                            "ticks": ""
                          }
                        },
                        "type": "scatterpolar"
                      }
                    ],
                    "scatterpolargl": [
                      {
                        "marker": {
                          "colorbar": {
                            "outlinewidth": 0,
                            "ticks": ""
                          }
                        },
                        "type": "scatterpolargl"
                      }
                    ],
                    "scatterternary": [
                      {
                        "marker": {
                          "colorbar": {
                            "outlinewidth": 0,
                            "ticks": ""
                          }
                        },
                        "type": "scatterternary"
                      }
                    ],
                    "surface": [
                      {
                        "colorbar": {
                          "outlinewidth": 0,
                          "ticks": ""
                        },
                        "colorscale": [
                          [
                            0,
                            "#0d0887"
                          ],
                          [
                            0.1111111111111111,
                            "#46039f"
                          ],
                          [
                            0.2222222222222222,
                            "#7201a8"
                          ],
                          [
                            0.3333333333333333,
                            "#9c179e"
                          ],
                          [
                            0.4444444444444444,
                            "#bd3786"
                          ],
                          [
                            0.5555555555555556,
                            "#d8576b"
                          ],
                          [
                            0.6666666666666666,
                            "#ed7953"
                          ],
                          [
                            0.7777777777777778,
                            "#fb9f3a"
                          ],
                          [
                            0.8888888888888888,
                            "#fdca26"
                          ],
                          [
                            1,
                            "#f0f921"
                          ]
                        ],
                        "type": "surface"
                      }
                    ],
                    "table": [
                      {
                        "cells": {
                          "fill": {
                            "color": "#EBF0F8"
                          },
                          "line": {
                            "color": "white"
                          }
                        },
                        "header": {
                          "fill": {
                            "color": "#C8D4E3"
                          },
                          "line": {
                            "color": "white"
                          }
                        },
                        "type": "table"
                      }
                    ]
                  },
                  "layout": {
                    "annotationdefaults": {
                      "arrowcolor": "#2a3f5f",
                      "arrowhead": 0,
                      "arrowwidth": 1
                    },
                    "coloraxis": {
                      "colorbar": {
                        "outlinewidth": 0,
                        "ticks": ""
                      }
                    },
                    "colorscale": {
                      "diverging": [
                        [
                          0,
                          "#8e0152"
                        ],
                        [
                          0.1,
                          "#c51b7d"
                        ],
                        [
                          0.2,
                          "#de77ae"
                        ],
                        [
                          0.3,
                          "#f1b6da"
                        ],
                        [
                          0.4,
                          "#fde0ef"
                        ],
                        [
                          0.5,
                          "#f7f7f7"
                        ],
                        [
                          0.6,
                          "#e6f5d0"
                        ],
                        [
                          0.7,
                          "#b8e186"
                        ],
                        [
                          0.8,
                          "#7fbc41"
                        ],
                        [
                          0.9,
                          "#4d9221"
                        ],
                        [
                          1,
                          "#276419"
                        ]
                      ],
                      "sequential": [
                        [
                          0,
                          "#0d0887"
                        ],
                        [
                          0.1111111111111111,
                          "#46039f"
                        ],
                        [
                          0.2222222222222222,
                          "#7201a8"
                        ],
                        [
                          0.3333333333333333,
                          "#9c179e"
                        ],
                        [
                          0.4444444444444444,
                          "#bd3786"
                        ],
                        [
                          0.5555555555555556,
                          "#d8576b"
                        ],
                        [
                          0.6666666666666666,
                          "#ed7953"
                        ],
                        [
                          0.7777777777777778,
                          "#fb9f3a"
                        ],
                        [
                          0.8888888888888888,
                          "#fdca26"
                        ],
                        [
                          1,
                          "#f0f921"
                        ]
                      ],
                      "sequentialminus": [
                        [
                          0,
                          "#0d0887"
                        ],
                        [
                          0.1111111111111111,
                          "#46039f"
                        ],
                        [
                          0.2222222222222222,
                          "#7201a8"
                        ],
                        [
                          0.3333333333333333,
                          "#9c179e"
                        ],
                        [
                          0.4444444444444444,
                          "#bd3786"
                        ],
                        [
                          0.5555555555555556,
                          "#d8576b"
                        ],
                        [
                          0.6666666666666666,
                          "#ed7953"
                        ],
                        [
                          0.7777777777777778,
                          "#fb9f3a"
                        ],
                        [
                          0.8888888888888888,
                          "#fdca26"
                        ],
                        [
                          1,
                          "#f0f921"
                        ]
                      ]
                    },
                    "colorway": [
                      "#636efa",
                      "#EF553B",
                      "#00cc96",
                      "#ab63fa",
                      "#FFA15A",
                      "#19d3f3",
                      "#FF6692",
                      "#B6E880",
                      "#FF97FF",
                      "#FECB52"
                    ],
                    "font": {
                      "color": "#2a3f5f"
                    },
                    "geo": {
                      "bgcolor": "white",
                      "lakecolor": "white",
                      "landcolor": "#E5ECF6",
                      "showlakes": true,
                      "showland": true,
                      "subunitcolor": "white"
                    },
                    "hoverlabel": {
                      "align": "left"
                    },
                    "hovermode": "closest",
                    "mapbox": {
                      "style": "light"
                    },
                    "paper_bgcolor": "white",
                    "plot_bgcolor": "#E5ECF6",
                    "polar": {
                      "angularaxis": {
                        "gridcolor": "white",
                        "linecolor": "white",
                        "ticks": ""
                      },
                      "bgcolor": "#E5ECF6",
                      "radialaxis": {
                        "gridcolor": "white",
                        "linecolor": "white",
                        "ticks": ""
                      }
                    },
                    "scene": {
                      "xaxis": {
                        "backgroundcolor": "#E5ECF6",
                        "gridcolor": "white",
                        "gridwidth": 2,
                        "linecolor": "white",
                        "showbackground": true,
                        "ticks": "",
                        "zerolinecolor": "white"
                      },
                      "yaxis": {
                        "backgroundcolor": "#E5ECF6",
                        "gridcolor": "white",
                        "gridwidth": 2,
                        "linecolor": "white",
                        "showbackground": true,
                        "ticks": "",
                        "zerolinecolor": "white"
                      },
                      "zaxis": {
                        "backgroundcolor": "#E5ECF6",
                        "gridcolor": "white",
                        "gridwidth": 2,
                        "linecolor": "white",
                        "showbackground": true,
                        "ticks": "",
                        "zerolinecolor": "white"
                      }
                    },
                    "shapedefaults": {
                      "line": {
                        "color": "#2a3f5f"
                      }
                    },
                    "ternary": {
                      "aaxis": {
                        "gridcolor": "white",
                        "linecolor": "white",
                        "ticks": ""
                      },
                      "baxis": {
                        "gridcolor": "white",
                        "linecolor": "white",
                        "ticks": ""
                      },
                      "bgcolor": "#E5ECF6",
                      "caxis": {
                        "gridcolor": "white",
                        "linecolor": "white",
                        "ticks": ""
                      }
                    },
                    "title": {
                      "x": 0.05
                    },
                    "xaxis": {
                      "automargin": true,
                      "gridcolor": "white",
                      "linecolor": "white",
                      "ticks": "",
                      "title": {
                        "standoff": 15
                      },
                      "zerolinecolor": "white",
                      "zerolinewidth": 2
                    },
                    "yaxis": {
                      "automargin": true,
                      "gridcolor": "white",
                      "linecolor": "white",
                      "ticks": "",
                      "title": {
                        "standoff": 15
                      },
                      "zerolinecolor": "white",
                      "zerolinewidth": 2
                    }
                  }
                },
                "title": {
                  "text": "Correlation between multiple variables colour coded by Price"
                },
                "width": 1000
              }
            },
            "text/html": [
              "<div>                            <div id=\"07b9c3b4-a458-42ba-832f-69f0a347ce36\" class=\"plotly-graph-div\" style=\"height:1000px; width:1000px;\"></div>            <script type=\"text/javascript\">                require([\"plotly\"], function(Plotly) {                    window.PLOTLYENV=window.PLOTLYENV || {};                                    if (document.getElementById(\"07b9c3b4-a458-42ba-832f-69f0a347ce36\")) {                    Plotly.newPlot(                        \"07b9c3b4-a458-42ba-832f-69f0a347ce36\",                        [{\"dimensions\": [{\"axis\": {\"matches\": true}, \"label\": \"curbweight\", \"values\": [2548, 2548, 2823, 2337, 2824, 2507, 2844, 2954, 3086, 3053, 2395, 2395, 2710, 2765, 3055, 3230, 3380, 3505, 1488, 1874, 1909, 1876, 1876, 2128, 1967, 1989, 1989, 2191, 2535, 2811, 1713, 1819, 1837, 1940, 1956, 2010, 2024, 2236, 2289, 2304, 2372, 2465, 2293, 2337, 1874, 1909, 2734, 4066, 4066, 3950, 1890, 1900, 1905, 1945, 1950, 2380, 2380, 2385, 2500, 2385, 2410, 2385, 2410, 2443, 2425, 2670, 2700, 3515, 3750, 3495, 3770, 3740, 3685, 3900, 3715, 2910, 1918, 1944, 2004, 2145, 2370, 2328, 2833, 2921, 2926, 2365, 2405, 2403, 2403, 1889, 2017, 1918, 1938, 2024, 1951, 2028, 1971, 2037, 2008, 2324, 2302, 3095, 3296, 3060, 3071, 3139, 3139, 3020, 3197, 3230, 3430, 3075, 3252, 3285, 3485, 3075, 3252, 3130, 1918, 2128, 1967, 1989, 2191, 2535, 2818, 2778, 2756, 2756, 2800, 3366, 2579, 2460, 2658, 2695, 2707, 2758, 2808, 2847, 2050, 2120, 2240, 2145, 2190, 2340, 2385, 2510, 2290, 2455, 2420, 2650, 1985, 2040, 2015, 2280, 2290, 3110, 2081, 2109, 2275, 2275, 2094, 2122, 2140, 2169, 2204, 2265, 2300, 2540, 2536, 2551, 2679, 2714, 2975, 2326, 2480, 2414, 2414, 2458, 2976, 3016, 3131, 3151, 2261, 2209, 2264, 2212, 2275, 2319, 2300, 2254, 2221, 2661, 2579, 2563, 2912, 3034, 2935, 3042, 3045, 3157, 2952, 3049, 3012, 3217, 3062]}, {\"axis\": {\"matches\": true}, \"label\": \"wheelbase\", \"values\": [88.6, 88.6, 94.5, 99.8, 99.4, 99.8, 105.8, 105.8, 105.8, 99.5, 101.2, 101.2, 101.2, 101.2, 103.5, 103.5, 103.5, 110.0, 88.4, 94.5, 94.5, 93.7, 93.7, 93.7, 93.7, 93.7, 93.7, 93.7, 103.3, 95.9, 86.6, 86.6, 93.7, 93.7, 93.7, 96.5, 96.5, 96.5, 96.5, 96.5, 96.5, 96.5, 96.5, 94.3, 94.5, 94.5, 96.0, 113.0, 113.0, 102.0, 93.1, 93.1, 93.1, 93.1, 93.1, 95.3, 95.3, 95.3, 95.3, 98.8, 98.8, 98.8, 98.8, 98.8, 98.8, 104.9, 104.9, 110.0, 110.0, 106.7, 115.6, 115.6, 96.6, 120.9, 112.0, 102.7, 93.7, 93.7, 93.7, 93.0, 96.3, 96.3, 95.9, 95.9, 95.9, 96.3, 96.3, 96.3, 96.3, 94.5, 94.5, 94.5, 94.5, 94.5, 94.5, 94.5, 94.5, 94.5, 95.1, 97.2, 97.2, 100.4, 100.4, 100.4, 91.3, 91.3, 99.2, 107.9, 107.9, 114.2, 114.2, 107.9, 107.9, 114.2, 114.2, 107.9, 107.9, 108.0, 93.7, 93.7, 93.7, 93.7, 93.7, 103.3, 95.9, 94.5, 89.5, 89.5, 89.5, 98.4, 96.1, 96.1, 99.1, 99.1, 99.1, 99.1, 99.1, 99.1, 93.7, 93.7, 93.3, 97.2, 97.2, 97.2, 97.0, 97.0, 97.0, 97.0, 96.9, 96.9, 95.7, 95.7, 95.7, 95.7, 95.7, 95.7, 95.7, 95.7, 95.7, 95.7, 95.7, 95.7, 95.7, 94.5, 94.5, 94.5, 94.5, 98.4, 98.4, 98.4, 98.4, 98.4, 98.4, 102.4, 102.4, 102.4, 102.4, 102.4, 102.9, 102.9, 104.5, 104.5, 97.3, 97.3, 97.3, 97.3, 97.3, 97.3, 97.3, 94.5, 94.5, 100.4, 100.4, 100.4, 104.3, 104.3, 104.3, 104.3, 104.3, 104.3, 109.1, 109.1, 109.1, 109.1, 109.1]}, {\"axis\": {\"matches\": true}, \"label\": \"highwaympg\", \"values\": [27, 27, 26, 30, 22, 25, 25, 25, 20, 22, 29, 29, 28, 28, 25, 22, 22, 20, 53, 43, 43, 41, 38, 30, 38, 38, 38, 30, 30, 24, 54, 38, 42, 34, 34, 34, 34, 33, 33, 33, 33, 28, 31, 29, 43, 43, 29, 19, 19, 17, 31, 38, 38, 38, 38, 23, 23, 23, 23, 32, 32, 32, 32, 42, 32, 27, 39, 25, 25, 25, 25, 18, 18, 16, 16, 24, 41, 38, 38, 30, 30, 32, 24, 24, 24, 32, 32, 30, 30, 37, 50, 37, 37, 37, 37, 37, 37, 37, 37, 34, 34, 22, 22, 25, 25, 23, 25, 24, 33, 24, 25, 24, 33, 24, 25, 24, 33, 24, 41, 30, 38, 38, 38, 30, 24, 27, 25, 25, 25, 28, 31, 31, 28, 28, 28, 28, 26, 26, 36, 31, 31, 37, 33, 32, 25, 29, 32, 31, 29, 23, 39, 38, 38, 37, 32, 32, 37, 37, 36, 47, 47, 34, 34, 34, 34, 29, 29, 30, 30, 30, 30, 30, 30, 34, 33, 32, 32, 32, 24, 24, 24, 24, 46, 34, 46, 34, 34, 42, 32, 29, 29, 24, 38, 31, 28, 28, 28, 28, 22, 22, 28, 25, 23, 27, 25]}, {\"axis\": {\"matches\": true}, \"label\": \"cylindernumber\", \"values\": [4, 4, 6, 4, 5, 5, 5, 5, 5, 5, 4, 4, 6, 6, 6, 6, 6, 6, 3, 4, 4, 4, 4, 4, 4, 4, 4, 4, 4, 4, 4, 4, 4, 4, 4, 4, 4, 4, 4, 4, 4, 4, 4, 4, 4, 4, 4, 6, 6, 12, 4, 4, 4, 4, 4, 2, 2, 2, 2, 4, 4, 4, 4, 4, 4, 4, 4, 5, 5, 5, 5, 8, 8, 8, 8, 4, 4, 4, 4, 4, 4, 4, 4, 4, 4, 4, 4, 4, 4, 4, 4, 4, 4, 4, 4, 4, 4, 4, 4, 4, 4, 6, 6, 6, 6, 6, 6, 4, 4, 4, 4, 4, 4, 4, 4, 4, 4, 4, 4, 4, 4, 4, 4, 4, 4, 4, 6, 6, 6, 8, 4, 4, 4, 4, 4, 4, 4, 4, 4, 4, 4, 4, 4, 4, 4, 4, 4, 4, 4, 4, 4, 4, 4, 4, 4, 4, 4, 4, 4, 4, 4, 4, 4, 4, 4, 4, 4, 4, 4, 4, 4, 4, 4, 4, 4, 4, 4, 4, 6, 6, 6, 6, 4, 4, 4, 4, 4, 4, 4, 4, 4, 5, 4, 4, 4, 4, 4, 4, 4, 4, 4, 4, 6, 6, 4]}], \"hovertemplate\": \"%{xaxis.title.text}=%{x}<br>%{yaxis.title.text}=%{y}<br>price=%{marker.color}<extra></extra>\", \"legendgroup\": \"\", \"marker\": {\"color\": [13495.0, 16500.0, 16500.0, 13950.0, 17450.0, 15250.0, 17710.0, 18920.0, 23875.0, 17859.167, 16430.0, 16925.0, 20970.0, 21105.0, 24565.0, 30760.0, 41315.0, 36880.0, 5151.0, 6295.0, 6575.0, 5572.0, 6377.0, 7957.0, 6229.0, 6692.0, 7609.0, 8558.0, 8921.0, 12964.0, 6479.0, 6855.0, 5399.0, 6529.0, 7129.0, 7295.0, 7295.0, 7895.0, 9095.0, 8845.0, 10295.0, 12945.0, 10345.0, 6785.0, 8916.5, 8916.5, 11048.0, 32250.0, 35550.0, 36000.0, 5195.0, 6095.0, 6795.0, 6695.0, 7395.0, 10945.0, 11845.0, 13645.0, 15645.0, 8845.0, 8495.0, 10595.0, 10245.0, 10795.0, 11245.0, 18280.0, 18344.0, 25552.0, 28248.0, 28176.0, 31600.0, 34184.0, 35056.0, 40960.0, 45400.0, 16503.0, 5389.0, 6189.0, 6669.0, 7689.0, 9959.0, 8499.0, 12629.0, 14869.0, 14489.0, 6989.0, 8189.0, 9279.0, 9279.0, 5499.0, 7099.0, 6649.0, 6849.0, 7349.0, 7299.0, 7799.0, 7499.0, 7999.0, 8249.0, 8949.0, 9549.0, 13499.0, 14399.0, 13499.0, 17199.0, 19699.0, 18399.0, 11900.0, 13200.0, 12440.0, 13860.0, 15580.0, 16900.0, 16695.0, 17075.0, 16630.0, 17950.0, 18150.0, 5572.0, 7957.0, 6229.0, 6692.0, 7609.0, 8921.0, 12764.0, 22018.0, 32528.0, 34028.0, 37028.0, 31400.5, 9295.0, 9895.0, 11850.0, 12170.0, 15040.0, 15510.0, 18150.0, 18620.0, 5118.0, 7053.0, 7603.0, 7126.0, 7775.0, 9960.0, 9233.0, 11259.0, 7463.0, 10198.0, 8013.0, 11694.0, 5348.0, 6338.0, 6488.0, 6918.0, 7898.0, 8778.0, 6938.0, 7198.0, 7898.0, 7788.0, 7738.0, 8358.0, 9258.0, 8058.0, 8238.0, 9298.0, 9538.0, 8449.0, 9639.0, 9989.0, 11199.0, 11549.0, 17669.0, 8948.0, 10698.0, 9988.0, 10898.0, 11248.0, 16558.0, 15998.0, 15690.0, 15750.0, 7775.0, 7975.0, 7995.0, 8195.0, 8495.0, 9495.0, 9995.0, 11595.0, 9980.0, 13295.0, 13845.0, 12290.0, 12940.0, 13415.0, 15985.0, 16515.0, 18420.0, 18950.0, 16845.0, 19045.0, 21485.0, 22470.0, 22625.0], \"coloraxis\": \"coloraxis\", \"symbol\": \"circle\"}, \"name\": \"\", \"showlegend\": false, \"type\": \"splom\"}],                        {\"coloraxis\": {\"colorbar\": {\"title\": {\"text\": \"price\"}}, \"colorscale\": [[0.0, \"#0d0887\"], [0.1111111111111111, \"#46039f\"], [0.2222222222222222, \"#7201a8\"], [0.3333333333333333, \"#9c179e\"], [0.4444444444444444, \"#bd3786\"], [0.5555555555555556, \"#d8576b\"], [0.6666666666666666, \"#ed7953\"], [0.7777777777777778, \"#fb9f3a\"], [0.8888888888888888, \"#fdca26\"], [1.0, \"#f0f921\"]]}, \"dragmode\": \"select\", \"height\": 1000, \"legend\": {\"tracegroupgap\": 0}, \"template\": {\"data\": {\"bar\": [{\"error_x\": {\"color\": \"#2a3f5f\"}, \"error_y\": {\"color\": \"#2a3f5f\"}, \"marker\": {\"line\": {\"color\": \"#E5ECF6\", \"width\": 0.5}}, \"type\": \"bar\"}], \"barpolar\": [{\"marker\": {\"line\": {\"color\": \"#E5ECF6\", \"width\": 0.5}}, \"type\": \"barpolar\"}], \"carpet\": [{\"aaxis\": {\"endlinecolor\": \"#2a3f5f\", \"gridcolor\": \"white\", \"linecolor\": \"white\", \"minorgridcolor\": \"white\", \"startlinecolor\": \"#2a3f5f\"}, \"baxis\": {\"endlinecolor\": \"#2a3f5f\", \"gridcolor\": \"white\", \"linecolor\": \"white\", \"minorgridcolor\": \"white\", \"startlinecolor\": \"#2a3f5f\"}, \"type\": \"carpet\"}], \"choropleth\": [{\"colorbar\": {\"outlinewidth\": 0, \"ticks\": \"\"}, \"type\": \"choropleth\"}], \"contour\": [{\"colorbar\": {\"outlinewidth\": 0, \"ticks\": \"\"}, \"colorscale\": [[0.0, \"#0d0887\"], [0.1111111111111111, \"#46039f\"], [0.2222222222222222, \"#7201a8\"], [0.3333333333333333, \"#9c179e\"], [0.4444444444444444, \"#bd3786\"], [0.5555555555555556, \"#d8576b\"], [0.6666666666666666, \"#ed7953\"], [0.7777777777777778, \"#fb9f3a\"], [0.8888888888888888, \"#fdca26\"], [1.0, \"#f0f921\"]], \"type\": \"contour\"}], \"contourcarpet\": [{\"colorbar\": {\"outlinewidth\": 0, \"ticks\": \"\"}, \"type\": \"contourcarpet\"}], \"heatmap\": [{\"colorbar\": {\"outlinewidth\": 0, \"ticks\": \"\"}, \"colorscale\": [[0.0, \"#0d0887\"], [0.1111111111111111, \"#46039f\"], [0.2222222222222222, \"#7201a8\"], [0.3333333333333333, \"#9c179e\"], [0.4444444444444444, \"#bd3786\"], [0.5555555555555556, \"#d8576b\"], [0.6666666666666666, \"#ed7953\"], [0.7777777777777778, \"#fb9f3a\"], [0.8888888888888888, \"#fdca26\"], [1.0, \"#f0f921\"]], \"type\": \"heatmap\"}], \"heatmapgl\": [{\"colorbar\": {\"outlinewidth\": 0, \"ticks\": \"\"}, \"colorscale\": [[0.0, \"#0d0887\"], [0.1111111111111111, \"#46039f\"], [0.2222222222222222, \"#7201a8\"], [0.3333333333333333, \"#9c179e\"], [0.4444444444444444, \"#bd3786\"], [0.5555555555555556, \"#d8576b\"], [0.6666666666666666, \"#ed7953\"], [0.7777777777777778, \"#fb9f3a\"], [0.8888888888888888, \"#fdca26\"], [1.0, \"#f0f921\"]], \"type\": \"heatmapgl\"}], \"histogram\": [{\"marker\": {\"colorbar\": {\"outlinewidth\": 0, \"ticks\": \"\"}}, \"type\": \"histogram\"}], \"histogram2d\": [{\"colorbar\": {\"outlinewidth\": 0, \"ticks\": \"\"}, \"colorscale\": [[0.0, \"#0d0887\"], [0.1111111111111111, \"#46039f\"], [0.2222222222222222, \"#7201a8\"], [0.3333333333333333, \"#9c179e\"], [0.4444444444444444, \"#bd3786\"], [0.5555555555555556, \"#d8576b\"], [0.6666666666666666, \"#ed7953\"], [0.7777777777777778, \"#fb9f3a\"], [0.8888888888888888, \"#fdca26\"], [1.0, \"#f0f921\"]], \"type\": \"histogram2d\"}], \"histogram2dcontour\": [{\"colorbar\": {\"outlinewidth\": 0, \"ticks\": \"\"}, \"colorscale\": [[0.0, \"#0d0887\"], [0.1111111111111111, \"#46039f\"], [0.2222222222222222, \"#7201a8\"], [0.3333333333333333, \"#9c179e\"], [0.4444444444444444, \"#bd3786\"], [0.5555555555555556, \"#d8576b\"], [0.6666666666666666, \"#ed7953\"], [0.7777777777777778, \"#fb9f3a\"], [0.8888888888888888, \"#fdca26\"], [1.0, \"#f0f921\"]], \"type\": \"histogram2dcontour\"}], \"mesh3d\": [{\"colorbar\": {\"outlinewidth\": 0, \"ticks\": \"\"}, \"type\": \"mesh3d\"}], \"parcoords\": [{\"line\": {\"colorbar\": {\"outlinewidth\": 0, \"ticks\": \"\"}}, \"type\": \"parcoords\"}], \"pie\": [{\"automargin\": true, \"type\": \"pie\"}], \"scatter\": [{\"marker\": {\"colorbar\": {\"outlinewidth\": 0, \"ticks\": \"\"}}, \"type\": \"scatter\"}], \"scatter3d\": [{\"line\": {\"colorbar\": {\"outlinewidth\": 0, \"ticks\": \"\"}}, \"marker\": {\"colorbar\": {\"outlinewidth\": 0, \"ticks\": \"\"}}, \"type\": \"scatter3d\"}], \"scattercarpet\": [{\"marker\": {\"colorbar\": {\"outlinewidth\": 0, \"ticks\": \"\"}}, \"type\": \"scattercarpet\"}], \"scattergeo\": [{\"marker\": {\"colorbar\": {\"outlinewidth\": 0, \"ticks\": \"\"}}, \"type\": \"scattergeo\"}], \"scattergl\": [{\"marker\": {\"colorbar\": {\"outlinewidth\": 0, \"ticks\": \"\"}}, \"type\": \"scattergl\"}], \"scattermapbox\": [{\"marker\": {\"colorbar\": {\"outlinewidth\": 0, \"ticks\": \"\"}}, \"type\": \"scattermapbox\"}], \"scatterpolar\": [{\"marker\": {\"colorbar\": {\"outlinewidth\": 0, \"ticks\": \"\"}}, \"type\": \"scatterpolar\"}], \"scatterpolargl\": [{\"marker\": {\"colorbar\": {\"outlinewidth\": 0, \"ticks\": \"\"}}, \"type\": \"scatterpolargl\"}], \"scatterternary\": [{\"marker\": {\"colorbar\": {\"outlinewidth\": 0, \"ticks\": \"\"}}, \"type\": \"scatterternary\"}], \"surface\": [{\"colorbar\": {\"outlinewidth\": 0, \"ticks\": \"\"}, \"colorscale\": [[0.0, \"#0d0887\"], [0.1111111111111111, \"#46039f\"], [0.2222222222222222, \"#7201a8\"], [0.3333333333333333, \"#9c179e\"], [0.4444444444444444, \"#bd3786\"], [0.5555555555555556, \"#d8576b\"], [0.6666666666666666, \"#ed7953\"], [0.7777777777777778, \"#fb9f3a\"], [0.8888888888888888, \"#fdca26\"], [1.0, \"#f0f921\"]], \"type\": \"surface\"}], \"table\": [{\"cells\": {\"fill\": {\"color\": \"#EBF0F8\"}, \"line\": {\"color\": \"white\"}}, \"header\": {\"fill\": {\"color\": \"#C8D4E3\"}, \"line\": {\"color\": \"white\"}}, \"type\": \"table\"}]}, \"layout\": {\"annotationdefaults\": {\"arrowcolor\": \"#2a3f5f\", \"arrowhead\": 0, \"arrowwidth\": 1}, \"coloraxis\": {\"colorbar\": {\"outlinewidth\": 0, \"ticks\": \"\"}}, \"colorscale\": {\"diverging\": [[0, \"#8e0152\"], [0.1, \"#c51b7d\"], [0.2, \"#de77ae\"], [0.3, \"#f1b6da\"], [0.4, \"#fde0ef\"], [0.5, \"#f7f7f7\"], [0.6, \"#e6f5d0\"], [0.7, \"#b8e186\"], [0.8, \"#7fbc41\"], [0.9, \"#4d9221\"], [1, \"#276419\"]], \"sequential\": [[0.0, \"#0d0887\"], [0.1111111111111111, \"#46039f\"], [0.2222222222222222, \"#7201a8\"], [0.3333333333333333, \"#9c179e\"], [0.4444444444444444, \"#bd3786\"], [0.5555555555555556, \"#d8576b\"], [0.6666666666666666, \"#ed7953\"], [0.7777777777777778, \"#fb9f3a\"], [0.8888888888888888, \"#fdca26\"], [1.0, \"#f0f921\"]], \"sequentialminus\": [[0.0, \"#0d0887\"], [0.1111111111111111, \"#46039f\"], [0.2222222222222222, \"#7201a8\"], [0.3333333333333333, \"#9c179e\"], [0.4444444444444444, \"#bd3786\"], [0.5555555555555556, \"#d8576b\"], [0.6666666666666666, \"#ed7953\"], [0.7777777777777778, \"#fb9f3a\"], [0.8888888888888888, \"#fdca26\"], [1.0, \"#f0f921\"]]}, \"colorway\": [\"#636efa\", \"#EF553B\", \"#00cc96\", \"#ab63fa\", \"#FFA15A\", \"#19d3f3\", \"#FF6692\", \"#B6E880\", \"#FF97FF\", \"#FECB52\"], \"font\": {\"color\": \"#2a3f5f\"}, \"geo\": {\"bgcolor\": \"white\", \"lakecolor\": \"white\", \"landcolor\": \"#E5ECF6\", \"showlakes\": true, \"showland\": true, \"subunitcolor\": \"white\"}, \"hoverlabel\": {\"align\": \"left\"}, \"hovermode\": \"closest\", \"mapbox\": {\"style\": \"light\"}, \"paper_bgcolor\": \"white\", \"plot_bgcolor\": \"#E5ECF6\", \"polar\": {\"angularaxis\": {\"gridcolor\": \"white\", \"linecolor\": \"white\", \"ticks\": \"\"}, \"bgcolor\": \"#E5ECF6\", \"radialaxis\": {\"gridcolor\": \"white\", \"linecolor\": \"white\", \"ticks\": \"\"}}, \"scene\": {\"xaxis\": {\"backgroundcolor\": \"#E5ECF6\", \"gridcolor\": \"white\", \"gridwidth\": 2, \"linecolor\": \"white\", \"showbackground\": true, \"ticks\": \"\", \"zerolinecolor\": \"white\"}, \"yaxis\": {\"backgroundcolor\": \"#E5ECF6\", \"gridcolor\": \"white\", \"gridwidth\": 2, \"linecolor\": \"white\", \"showbackground\": true, \"ticks\": \"\", \"zerolinecolor\": \"white\"}, \"zaxis\": {\"backgroundcolor\": \"#E5ECF6\", \"gridcolor\": \"white\", \"gridwidth\": 2, \"linecolor\": \"white\", \"showbackground\": true, \"ticks\": \"\", \"zerolinecolor\": \"white\"}}, \"shapedefaults\": {\"line\": {\"color\": \"#2a3f5f\"}}, \"ternary\": {\"aaxis\": {\"gridcolor\": \"white\", \"linecolor\": \"white\", \"ticks\": \"\"}, \"baxis\": {\"gridcolor\": \"white\", \"linecolor\": \"white\", \"ticks\": \"\"}, \"bgcolor\": \"#E5ECF6\", \"caxis\": {\"gridcolor\": \"white\", \"linecolor\": \"white\", \"ticks\": \"\"}}, \"title\": {\"x\": 0.05}, \"xaxis\": {\"automargin\": true, \"gridcolor\": \"white\", \"linecolor\": \"white\", \"ticks\": \"\", \"title\": {\"standoff\": 15}, \"zerolinecolor\": \"white\", \"zerolinewidth\": 2}, \"yaxis\": {\"automargin\": true, \"gridcolor\": \"white\", \"linecolor\": \"white\", \"ticks\": \"\", \"title\": {\"standoff\": 15}, \"zerolinecolor\": \"white\", \"zerolinewidth\": 2}}}, \"title\": {\"text\": \"Correlation between multiple variables colour coded by Price\"}, \"width\": 1000},                        {\"responsive\": true}                    ).then(function(){\n",
              "                            \n",
              "var gd = document.getElementById('07b9c3b4-a458-42ba-832f-69f0a347ce36');\n",
              "var x = new MutationObserver(function (mutations, observer) {{\n",
              "        var display = window.getComputedStyle(gd).display;\n",
              "        if (!display || display === 'none') {{\n",
              "            console.log([gd, 'removed!']);\n",
              "            Plotly.purge(gd);\n",
              "            observer.disconnect();\n",
              "        }}\n",
              "}});\n",
              "\n",
              "// Listen for the removal of the full notebook cells\n",
              "var notebookContainer = gd.closest('#notebook-container');\n",
              "if (notebookContainer) {{\n",
              "    x.observe(notebookContainer, {childList: true});\n",
              "}}\n",
              "\n",
              "// Listen for the clearing of the current output cell\n",
              "var outputEl = gd.closest('.output');\n",
              "if (outputEl) {{\n",
              "    x.observe(outputEl, {childList: true});\n",
              "}}\n",
              "\n",
              "                        })                };                });            </script>        </div>"
            ]
          },
          "metadata": {},
          "output_type": "display_data"
        }
      ],
      "source": [
        "\n",
        "fig = px.scatter_matrix(data_frame=cleandata,\n",
        "                        dimensions=[\"curbweight\", \"wheelbase\", \"highwaympg\", \"cylindernumber\"],\n",
        "                        color=\"price\",\n",
        "                        width=1000,\n",
        "                        height=1000,\n",
        "                        title=\"Correlation between multiple variables colour coded by Price\"\n",
        "                        )\n",
        "fig.show()"
      ]
    },
    {
      "cell_type": "markdown",
      "metadata": {},
      "source": [
        "The above scatter plot shows that pretty much all the variables above can be shown to be somewhat, if not very, correlated to the price due based on the colors of each datapoint.\n",
        "Based on the above graphs, I would say the wheelbase is the least correlated with price due to it having at least a few entries in the higher price brackets at both the low end and high end of its values as well as a mix of values around the middle.\n",
        "Variables such as highwaympg and wheelbase can be seen being highly correlated to the price, with the pattern of colours almost following the legend on the side exactly, although the are correlated in opposite ways.\n"
      ]
    },
    {
      "cell_type": "markdown",
      "metadata": {},
      "source": [
        "---"
      ]
    },
    {
      "cell_type": "markdown",
      "metadata": {},
      "source": [
        "NOTE"
      ]
    },
    {
      "cell_type": "markdown",
      "metadata": {},
      "source": [
        "* You may add as many sections as you want, as long as it supports your project workflow.\n",
        "* All notebook's cells should be run top-down (you can't create a dynamic wherein a given point you need to go back to a previous cell to execute some task, like go back to a previous cell and refresh a variable content)"
      ]
    },
    {
      "cell_type": "markdown",
      "metadata": {},
      "source": [
        "---"
      ]
    },
    {
      "cell_type": "markdown",
      "metadata": {
        "id": "ltNetd085qHf"
      },
      "source": [
        "# Conclusions and next steps"
      ]
    },
    {
      "cell_type": "markdown",
      "metadata": {},
      "source": [
        "I would say as a conclusion, my hypothesis was mostly correct in that most of the variables I expected to be highly correlated with price were shown to be in the graphs.\n",
        "There were a few exceptions, such as the brand of the car which was much more correlated with price than I expected, brands like toyota and volvo do have some higher valued vehicles but pretty much all of their sales came from vehicles that were on the cheaper side. However, as you would expect, brands like porsche had cars that were all on the more expensive side of things.\n",
        "I also thought that increased mpg would be responsible for a slightly increased price, however I actually showed that the inverse of this was actually true and it was also one of the values that was most correlated with price, albeit negatively. This can be attributed to the sportier cars with more cylinders/horsepower having worse efficiency while also typically being more expensive.\n",
        "Based on the correlation heatmap, the fueltype and type of car had the least amount of correlation to the price of the car which I found surprising."
      ]
    },
    {
      "cell_type": "markdown",
      "metadata": {},
      "source": [
        "If I had more time or managed my time better, I would have liked to include more graphs/charts in my project, and also keep more of the variables in the project that I had dropped due to time constraints mainly rather than them being redundant. \n",
        "I also would've liked to expand more on the conclusions I drew from the graphs themselves and use more data analytics techniques to back up what I was saying, either visually on the graph or through a function."
      ]
    }
  ],
  "metadata": {
    "accelerator": "GPU",
    "colab": {
      "name": "Data Practitioner Jupyter Notebook.ipynb",
      "provenance": [],
      "toc_visible": true
    },
    "kernelspec": {
      "display_name": "Python 3",
      "language": "python",
      "name": "python3"
    },
    "language_info": {
      "codemirror_mode": {
        "name": "ipython",
        "version": 3
      },
      "file_extension": ".py",
      "mimetype": "text/x-python",
      "name": "python",
      "nbconvert_exporter": "python",
      "pygments_lexer": "ipython3",
      "version": "3.9.20"
    },
    "orig_nbformat": 2
  },
  "nbformat": 4,
  "nbformat_minor": 2
}
